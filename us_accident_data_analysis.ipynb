{
  "nbformat": 4,
  "nbformat_minor": 0,
  "metadata": {
    "kernelspec": {
      "display_name": "Python 3",
      "language": "python",
      "name": "python3"
    },
    "language_info": {
      "codemirror_mode": {
        "name": "ipython",
        "version": 3
      },
      "file_extension": ".py",
      "mimetype": "text/x-python",
      "name": "python",
      "nbconvert_exporter": "python",
      "pygments_lexer": "ipython3",
      "version": "3.7.6"
    },
    "colab": {
      "name": "us-accident-data-analysis.ipynb",
      "provenance": [],
      "include_colab_link": true
    }
  },
  "cells": [
    {
      "cell_type": "markdown",
      "metadata": {
        "id": "view-in-github",
        "colab_type": "text"
      },
      "source": [
        "<a href=\"https://colab.research.google.com/github/Nishant1972/Myfirstrepo-/blob/main/us_accident_data_analysis.ipynb\" target=\"_parent\"><img src=\"https://colab.research.google.com/assets/colab-badge.svg\" alt=\"Open In Colab\"/></a>"
      ]
    },
    {
      "cell_type": "markdown",
      "metadata": {
        "id": "-vNTYuWPTw79"
      },
      "source": [
        "# us-accident-data-analysis\n",
        "\n",
        "Use the \"Run\" button to execute the code."
      ]
    },
    {
      "cell_type": "code",
      "metadata": {
        "id": "DzE3FCXDTw8B"
      },
      "source": [
        "!pip install jovian --upgrade --quiet"
      ],
      "execution_count": 8,
      "outputs": []
    },
    {
      "cell_type": "code",
      "metadata": {
        "id": "LijKoRSMTw8D"
      },
      "source": [
        "import jovian"
      ],
      "execution_count": 7,
      "outputs": []
    },
    {
      "cell_type": "markdown",
      "metadata": {
        "id": "PK6RWAYEVxYI"
      },
      "source": [
        "# US Accidents Exploratory Data Analysis\n",
        "\n",
        "TODO - EDA\n",
        ">TODO - dataset(source, what it contains, how is it useful)\n",
        "       >* Kaggle\n",
        "       >* Information about accidents.\n",
        "       >* can be useful to prevent accidents.\n",
        "       >* Does not contain data about new york. \n",
        "\n",
        "\n",
        "\n",
        "\n",
        "\n",
        "\n",
        "\n"
      ]
    },
    {
      "cell_type": "code",
      "metadata": {
        "id": "FSRn8fGbTw8E"
      },
      "source": [
        "pip install opendatasets --upgrade --quiet"
      ],
      "execution_count": 4,
      "outputs": []
    },
    {
      "cell_type": "markdown",
      "metadata": {
        "id": "PIiAgHbxWJID"
      },
      "source": [
        "##Download the Data"
      ]
    },
    {
      "cell_type": "code",
      "metadata": {
        "colab": {
          "base_uri": "https://localhost:8080/"
        },
        "id": "I1sHfevVVOUJ",
        "outputId": "7cce038f-b2c6-4fea-bf2b-57df5231aaed"
      },
      "source": [
        "import opendatasets as od\n",
        "\n",
        "od.download('https://www.kaggle.com/sobhanmoosavi/us-accidents')"
      ],
      "execution_count": 6,
      "outputs": [
        {
          "output_type": "stream",
          "text": [
            "Please provide your Kaggle credentials to download this dataset. Learn more: http://bit.ly/kaggle-creds\n",
            "Your Kaggle username: nitajry\n",
            "Your Kaggle Key: ··········\n"
          ],
          "name": "stdout"
        },
        {
          "output_type": "stream",
          "text": [
            "\r  0%|          | 0.00/290M [00:00<?, ?B/s]"
          ],
          "name": "stderr"
        },
        {
          "output_type": "stream",
          "text": [
            "Downloading us-accidents.zip to ./us-accidents\n"
          ],
          "name": "stdout"
        },
        {
          "output_type": "stream",
          "text": [
            "100%|██████████| 290M/290M [00:09<00:00, 31.3MB/s]\n"
          ],
          "name": "stderr"
        },
        {
          "output_type": "stream",
          "text": [
            "\n"
          ],
          "name": "stdout"
        }
      ]
    },
    {
      "cell_type": "code",
      "metadata": {
        "id": "_2hgdpjlVNyS"
      },
      "source": [
        "data_file = './us-accidents/US_Accidents_Dec20_Updated.csv'"
      ],
      "execution_count": 9,
      "outputs": []
    },
    {
      "cell_type": "markdown",
      "metadata": {
        "id": "Z5gm0_9DWUgX"
      },
      "source": [
        "##Data Preparation and Cleaning\n",
        "\n",
        "*   Load the file using Pandas.\n",
        "*   Look at some information about data & columns.\n",
        "*   Fix any missing or incorrect values.   "
      ]
    },
    {
      "cell_type": "code",
      "metadata": {
        "id": "W2IfxXL5VNXj"
      },
      "source": [
        "import pandas as pd"
      ],
      "execution_count": 10,
      "outputs": []
    },
    {
      "cell_type": "code",
      "metadata": {
        "id": "Rv3cxkfYVNIO"
      },
      "source": [
        "df = pd.read_csv(data_file)"
      ],
      "execution_count": 12,
      "outputs": []
    },
    {
      "cell_type": "code",
      "metadata": {
        "colab": {
          "base_uri": "https://localhost:8080/",
          "height": 941
        },
        "id": "IR5sqSEWVODS",
        "outputId": "0977d155-44a2-458a-c8ba-8fdb54fcffe7"
      },
      "source": [
        "df"
      ],
      "execution_count": 13,
      "outputs": [
        {
          "output_type": "execute_result",
          "data": {
            "text/html": [
              "<div>\n",
              "<style scoped>\n",
              "    .dataframe tbody tr th:only-of-type {\n",
              "        vertical-align: middle;\n",
              "    }\n",
              "\n",
              "    .dataframe tbody tr th {\n",
              "        vertical-align: top;\n",
              "    }\n",
              "\n",
              "    .dataframe thead th {\n",
              "        text-align: right;\n",
              "    }\n",
              "</style>\n",
              "<table border=\"1\" class=\"dataframe\">\n",
              "  <thead>\n",
              "    <tr style=\"text-align: right;\">\n",
              "      <th></th>\n",
              "      <th>ID</th>\n",
              "      <th>Severity</th>\n",
              "      <th>Start_Time</th>\n",
              "      <th>End_Time</th>\n",
              "      <th>Start_Lat</th>\n",
              "      <th>Start_Lng</th>\n",
              "      <th>End_Lat</th>\n",
              "      <th>End_Lng</th>\n",
              "      <th>Distance(mi)</th>\n",
              "      <th>Description</th>\n",
              "      <th>Number</th>\n",
              "      <th>Street</th>\n",
              "      <th>Side</th>\n",
              "      <th>City</th>\n",
              "      <th>County</th>\n",
              "      <th>State</th>\n",
              "      <th>Zipcode</th>\n",
              "      <th>Country</th>\n",
              "      <th>Timezone</th>\n",
              "      <th>Airport_Code</th>\n",
              "      <th>Weather_Timestamp</th>\n",
              "      <th>Temperature(F)</th>\n",
              "      <th>Wind_Chill(F)</th>\n",
              "      <th>Humidity(%)</th>\n",
              "      <th>Pressure(in)</th>\n",
              "      <th>Visibility(mi)</th>\n",
              "      <th>Wind_Direction</th>\n",
              "      <th>Wind_Speed(mph)</th>\n",
              "      <th>Precipitation(in)</th>\n",
              "      <th>Weather_Condition</th>\n",
              "      <th>Amenity</th>\n",
              "      <th>Bump</th>\n",
              "      <th>Crossing</th>\n",
              "      <th>Give_Way</th>\n",
              "      <th>Junction</th>\n",
              "      <th>No_Exit</th>\n",
              "      <th>Railway</th>\n",
              "      <th>Roundabout</th>\n",
              "      <th>Station</th>\n",
              "      <th>Stop</th>\n",
              "      <th>Traffic_Calming</th>\n",
              "      <th>Traffic_Signal</th>\n",
              "      <th>Turning_Loop</th>\n",
              "      <th>Sunrise_Sunset</th>\n",
              "      <th>Civil_Twilight</th>\n",
              "      <th>Nautical_Twilight</th>\n",
              "      <th>Astronomical_Twilight</th>\n",
              "    </tr>\n",
              "  </thead>\n",
              "  <tbody>\n",
              "    <tr>\n",
              "      <th>0</th>\n",
              "      <td>A-1</td>\n",
              "      <td>2</td>\n",
              "      <td>2019-05-21 08:29:55</td>\n",
              "      <td>2019-05-21 09:29:40</td>\n",
              "      <td>34.808868</td>\n",
              "      <td>-82.269157</td>\n",
              "      <td>34.808868</td>\n",
              "      <td>-82.269157</td>\n",
              "      <td>0.000</td>\n",
              "      <td>Accident on Tanner Rd at Pennbrooke Ln.</td>\n",
              "      <td>439.0</td>\n",
              "      <td>Tanner Rd</td>\n",
              "      <td>R</td>\n",
              "      <td>Greenville</td>\n",
              "      <td>Greenville</td>\n",
              "      <td>SC</td>\n",
              "      <td>29607-6027</td>\n",
              "      <td>US</td>\n",
              "      <td>US/Eastern</td>\n",
              "      <td>KGMU</td>\n",
              "      <td>2019-05-21 08:53:00</td>\n",
              "      <td>76.0</td>\n",
              "      <td>76.0</td>\n",
              "      <td>52.0</td>\n",
              "      <td>28.91</td>\n",
              "      <td>10.0</td>\n",
              "      <td>N</td>\n",
              "      <td>7.0</td>\n",
              "      <td>0.0</td>\n",
              "      <td>Fair</td>\n",
              "      <td>False</td>\n",
              "      <td>False</td>\n",
              "      <td>False</td>\n",
              "      <td>False</td>\n",
              "      <td>False</td>\n",
              "      <td>False</td>\n",
              "      <td>False</td>\n",
              "      <td>False</td>\n",
              "      <td>False</td>\n",
              "      <td>False</td>\n",
              "      <td>False</td>\n",
              "      <td>False</td>\n",
              "      <td>False</td>\n",
              "      <td>Day</td>\n",
              "      <td>Day</td>\n",
              "      <td>Day</td>\n",
              "      <td>Day</td>\n",
              "    </tr>\n",
              "    <tr>\n",
              "      <th>1</th>\n",
              "      <td>A-2</td>\n",
              "      <td>2</td>\n",
              "      <td>2019-10-07 17:43:09</td>\n",
              "      <td>2019-10-07 19:42:50</td>\n",
              "      <td>35.090080</td>\n",
              "      <td>-80.745560</td>\n",
              "      <td>35.090080</td>\n",
              "      <td>-80.745560</td>\n",
              "      <td>0.000</td>\n",
              "      <td>Accident on Houston Branch Rd at Providence Br...</td>\n",
              "      <td>3299.0</td>\n",
              "      <td>Providence Branch Ln</td>\n",
              "      <td>R</td>\n",
              "      <td>Charlotte</td>\n",
              "      <td>Mecklenburg</td>\n",
              "      <td>NC</td>\n",
              "      <td>28270-8560</td>\n",
              "      <td>US</td>\n",
              "      <td>US/Eastern</td>\n",
              "      <td>KEQY</td>\n",
              "      <td>2019-10-07 17:53:00</td>\n",
              "      <td>76.0</td>\n",
              "      <td>76.0</td>\n",
              "      <td>62.0</td>\n",
              "      <td>29.30</td>\n",
              "      <td>10.0</td>\n",
              "      <td>VAR</td>\n",
              "      <td>3.0</td>\n",
              "      <td>0.0</td>\n",
              "      <td>Cloudy</td>\n",
              "      <td>False</td>\n",
              "      <td>False</td>\n",
              "      <td>False</td>\n",
              "      <td>False</td>\n",
              "      <td>False</td>\n",
              "      <td>False</td>\n",
              "      <td>False</td>\n",
              "      <td>False</td>\n",
              "      <td>False</td>\n",
              "      <td>False</td>\n",
              "      <td>False</td>\n",
              "      <td>False</td>\n",
              "      <td>False</td>\n",
              "      <td>Day</td>\n",
              "      <td>Day</td>\n",
              "      <td>Day</td>\n",
              "      <td>Day</td>\n",
              "    </tr>\n",
              "    <tr>\n",
              "      <th>2</th>\n",
              "      <td>A-3</td>\n",
              "      <td>2</td>\n",
              "      <td>2020-12-13 21:53:00</td>\n",
              "      <td>2020-12-13 22:44:00</td>\n",
              "      <td>37.145730</td>\n",
              "      <td>-121.985052</td>\n",
              "      <td>37.165850</td>\n",
              "      <td>-121.988062</td>\n",
              "      <td>1.400</td>\n",
              "      <td>Stationary traffic on CA-17 from Summit Rd (CA...</td>\n",
              "      <td>NaN</td>\n",
              "      <td>Santa Cruz Hwy</td>\n",
              "      <td>R</td>\n",
              "      <td>Los Gatos</td>\n",
              "      <td>Santa Clara</td>\n",
              "      <td>CA</td>\n",
              "      <td>95033</td>\n",
              "      <td>US</td>\n",
              "      <td>US/Pacific</td>\n",
              "      <td>KSJC</td>\n",
              "      <td>2020-12-13 21:53:00</td>\n",
              "      <td>51.0</td>\n",
              "      <td>51.0</td>\n",
              "      <td>80.0</td>\n",
              "      <td>30.17</td>\n",
              "      <td>10.0</td>\n",
              "      <td>W</td>\n",
              "      <td>6.0</td>\n",
              "      <td>0.0</td>\n",
              "      <td>Fair</td>\n",
              "      <td>False</td>\n",
              "      <td>False</td>\n",
              "      <td>False</td>\n",
              "      <td>False</td>\n",
              "      <td>False</td>\n",
              "      <td>False</td>\n",
              "      <td>False</td>\n",
              "      <td>False</td>\n",
              "      <td>False</td>\n",
              "      <td>False</td>\n",
              "      <td>False</td>\n",
              "      <td>False</td>\n",
              "      <td>False</td>\n",
              "      <td>Night</td>\n",
              "      <td>Night</td>\n",
              "      <td>Night</td>\n",
              "      <td>Night</td>\n",
              "    </tr>\n",
              "    <tr>\n",
              "      <th>3</th>\n",
              "      <td>A-4</td>\n",
              "      <td>2</td>\n",
              "      <td>2018-04-17 16:51:23</td>\n",
              "      <td>2018-04-17 17:50:46</td>\n",
              "      <td>39.110390</td>\n",
              "      <td>-119.773781</td>\n",
              "      <td>39.110390</td>\n",
              "      <td>-119.773781</td>\n",
              "      <td>0.000</td>\n",
              "      <td>Accident on US-395 Southbound at Topsy Ln.</td>\n",
              "      <td>NaN</td>\n",
              "      <td>US Highway 395 S</td>\n",
              "      <td>R</td>\n",
              "      <td>Carson City</td>\n",
              "      <td>Douglas</td>\n",
              "      <td>NV</td>\n",
              "      <td>89705</td>\n",
              "      <td>US</td>\n",
              "      <td>US/Pacific</td>\n",
              "      <td>KCXP</td>\n",
              "      <td>2018-04-17 16:55:00</td>\n",
              "      <td>53.6</td>\n",
              "      <td>NaN</td>\n",
              "      <td>16.0</td>\n",
              "      <td>30.16</td>\n",
              "      <td>10.0</td>\n",
              "      <td>SSW</td>\n",
              "      <td>4.6</td>\n",
              "      <td>NaN</td>\n",
              "      <td>Clear</td>\n",
              "      <td>False</td>\n",
              "      <td>False</td>\n",
              "      <td>False</td>\n",
              "      <td>False</td>\n",
              "      <td>False</td>\n",
              "      <td>False</td>\n",
              "      <td>False</td>\n",
              "      <td>False</td>\n",
              "      <td>False</td>\n",
              "      <td>False</td>\n",
              "      <td>False</td>\n",
              "      <td>True</td>\n",
              "      <td>False</td>\n",
              "      <td>Day</td>\n",
              "      <td>Day</td>\n",
              "      <td>Day</td>\n",
              "      <td>Day</td>\n",
              "    </tr>\n",
              "    <tr>\n",
              "      <th>4</th>\n",
              "      <td>A-5</td>\n",
              "      <td>3</td>\n",
              "      <td>2016-08-31 17:40:49</td>\n",
              "      <td>2016-08-31 18:10:49</td>\n",
              "      <td>26.102942</td>\n",
              "      <td>-80.265091</td>\n",
              "      <td>26.102942</td>\n",
              "      <td>-80.265091</td>\n",
              "      <td>0.000</td>\n",
              "      <td>Accident on I-595 Westbound at Exit 4 / Pine I...</td>\n",
              "      <td>NaN</td>\n",
              "      <td>I-595 W</td>\n",
              "      <td>R</td>\n",
              "      <td>Fort Lauderdale</td>\n",
              "      <td>Broward</td>\n",
              "      <td>FL</td>\n",
              "      <td>33324</td>\n",
              "      <td>US</td>\n",
              "      <td>US/Eastern</td>\n",
              "      <td>KHWO</td>\n",
              "      <td>2016-08-31 17:53:00</td>\n",
              "      <td>84.2</td>\n",
              "      <td>NaN</td>\n",
              "      <td>84.0</td>\n",
              "      <td>29.92</td>\n",
              "      <td>10.0</td>\n",
              "      <td>SSE</td>\n",
              "      <td>13.8</td>\n",
              "      <td>NaN</td>\n",
              "      <td>Overcast</td>\n",
              "      <td>False</td>\n",
              "      <td>False</td>\n",
              "      <td>False</td>\n",
              "      <td>False</td>\n",
              "      <td>True</td>\n",
              "      <td>False</td>\n",
              "      <td>False</td>\n",
              "      <td>False</td>\n",
              "      <td>False</td>\n",
              "      <td>False</td>\n",
              "      <td>False</td>\n",
              "      <td>True</td>\n",
              "      <td>False</td>\n",
              "      <td>Day</td>\n",
              "      <td>Day</td>\n",
              "      <td>Day</td>\n",
              "      <td>Day</td>\n",
              "    </tr>\n",
              "    <tr>\n",
              "      <th>...</th>\n",
              "      <td>...</td>\n",
              "      <td>...</td>\n",
              "      <td>...</td>\n",
              "      <td>...</td>\n",
              "      <td>...</td>\n",
              "      <td>...</td>\n",
              "      <td>...</td>\n",
              "      <td>...</td>\n",
              "      <td>...</td>\n",
              "      <td>...</td>\n",
              "      <td>...</td>\n",
              "      <td>...</td>\n",
              "      <td>...</td>\n",
              "      <td>...</td>\n",
              "      <td>...</td>\n",
              "      <td>...</td>\n",
              "      <td>...</td>\n",
              "      <td>...</td>\n",
              "      <td>...</td>\n",
              "      <td>...</td>\n",
              "      <td>...</td>\n",
              "      <td>...</td>\n",
              "      <td>...</td>\n",
              "      <td>...</td>\n",
              "      <td>...</td>\n",
              "      <td>...</td>\n",
              "      <td>...</td>\n",
              "      <td>...</td>\n",
              "      <td>...</td>\n",
              "      <td>...</td>\n",
              "      <td>...</td>\n",
              "      <td>...</td>\n",
              "      <td>...</td>\n",
              "      <td>...</td>\n",
              "      <td>...</td>\n",
              "      <td>...</td>\n",
              "      <td>...</td>\n",
              "      <td>...</td>\n",
              "      <td>...</td>\n",
              "      <td>...</td>\n",
              "      <td>...</td>\n",
              "      <td>...</td>\n",
              "      <td>...</td>\n",
              "      <td>...</td>\n",
              "      <td>...</td>\n",
              "      <td>...</td>\n",
              "      <td>...</td>\n",
              "    </tr>\n",
              "    <tr>\n",
              "      <th>2906605</th>\n",
              "      <td>A-2906606</td>\n",
              "      <td>2</td>\n",
              "      <td>2018-06-28 08:49:01</td>\n",
              "      <td>2018-06-28 09:18:51</td>\n",
              "      <td>29.813824</td>\n",
              "      <td>-95.399437</td>\n",
              "      <td>29.813824</td>\n",
              "      <td>-95.399437</td>\n",
              "      <td>0.000</td>\n",
              "      <td>Accident on 30th St at Yale St.</td>\n",
              "      <td>3001.0</td>\n",
              "      <td>Yale St</td>\n",
              "      <td>L</td>\n",
              "      <td>Houston</td>\n",
              "      <td>Harris</td>\n",
              "      <td>TX</td>\n",
              "      <td>77018-8433</td>\n",
              "      <td>US</td>\n",
              "      <td>US/Central</td>\n",
              "      <td>KMCJ</td>\n",
              "      <td>2018-06-28 08:35:00</td>\n",
              "      <td>84.2</td>\n",
              "      <td>NaN</td>\n",
              "      <td>70.0</td>\n",
              "      <td>30.02</td>\n",
              "      <td>9.0</td>\n",
              "      <td>Variable</td>\n",
              "      <td>5.8</td>\n",
              "      <td>NaN</td>\n",
              "      <td>Clear</td>\n",
              "      <td>False</td>\n",
              "      <td>False</td>\n",
              "      <td>False</td>\n",
              "      <td>False</td>\n",
              "      <td>False</td>\n",
              "      <td>False</td>\n",
              "      <td>False</td>\n",
              "      <td>False</td>\n",
              "      <td>False</td>\n",
              "      <td>True</td>\n",
              "      <td>False</td>\n",
              "      <td>False</td>\n",
              "      <td>False</td>\n",
              "      <td>Day</td>\n",
              "      <td>Day</td>\n",
              "      <td>Day</td>\n",
              "      <td>Day</td>\n",
              "    </tr>\n",
              "    <tr>\n",
              "      <th>2906606</th>\n",
              "      <td>A-2906607</td>\n",
              "      <td>2</td>\n",
              "      <td>2019-01-10 02:01:01</td>\n",
              "      <td>2019-01-10 02:30:32</td>\n",
              "      <td>34.068890</td>\n",
              "      <td>-117.342010</td>\n",
              "      <td>34.068890</td>\n",
              "      <td>-117.342010</td>\n",
              "      <td>0.000</td>\n",
              "      <td>At Valley Blvd - Accident.</td>\n",
              "      <td>NaN</td>\n",
              "      <td>Cypress Ave</td>\n",
              "      <td>R</td>\n",
              "      <td>Colton</td>\n",
              "      <td>San Bernardino</td>\n",
              "      <td>CA</td>\n",
              "      <td>92324</td>\n",
              "      <td>US</td>\n",
              "      <td>US/Pacific</td>\n",
              "      <td>KSBD</td>\n",
              "      <td>2019-01-10 02:00:00</td>\n",
              "      <td>46.9</td>\n",
              "      <td>NaN</td>\n",
              "      <td>74.0</td>\n",
              "      <td>30.14</td>\n",
              "      <td>10.0</td>\n",
              "      <td>Calm</td>\n",
              "      <td>NaN</td>\n",
              "      <td>NaN</td>\n",
              "      <td>Clear</td>\n",
              "      <td>False</td>\n",
              "      <td>False</td>\n",
              "      <td>False</td>\n",
              "      <td>False</td>\n",
              "      <td>False</td>\n",
              "      <td>False</td>\n",
              "      <td>False</td>\n",
              "      <td>False</td>\n",
              "      <td>False</td>\n",
              "      <td>False</td>\n",
              "      <td>False</td>\n",
              "      <td>False</td>\n",
              "      <td>False</td>\n",
              "      <td>Night</td>\n",
              "      <td>Night</td>\n",
              "      <td>Night</td>\n",
              "      <td>Night</td>\n",
              "    </tr>\n",
              "    <tr>\n",
              "      <th>2906607</th>\n",
              "      <td>A-2906608</td>\n",
              "      <td>2</td>\n",
              "      <td>2020-11-23 12:52:00</td>\n",
              "      <td>2020-11-24 00:47:37</td>\n",
              "      <td>25.702200</td>\n",
              "      <td>-80.335556</td>\n",
              "      <td>25.703040</td>\n",
              "      <td>-80.334099</td>\n",
              "      <td>0.108</td>\n",
              "      <td>Stationary traffic on County Hwy-913 - FL-986 ...</td>\n",
              "      <td>8798.0</td>\n",
              "      <td>SW 72nd St</td>\n",
              "      <td>L</td>\n",
              "      <td>Miami</td>\n",
              "      <td>Miami-Dade</td>\n",
              "      <td>FL</td>\n",
              "      <td>33173-3512</td>\n",
              "      <td>US</td>\n",
              "      <td>US/Eastern</td>\n",
              "      <td>KTMB</td>\n",
              "      <td>2020-11-23 12:53:00</td>\n",
              "      <td>76.0</td>\n",
              "      <td>76.0</td>\n",
              "      <td>85.0</td>\n",
              "      <td>30.00</td>\n",
              "      <td>10.0</td>\n",
              "      <td>NNW</td>\n",
              "      <td>16.0</td>\n",
              "      <td>0.0</td>\n",
              "      <td>Mostly Cloudy</td>\n",
              "      <td>False</td>\n",
              "      <td>False</td>\n",
              "      <td>False</td>\n",
              "      <td>False</td>\n",
              "      <td>False</td>\n",
              "      <td>False</td>\n",
              "      <td>False</td>\n",
              "      <td>False</td>\n",
              "      <td>False</td>\n",
              "      <td>False</td>\n",
              "      <td>False</td>\n",
              "      <td>False</td>\n",
              "      <td>False</td>\n",
              "      <td>Day</td>\n",
              "      <td>Day</td>\n",
              "      <td>Day</td>\n",
              "      <td>Day</td>\n",
              "    </tr>\n",
              "    <tr>\n",
              "      <th>2906608</th>\n",
              "      <td>A-2906609</td>\n",
              "      <td>2</td>\n",
              "      <td>2019-12-29 22:38:00</td>\n",
              "      <td>2019-12-29 23:38:00</td>\n",
              "      <td>40.660140</td>\n",
              "      <td>-111.952460</td>\n",
              "      <td>40.660140</td>\n",
              "      <td>-111.952460</td>\n",
              "      <td>0.000</td>\n",
              "      <td>At UT-266/4700/Exit 15 - Accident.</td>\n",
              "      <td>NaN</td>\n",
              "      <td>I-215 N</td>\n",
              "      <td>R</td>\n",
              "      <td>Salt Lake City</td>\n",
              "      <td>Salt Lake</td>\n",
              "      <td>UT</td>\n",
              "      <td>84129</td>\n",
              "      <td>US</td>\n",
              "      <td>US/Mountain</td>\n",
              "      <td>KU42</td>\n",
              "      <td>2019-12-29 22:54:00</td>\n",
              "      <td>27.0</td>\n",
              "      <td>19.0</td>\n",
              "      <td>81.0</td>\n",
              "      <td>25.81</td>\n",
              "      <td>10.0</td>\n",
              "      <td>SSE</td>\n",
              "      <td>8.0</td>\n",
              "      <td>0.0</td>\n",
              "      <td>Cloudy</td>\n",
              "      <td>False</td>\n",
              "      <td>False</td>\n",
              "      <td>False</td>\n",
              "      <td>False</td>\n",
              "      <td>False</td>\n",
              "      <td>False</td>\n",
              "      <td>False</td>\n",
              "      <td>False</td>\n",
              "      <td>False</td>\n",
              "      <td>False</td>\n",
              "      <td>False</td>\n",
              "      <td>False</td>\n",
              "      <td>False</td>\n",
              "      <td>Night</td>\n",
              "      <td>Night</td>\n",
              "      <td>Night</td>\n",
              "      <td>Night</td>\n",
              "    </tr>\n",
              "    <tr>\n",
              "      <th>2906609</th>\n",
              "      <td>A-2906610</td>\n",
              "      <td>2</td>\n",
              "      <td>2018-03-26 13:35:03</td>\n",
              "      <td>2018-03-26 14:39:00</td>\n",
              "      <td>38.831749</td>\n",
              "      <td>-104.748161</td>\n",
              "      <td>38.831749</td>\n",
              "      <td>-104.748161</td>\n",
              "      <td>0.000</td>\n",
              "      <td>Accident on Murray Blvd at Byron Dr.</td>\n",
              "      <td>NaN</td>\n",
              "      <td>Byron Dr</td>\n",
              "      <td>R</td>\n",
              "      <td>Colorado Springs</td>\n",
              "      <td>El Paso</td>\n",
              "      <td>CO</td>\n",
              "      <td>80916</td>\n",
              "      <td>US</td>\n",
              "      <td>US/Mountain</td>\n",
              "      <td>KCOS</td>\n",
              "      <td>2018-03-26 13:54:00</td>\n",
              "      <td>51.1</td>\n",
              "      <td>NaN</td>\n",
              "      <td>38.0</td>\n",
              "      <td>29.77</td>\n",
              "      <td>10.0</td>\n",
              "      <td>SE</td>\n",
              "      <td>13.8</td>\n",
              "      <td>NaN</td>\n",
              "      <td>Scattered Clouds</td>\n",
              "      <td>False</td>\n",
              "      <td>False</td>\n",
              "      <td>True</td>\n",
              "      <td>False</td>\n",
              "      <td>False</td>\n",
              "      <td>False</td>\n",
              "      <td>False</td>\n",
              "      <td>False</td>\n",
              "      <td>False</td>\n",
              "      <td>False</td>\n",
              "      <td>False</td>\n",
              "      <td>True</td>\n",
              "      <td>False</td>\n",
              "      <td>Day</td>\n",
              "      <td>Day</td>\n",
              "      <td>Day</td>\n",
              "      <td>Day</td>\n",
              "    </tr>\n",
              "  </tbody>\n",
              "</table>\n",
              "<p>2906610 rows × 47 columns</p>\n",
              "</div>"
            ],
            "text/plain": [
              "                ID  Severity  ... Nautical_Twilight Astronomical_Twilight\n",
              "0              A-1         2  ...               Day                   Day\n",
              "1              A-2         2  ...               Day                   Day\n",
              "2              A-3         2  ...             Night                 Night\n",
              "3              A-4         2  ...               Day                   Day\n",
              "4              A-5         3  ...               Day                   Day\n",
              "...            ...       ...  ...               ...                   ...\n",
              "2906605  A-2906606         2  ...               Day                   Day\n",
              "2906606  A-2906607         2  ...             Night                 Night\n",
              "2906607  A-2906608         2  ...               Day                   Day\n",
              "2906608  A-2906609         2  ...             Night                 Night\n",
              "2906609  A-2906610         2  ...               Day                   Day\n",
              "\n",
              "[2906610 rows x 47 columns]"
            ]
          },
          "metadata": {
            "tags": []
          },
          "execution_count": 13
        }
      ]
    },
    {
      "cell_type": "code",
      "metadata": {
        "colab": {
          "base_uri": "https://localhost:8080/"
        },
        "id": "abqrqU-QmT8w",
        "outputId": "130b29d1-db2f-4a43-aecd-b503248327dd"
      },
      "source": [
        "df.columns"
      ],
      "execution_count": 14,
      "outputs": [
        {
          "output_type": "execute_result",
          "data": {
            "text/plain": [
              "Index(['ID', 'Severity', 'Start_Time', 'End_Time', 'Start_Lat', 'Start_Lng',\n",
              "       'End_Lat', 'End_Lng', 'Distance(mi)', 'Description', 'Number', 'Street',\n",
              "       'Side', 'City', 'County', 'State', 'Zipcode', 'Country', 'Timezone',\n",
              "       'Airport_Code', 'Weather_Timestamp', 'Temperature(F)', 'Wind_Chill(F)',\n",
              "       'Humidity(%)', 'Pressure(in)', 'Visibility(mi)', 'Wind_Direction',\n",
              "       'Wind_Speed(mph)', 'Precipitation(in)', 'Weather_Condition', 'Amenity',\n",
              "       'Bump', 'Crossing', 'Give_Way', 'Junction', 'No_Exit', 'Railway',\n",
              "       'Roundabout', 'Station', 'Stop', 'Traffic_Calming', 'Traffic_Signal',\n",
              "       'Turning_Loop', 'Sunrise_Sunset', 'Civil_Twilight', 'Nautical_Twilight',\n",
              "       'Astronomical_Twilight'],\n",
              "      dtype='object')"
            ]
          },
          "metadata": {
            "tags": []
          },
          "execution_count": 14
        }
      ]
    },
    {
      "cell_type": "code",
      "metadata": {
        "colab": {
          "base_uri": "https://localhost:8080/"
        },
        "id": "FkO10blemT4v",
        "outputId": "cd00b215-d83d-45d7-dab3-2fde455f3a66"
      },
      "source": [
        "len(df.columns)"
      ],
      "execution_count": 15,
      "outputs": [
        {
          "output_type": "execute_result",
          "data": {
            "text/plain": [
              "47"
            ]
          },
          "metadata": {
            "tags": []
          },
          "execution_count": 15
        }
      ]
    },
    {
      "cell_type": "code",
      "metadata": {
        "colab": {
          "base_uri": "https://localhost:8080/"
        },
        "id": "SIOcCuKMVMTY",
        "outputId": "62665cb2-c085-4e87-94af-6907ad6d01d9"
      },
      "source": [
        "df.info()"
      ],
      "execution_count": 17,
      "outputs": [
        {
          "output_type": "stream",
          "text": [
            "<class 'pandas.core.frame.DataFrame'>\n",
            "RangeIndex: 2906610 entries, 0 to 2906609\n",
            "Data columns (total 47 columns):\n",
            " #   Column                 Dtype  \n",
            "---  ------                 -----  \n",
            " 0   ID                     object \n",
            " 1   Severity               int64  \n",
            " 2   Start_Time             object \n",
            " 3   End_Time               object \n",
            " 4   Start_Lat              float64\n",
            " 5   Start_Lng              float64\n",
            " 6   End_Lat                float64\n",
            " 7   End_Lng                float64\n",
            " 8   Distance(mi)           float64\n",
            " 9   Description            object \n",
            " 10  Number                 float64\n",
            " 11  Street                 object \n",
            " 12  Side                   object \n",
            " 13  City                   object \n",
            " 14  County                 object \n",
            " 15  State                  object \n",
            " 16  Zipcode                object \n",
            " 17  Country                object \n",
            " 18  Timezone               object \n",
            " 19  Airport_Code           object \n",
            " 20  Weather_Timestamp      object \n",
            " 21  Temperature(F)         float64\n",
            " 22  Wind_Chill(F)          float64\n",
            " 23  Humidity(%)            float64\n",
            " 24  Pressure(in)           float64\n",
            " 25  Visibility(mi)         float64\n",
            " 26  Wind_Direction         object \n",
            " 27  Wind_Speed(mph)        float64\n",
            " 28  Precipitation(in)      float64\n",
            " 29  Weather_Condition      object \n",
            " 30  Amenity                bool   \n",
            " 31  Bump                   bool   \n",
            " 32  Crossing               bool   \n",
            " 33  Give_Way               bool   \n",
            " 34  Junction               bool   \n",
            " 35  No_Exit                bool   \n",
            " 36  Railway                bool   \n",
            " 37  Roundabout             bool   \n",
            " 38  Station                bool   \n",
            " 39  Stop                   bool   \n",
            " 40  Traffic_Calming        bool   \n",
            " 41  Traffic_Signal         bool   \n",
            " 42  Turning_Loop           bool   \n",
            " 43  Sunrise_Sunset         object \n",
            " 44  Civil_Twilight         object \n",
            " 45  Nautical_Twilight      object \n",
            " 46  Astronomical_Twilight  object \n",
            "dtypes: bool(13), float64(13), int64(1), object(20)\n",
            "memory usage: 790.0+ MB\n"
          ],
          "name": "stdout"
        }
      ]
    },
    {
      "cell_type": "code",
      "metadata": {
        "colab": {
          "base_uri": "https://localhost:8080/",
          "height": 315
        },
        "id": "N0egs8ZqnDnr",
        "outputId": "9dc7a923-aba7-4019-c66c-0f071cd060ef"
      },
      "source": [
        "df.describe()"
      ],
      "execution_count": 18,
      "outputs": [
        {
          "output_type": "execute_result",
          "data": {
            "text/html": [
              "<div>\n",
              "<style scoped>\n",
              "    .dataframe tbody tr th:only-of-type {\n",
              "        vertical-align: middle;\n",
              "    }\n",
              "\n",
              "    .dataframe tbody tr th {\n",
              "        vertical-align: top;\n",
              "    }\n",
              "\n",
              "    .dataframe thead th {\n",
              "        text-align: right;\n",
              "    }\n",
              "</style>\n",
              "<table border=\"1\" class=\"dataframe\">\n",
              "  <thead>\n",
              "    <tr style=\"text-align: right;\">\n",
              "      <th></th>\n",
              "      <th>Severity</th>\n",
              "      <th>Start_Lat</th>\n",
              "      <th>Start_Lng</th>\n",
              "      <th>End_Lat</th>\n",
              "      <th>End_Lng</th>\n",
              "      <th>Distance(mi)</th>\n",
              "      <th>Number</th>\n",
              "      <th>Temperature(F)</th>\n",
              "      <th>Wind_Chill(F)</th>\n",
              "      <th>Humidity(%)</th>\n",
              "      <th>Pressure(in)</th>\n",
              "      <th>Visibility(mi)</th>\n",
              "      <th>Wind_Speed(mph)</th>\n",
              "      <th>Precipitation(in)</th>\n",
              "    </tr>\n",
              "  </thead>\n",
              "  <tbody>\n",
              "    <tr>\n",
              "      <th>count</th>\n",
              "      <td>2.906610e+06</td>\n",
              "      <td>2.906610e+06</td>\n",
              "      <td>2.906610e+06</td>\n",
              "      <td>2.623789e+06</td>\n",
              "      <td>2.623789e+06</td>\n",
              "      <td>2.906610e+06</td>\n",
              "      <td>1.014938e+06</td>\n",
              "      <td>2.839386e+06</td>\n",
              "      <td>1.722751e+06</td>\n",
              "      <td>2.835340e+06</td>\n",
              "      <td>2.849702e+06</td>\n",
              "      <td>2.834532e+06</td>\n",
              "      <td>2.599447e+06</td>\n",
              "      <td>1.605284e+06</td>\n",
              "    </tr>\n",
              "    <tr>\n",
              "      <th>mean</th>\n",
              "      <td>2.288649e+00</td>\n",
              "      <td>3.653027e+01</td>\n",
              "      <td>-9.642676e+01</td>\n",
              "      <td>3.651733e+01</td>\n",
              "      <td>-9.620367e+01</td>\n",
              "      <td>3.980541e-01</td>\n",
              "      <td>6.789728e+03</td>\n",
              "      <td>6.098873e+01</td>\n",
              "      <td>5.499048e+01</td>\n",
              "      <td>6.537758e+01</td>\n",
              "      <td>2.965685e+01</td>\n",
              "      <td>9.116766e+00</td>\n",
              "      <td>7.818111e+00</td>\n",
              "      <td>1.119459e-02</td>\n",
              "    </tr>\n",
              "    <tr>\n",
              "      <th>std</th>\n",
              "      <td>5.541618e-01</td>\n",
              "      <td>5.013964e+00</td>\n",
              "      <td>1.775412e+01</td>\n",
              "      <td>5.016609e+00</td>\n",
              "      <td>1.765971e+01</td>\n",
              "      <td>1.592556e+00</td>\n",
              "      <td>1.697225e+04</td>\n",
              "      <td>1.845258e+01</td>\n",
              "      <td>2.219542e+01</td>\n",
              "      <td>2.287854e+01</td>\n",
              "      <td>9.094133e-01</td>\n",
              "      <td>2.837271e+00</td>\n",
              "      <td>5.431171e+00</td>\n",
              "      <td>1.540812e-01</td>\n",
              "    </tr>\n",
              "    <tr>\n",
              "      <th>min</th>\n",
              "      <td>1.000000e+00</td>\n",
              "      <td>2.455527e+01</td>\n",
              "      <td>-1.246238e+02</td>\n",
              "      <td>2.455527e+01</td>\n",
              "      <td>-1.246238e+02</td>\n",
              "      <td>0.000000e+00</td>\n",
              "      <td>0.000000e+00</td>\n",
              "      <td>-8.900000e+01</td>\n",
              "      <td>-8.900000e+01</td>\n",
              "      <td>1.000000e+00</td>\n",
              "      <td>0.000000e+00</td>\n",
              "      <td>0.000000e+00</td>\n",
              "      <td>0.000000e+00</td>\n",
              "      <td>0.000000e+00</td>\n",
              "    </tr>\n",
              "    <tr>\n",
              "      <th>25%</th>\n",
              "      <td>2.000000e+00</td>\n",
              "      <td>3.366453e+01</td>\n",
              "      <td>-1.178232e+02</td>\n",
              "      <td>3.364659e+01</td>\n",
              "      <td>-1.177020e+02</td>\n",
              "      <td>0.000000e+00</td>\n",
              "      <td>9.650000e+02</td>\n",
              "      <td>4.890000e+01</td>\n",
              "      <td>3.900000e+01</td>\n",
              "      <td>4.900000e+01</td>\n",
              "      <td>2.959000e+01</td>\n",
              "      <td>1.000000e+01</td>\n",
              "      <td>4.600000e+00</td>\n",
              "      <td>0.000000e+00</td>\n",
              "    </tr>\n",
              "    <tr>\n",
              "      <th>50%</th>\n",
              "      <td>2.000000e+00</td>\n",
              "      <td>3.609977e+01</td>\n",
              "      <td>-9.116690e+01</td>\n",
              "      <td>3.605898e+01</td>\n",
              "      <td>-9.105163e+01</td>\n",
              "      <td>0.000000e+00</td>\n",
              "      <td>3.093000e+03</td>\n",
              "      <td>6.300000e+01</td>\n",
              "      <td>5.800000e+01</td>\n",
              "      <td>6.800000e+01</td>\n",
              "      <td>2.992000e+01</td>\n",
              "      <td>1.000000e+01</td>\n",
              "      <td>7.000000e+00</td>\n",
              "      <td>0.000000e+00</td>\n",
              "    </tr>\n",
              "    <tr>\n",
              "      <th>75%</th>\n",
              "      <td>3.000000e+00</td>\n",
              "      <td>4.037505e+01</td>\n",
              "      <td>-8.085814e+01</td>\n",
              "      <td>4.033133e+01</td>\n",
              "      <td>-8.084679e+01</td>\n",
              "      <td>2.790000e-01</td>\n",
              "      <td>7.976000e+03</td>\n",
              "      <td>7.500000e+01</td>\n",
              "      <td>7.200000e+01</td>\n",
              "      <td>8.500000e+01</td>\n",
              "      <td>3.007000e+01</td>\n",
              "      <td>1.000000e+01</td>\n",
              "      <td>1.040000e+01</td>\n",
              "      <td>0.000000e+00</td>\n",
              "    </tr>\n",
              "    <tr>\n",
              "      <th>max</th>\n",
              "      <td>4.000000e+00</td>\n",
              "      <td>4.900220e+01</td>\n",
              "      <td>-6.711317e+01</td>\n",
              "      <td>4.907500e+01</td>\n",
              "      <td>-6.710924e+01</td>\n",
              "      <td>3.336300e+02</td>\n",
              "      <td>9.999997e+06</td>\n",
              "      <td>2.030000e+02</td>\n",
              "      <td>1.740000e+02</td>\n",
              "      <td>1.000000e+02</td>\n",
              "      <td>5.804000e+01</td>\n",
              "      <td>1.400000e+02</td>\n",
              "      <td>9.840000e+02</td>\n",
              "      <td>2.400000e+01</td>\n",
              "    </tr>\n",
              "  </tbody>\n",
              "</table>\n",
              "</div>"
            ],
            "text/plain": [
              "           Severity     Start_Lat  ...  Wind_Speed(mph)  Precipitation(in)\n",
              "count  2.906610e+06  2.906610e+06  ...     2.599447e+06       1.605284e+06\n",
              "mean   2.288649e+00  3.653027e+01  ...     7.818111e+00       1.119459e-02\n",
              "std    5.541618e-01  5.013964e+00  ...     5.431171e+00       1.540812e-01\n",
              "min    1.000000e+00  2.455527e+01  ...     0.000000e+00       0.000000e+00\n",
              "25%    2.000000e+00  3.366453e+01  ...     4.600000e+00       0.000000e+00\n",
              "50%    2.000000e+00  3.609977e+01  ...     7.000000e+00       0.000000e+00\n",
              "75%    3.000000e+00  4.037505e+01  ...     1.040000e+01       0.000000e+00\n",
              "max    4.000000e+00  4.900220e+01  ...     9.840000e+02       2.400000e+01\n",
              "\n",
              "[8 rows x 14 columns]"
            ]
          },
          "metadata": {
            "tags": []
          },
          "execution_count": 18
        }
      ]
    },
    {
      "cell_type": "code",
      "metadata": {
        "colab": {
          "base_uri": "https://localhost:8080/"
        },
        "id": "avSPhMk9nDNp",
        "outputId": "3fe87822-abe5-4fdd-935a-0e4fe676af6a"
      },
      "source": [
        "numerics = ['int16', 'int32', 'int64', 'float16', 'float32', 'float64']\n",
        "\n",
        "numeric_df = df.select_dtypes(include = numerics)\n",
        "len(numeric_df.columns)"
      ],
      "execution_count": 19,
      "outputs": [
        {
          "output_type": "execute_result",
          "data": {
            "text/plain": [
              "14"
            ]
          },
          "metadata": {
            "tags": []
          },
          "execution_count": 19
        }
      ]
    },
    {
      "cell_type": "markdown",
      "metadata": {
        "id": "x8-tXUeKq3Ul"
      },
      "source": [
        "Percentage of missing values per column\n",
        "\n"
      ]
    },
    {
      "cell_type": "code",
      "metadata": {
        "colab": {
          "base_uri": "https://localhost:8080/"
        },
        "id": "hSr9aum2nDKO",
        "outputId": "5b5eddda-c0c2-4ef5-eaaf-38b0aea77942"
      },
      "source": [
        "missing_percentage = df.isna().sum().sort_values(ascending = False) / len(df)\n",
        "missing_percentage"
      ],
      "execution_count": 24,
      "outputs": [
        {
          "output_type": "execute_result",
          "data": {
            "text/plain": [
              "Number                   0.650817\n",
              "Precipitation(in)        0.447713\n",
              "Wind_Chill(F)            0.407299\n",
              "Wind_Speed(mph)          0.105677\n",
              "End_Lat                  0.097303\n",
              "End_Lng                  0.097303\n",
              "Visibility(mi)           0.024798\n",
              "Weather_Condition        0.024720\n",
              "Humidity(%)              0.024520\n",
              "Temperature(F)           0.023128\n",
              "Wind_Direction           0.021838\n",
              "Pressure(in)             0.019579\n",
              "Weather_Timestamp        0.016141\n",
              "Airport_Code             0.002273\n",
              "Timezone                 0.001180\n",
              "Zipcode                  0.000383\n",
              "Nautical_Twilight        0.000038\n",
              "Astronomical_Twilight    0.000038\n",
              "Civil_Twilight           0.000038\n",
              "Sunrise_Sunset           0.000038\n",
              "City                     0.000037\n",
              "Amenity                  0.000000\n",
              "Severity                 0.000000\n",
              "Start_Time               0.000000\n",
              "End_Time                 0.000000\n",
              "Start_Lat                0.000000\n",
              "Start_Lng                0.000000\n",
              "Distance(mi)             0.000000\n",
              "Description              0.000000\n",
              "Turning_Loop             0.000000\n",
              "Street                   0.000000\n",
              "Side                     0.000000\n",
              "County                   0.000000\n",
              "Bump                     0.000000\n",
              "State                    0.000000\n",
              "Traffic_Signal           0.000000\n",
              "Country                  0.000000\n",
              "Traffic_Calming          0.000000\n",
              "Stop                     0.000000\n",
              "Station                  0.000000\n",
              "Roundabout               0.000000\n",
              "Railway                  0.000000\n",
              "No_Exit                  0.000000\n",
              "Junction                 0.000000\n",
              "Give_Way                 0.000000\n",
              "Crossing                 0.000000\n",
              "ID                       0.000000\n",
              "dtype: float64"
            ]
          },
          "metadata": {
            "tags": []
          },
          "execution_count": 24
        }
      ]
    },
    {
      "cell_type": "code",
      "metadata": {
        "colab": {
          "base_uri": "https://localhost:8080/"
        },
        "id": "1-h9_iY5nDIc",
        "outputId": "e2074827-c0e3-4536-b209-6046b05fa1ca"
      },
      "source": [
        "type(missing_percentage)"
      ],
      "execution_count": 25,
      "outputs": [
        {
          "output_type": "execute_result",
          "data": {
            "text/plain": [
              "pandas.core.series.Series"
            ]
          },
          "metadata": {
            "tags": []
          },
          "execution_count": 25
        }
      ]
    },
    {
      "cell_type": "code",
      "metadata": {
        "colab": {
          "base_uri": "https://localhost:8080/",
          "height": 284
        },
        "id": "oErks1lSnDFp",
        "outputId": "333f2807-25db-48b5-f7e1-b4b3de6aa0fd"
      },
      "source": [
        "missing_percentage.plot()"
      ],
      "execution_count": 26,
      "outputs": [
        {
          "output_type": "execute_result",
          "data": {
            "text/plain": [
              "<matplotlib.axes._subplots.AxesSubplot at 0x7f38fb821150>"
            ]
          },
          "metadata": {
            "tags": []
          },
          "execution_count": 26
        },
        {
          "output_type": "display_data",
          "data": {
            "image/png": "[encoded data removed]",
            "text/plain": [
              "<Figure size 432x288 with 1 Axes>"
            ]
          },
          "metadata": {
            "tags": [],
            "needs_background": "light"
          }
        }
      ]
    },
    {
      "cell_type": "code",
      "metadata": {
        "colab": {
          "base_uri": "https://localhost:8080/",
          "height": 282
        },
        "id": "8A09CPtTtX7Z",
        "outputId": "8286cd7d-4547-4e1e-cb04-2c577d40c4db"
      },
      "source": [
        "missing_percentage[missing_percentage != 0].plot(kind = 'barh')"
      ],
      "execution_count": 29,
      "outputs": [
        {
          "output_type": "execute_result",
          "data": {
            "text/plain": [
              "<matplotlib.axes._subplots.AxesSubplot at 0x7f38fb7b7350>"
            ]
          },
          "metadata": {
            "tags": []
          },
          "execution_count": 29
        },
        {
          "output_type": "display_data",
          "data": {
            "image/png": "[encoded data removed]",
            "text/plain": [
              "<Figure size 432x288 with 1 Axes>"
            ]
          },
          "metadata": {
            "tags": [],
            "needs_background": "light"
          }
        }
      ]
    },
    {
      "cell_type": "markdown",
      "metadata": {
        "id": "P59EAuJnuK8N"
      },
      "source": [
        "Remove columns not required for analysis."
      ]
    },
    {
      "cell_type": "markdown",
      "metadata": {
        "id": "9H3_DRLPWhE3"
      },
      "source": [
        "##Exploratory Analysis and Visualization\n",
        "\n",
        "Column to be analyse :\n",
        "1. City\n",
        "2. Start_time\n",
        "3. Start_lng, Start_lat\n",
        "4. Temperature\n"
      ]
    },
    {
      "cell_type": "markdown",
      "metadata": {
        "id": "FCmJzW5p8Br5"
      },
      "source": [
        "### City\n"
      ]
    },
    {
      "cell_type": "code",
      "metadata": {
        "colab": {
          "base_uri": "https://localhost:8080/"
        },
        "id": "1vzwMbsaWgaW",
        "outputId": "57492d03-2633-4742-abd1-f073822b05d5"
      },
      "source": [
        "df.columns"
      ],
      "execution_count": 30,
      "outputs": [
        {
          "output_type": "execute_result",
          "data": {
            "text/plain": [
              "Index(['ID', 'Severity', 'Start_Time', 'End_Time', 'Start_Lat', 'Start_Lng',\n",
              "       'End_Lat', 'End_Lng', 'Distance(mi)', 'Description', 'Number', 'Street',\n",
              "       'Side', 'City', 'County', 'State', 'Zipcode', 'Country', 'Timezone',\n",
              "       'Airport_Code', 'Weather_Timestamp', 'Temperature(F)', 'Wind_Chill(F)',\n",
              "       'Humidity(%)', 'Pressure(in)', 'Visibility(mi)', 'Wind_Direction',\n",
              "       'Wind_Speed(mph)', 'Precipitation(in)', 'Weather_Condition', 'Amenity',\n",
              "       'Bump', 'Crossing', 'Give_Way', 'Junction', 'No_Exit', 'Railway',\n",
              "       'Roundabout', 'Station', 'Stop', 'Traffic_Calming', 'Traffic_Signal',\n",
              "       'Turning_Loop', 'Sunrise_Sunset', 'Civil_Twilight', 'Nautical_Twilight',\n",
              "       'Astronomical_Twilight'],\n",
              "      dtype='object')"
            ]
          },
          "metadata": {
            "tags": []
          },
          "execution_count": 30
        }
      ]
    },
    {
      "cell_type": "code",
      "metadata": {
        "colab": {
          "base_uri": "https://localhost:8080/"
        },
        "id": "Ee6WvuKxvN9h",
        "outputId": "7402d7db-2572-4aa6-dc7c-b0fa9d486834"
      },
      "source": [
        "city = df.City.unique()\n",
        "city"
      ],
      "execution_count": 41,
      "outputs": [
        {
          "output_type": "execute_result",
          "data": {
            "text/plain": [
              "array(['Greenville', 'Charlotte', 'Los Gatos', ..., 'Allons', 'Adolphus',\n",
              "       'Gowanda'], dtype=object)"
            ]
          },
          "metadata": {
            "tags": []
          },
          "execution_count": 41
        }
      ]
    },
    {
      "cell_type": "code",
      "metadata": {
        "colab": {
          "base_uri": "https://localhost:8080/"
        },
        "id": "rF9myMGqvcJK",
        "outputId": "22ded991-d6f9-44ac-c15f-f7ee24f3d26e"
      },
      "source": [
        "len(city)"
      ],
      "execution_count": 42,
      "outputs": [
        {
          "output_type": "execute_result",
          "data": {
            "text/plain": [
              "11790"
            ]
          },
          "metadata": {
            "tags": []
          },
          "execution_count": 42
        }
      ]
    },
    {
      "cell_type": "code",
      "metadata": {
        "colab": {
          "base_uri": "https://localhost:8080/"
        },
        "id": "XFKP0KngvxoU",
        "outputId": "3487cca7-9d2a-4ab9-8f9f-65e2f96e19d3"
      },
      "source": [
        "city[:100]"
      ],
      "execution_count": 43,
      "outputs": [
        {
          "output_type": "execute_result",
          "data": {
            "text/plain": [
              "array(['Greenville', 'Charlotte', 'Los Gatos', 'Carson City',\n",
              "       'Fort Lauderdale', 'Rifle', 'Whittier', 'Franklin', 'Valencia',\n",
              "       'Dover', 'Yonkers', 'Garland', 'Tucson', 'Oakland', 'Houston',\n",
              "       'Los Angeles', 'Fontana', 'Saint Clair Shores',\n",
              "       'Hopewell Junction', 'Atlanta', 'Fuquay Varina', 'Daleville',\n",
              "       'Martinez', 'North Charleston', 'Austin', 'Seal Beach',\n",
              "       'Cedar Springs', 'Miami', 'Corfu', 'Indianapolis', 'Baton Rouge',\n",
              "       'Grand Terrace', 'Providence Forge', 'Tempe', 'Pittsford',\n",
              "       'Pittsburgh', 'Sacramento', 'Latham', 'Homosassa', 'Fort Worth',\n",
              "       'Redding', 'Downey', 'Minneapolis', 'Lake Worth', 'Grand Rapids',\n",
              "       'Aldrich', 'Richmond', 'North Highlands', 'Dublin', 'Stafford',\n",
              "       'Doswell', 'Flint', 'Ballston Spa', 'Baldwin Park',\n",
              "       'Monroe Township', 'Dallas', 'El Paso', 'Jacksonville',\n",
              "       'Moreno Valley', 'Summerfield', 'Phoenix', 'San Diego',\n",
              "       'Capitol Heights', 'East Hartford', 'Lafayette', 'Calpine',\n",
              "       'Monterey', 'Grand Blanc', 'Dayton', 'Downers Grove', 'Newman',\n",
              "       'Saint Paul', 'Mira Loma', 'Delray Beach', 'Alexandria',\n",
              "       'Bakersfield', 'Pittsville', 'Berkeley', 'Red Wing', 'East Meadow',\n",
              "       'Warrenville', 'Scarsdale', 'Memphis', 'Barrington',\n",
              "       'Howard Beach', 'Pacoima', 'Joplin', 'Clayton', 'Portland',\n",
              "       'Maricopa', 'Omaha', 'West Hempstead', 'Live Oak', 'Sylmar',\n",
              "       'Chattanooga', 'Calabasas', 'Englewood', 'Windom', 'Stockton',\n",
              "       'Roseville'], dtype=object)"
            ]
          },
          "metadata": {
            "tags": []
          },
          "execution_count": 43
        }
      ]
    },
    {
      "cell_type": "code",
      "metadata": {
        "colab": {
          "base_uri": "https://localhost:8080/"
        },
        "id": "nT-8bJ71wJM0",
        "outputId": "cbdd7e79-8037-4b63-8850-1d98472f0eef"
      },
      "source": [
        "accident_by_city = df.City.value_counts()\n",
        "accident_by_city"
      ],
      "execution_count": 44,
      "outputs": [
        {
          "output_type": "execute_result",
          "data": {
            "text/plain": [
              "Los Angeles    68411\n",
              "Houston        68265\n",
              "Charlotte      56176\n",
              "Miami          49965\n",
              "Dallas         48525\n",
              "               ...  \n",
              "Midwest            1\n",
              "Martinton          1\n",
              "Paullina           1\n",
              "Hyden              1\n",
              "Tridell            1\n",
              "Name: City, Length: 11789, dtype: int64"
            ]
          },
          "metadata": {
            "tags": []
          },
          "execution_count": 44
        }
      ]
    },
    {
      "cell_type": "code",
      "metadata": {
        "colab": {
          "base_uri": "https://localhost:8080/"
        },
        "id": "Dxp053iN2Mva",
        "outputId": "87a3e9c2-7321-4247-c8d3-da9aeed60eca"
      },
      "source": [
        "type(accident_by_city)"
      ],
      "execution_count": 54,
      "outputs": [
        {
          "output_type": "execute_result",
          "data": {
            "text/plain": [
              "pandas.core.series.Series"
            ]
          },
          "metadata": {
            "tags": []
          },
          "execution_count": 54
        }
      ]
    },
    {
      "cell_type": "code",
      "metadata": {
        "colab": {
          "base_uri": "https://localhost:8080/"
        },
        "id": "36byDVryxbj7",
        "outputId": "84fe3ca1-7677-435b-ff63-caa393230dfe"
      },
      "source": [
        "accident_by_city[:20]"
      ],
      "execution_count": 45,
      "outputs": [
        {
          "output_type": "execute_result",
          "data": {
            "text/plain": [
              "Los Angeles      68411\n",
              "Houston          68265\n",
              "Charlotte        56176\n",
              "Miami            49965\n",
              "Dallas           48525\n",
              "Austin           38808\n",
              "Raleigh          31355\n",
              "Atlanta          29244\n",
              "Sacramento       28984\n",
              "Orlando          28092\n",
              "Nashville        25277\n",
              "Baton Rouge      25080\n",
              "Minneapolis      22469\n",
              "San Diego        22329\n",
              "Phoenix          21370\n",
              "Oklahoma City    21292\n",
              "Portland         19432\n",
              "Richmond         18343\n",
              "Seattle          17384\n",
              "Saint Paul       17266\n",
              "Name: City, dtype: int64"
            ]
          },
          "metadata": {
            "tags": []
          },
          "execution_count": 45
        }
      ]
    },
    {
      "cell_type": "code",
      "metadata": {
        "colab": {
          "base_uri": "https://localhost:8080/"
        },
        "id": "tnotxldcyX6_",
        "outputId": "9ada8e6f-4993-4c9e-8458-4e7397d05846"
      },
      "source": [
        "'New York' in df.City"
      ],
      "execution_count": 47,
      "outputs": [
        {
          "output_type": "execute_result",
          "data": {
            "text/plain": [
              "False"
            ]
          },
          "metadata": {
            "tags": []
          },
          "execution_count": 47
        }
      ]
    },
    {
      "cell_type": "code",
      "metadata": {
        "colab": {
          "base_uri": "https://localhost:8080/"
        },
        "id": "RoYo-Frmynck",
        "outputId": "50cb9f72-1ea2-4ac9-c480-4d42385e6334"
      },
      "source": [
        "'NY' in df.State"
      ],
      "execution_count": 48,
      "outputs": [
        {
          "output_type": "execute_result",
          "data": {
            "text/plain": [
              "False"
            ]
          },
          "metadata": {
            "tags": []
          },
          "execution_count": 48
        }
      ]
    },
    {
      "cell_type": "code",
      "metadata": {
        "colab": {
          "base_uri": "https://localhost:8080/",
          "height": 282
        },
        "id": "3TzbXM4aWp4R",
        "outputId": "0af27471-42a5-43b7-b76f-52bbc7859d51"
      },
      "source": [
        "accident_by_city.plot()"
      ],
      "execution_count": 52,
      "outputs": [
        {
          "output_type": "execute_result",
          "data": {
            "text/plain": [
              "<matplotlib.axes._subplots.AxesSubplot at 0x7f38ee530a50>"
            ]
          },
          "metadata": {
            "tags": []
          },
          "execution_count": 52
        },
        {
          "output_type": "display_data",
          "data": {
            "image/png": "[encoded data removed]",
            "text/plain": [
              "<Figure size 432x288 with 1 Axes>"
            ]
          },
          "metadata": {
            "tags": [],
            "needs_background": "light"
          }
        }
      ]
    },
    {
      "cell_type": "code",
      "metadata": {
        "colab": {
          "base_uri": "https://localhost:8080/",
          "height": 282
        },
        "id": "eeWdW5ecWpsP",
        "outputId": "59c0327e-d624-4bb5-a785-ada19be3a36c"
      },
      "source": [
        "accident_by_city[:20].plot(kind = 'barh')"
      ],
      "execution_count": 50,
      "outputs": [
        {
          "output_type": "execute_result",
          "data": {
            "text/plain": [
              "<matplotlib.axes._subplots.AxesSubplot at 0x7f38fafba050>"
            ]
          },
          "metadata": {
            "tags": []
          },
          "execution_count": 50
        },
        {
          "output_type": "display_data",
          "data": {
            "image/png": "[encoded data removed]",
            "text/plain": [
              "<Figure size 432x288 with 1 Axes>"
            ]
          },
          "metadata": {
            "tags": [],
            "needs_background": "light"
          }
        }
      ]
    },
    {
      "cell_type": "code",
      "metadata": {
        "id": "nbxUvMfHW46e"
      },
      "source": [
        "import seaborn as sns\n",
        "\n",
        "sns.set_style('darkgrid')"
      ],
      "execution_count": 53,
      "outputs": []
    },
    {
      "cell_type": "code",
      "metadata": {
        "colab": {
          "base_uri": "https://localhost:8080/",
          "height": 352
        },
        "id": "W7rlWVfd10uX",
        "outputId": "95380269-bf3a-4568-b1f2-b31cdd3a5f2a"
      },
      "source": [
        "sns.distplot(accident_by_city)  #distribution plot"
      ],
      "execution_count": 58,
      "outputs": [
        {
          "output_type": "stream",
          "text": [
            "/usr/local/lib/python3.7/dist-packages/seaborn/distributions.py:2557: FutureWarning: `distplot` is a deprecated function and will be removed in a future version. Please adapt your code to use either `displot` (a figure-level function with similar flexibility) or `histplot` (an axes-level function for histograms).\n",
            "  warnings.warn(msg, FutureWarning)\n"
          ],
          "name": "stderr"
        },
        {
          "output_type": "execute_result",
          "data": {
            "text/plain": [
              "<matplotlib.axes._subplots.AxesSubplot at 0x7f38ee971ed0>"
            ]
          },
          "metadata": {
            "tags": []
          },
          "execution_count": 58
        },
        {
          "output_type": "display_data",
          "data": {
            "image/png": "[encoded data removed]",
            "text/plain": [
              "<Figure size 432x288 with 1 Axes>"
            ]
          },
          "metadata": {
            "tags": []
          }
        }
      ]
    },
    {
      "cell_type": "code",
      "metadata": {
        "id": "9ZK4wr2P3O7c"
      },
      "source": [
        "high_accident_city = accident_by_city[accident_by_city > 1000] \n",
        "\n",
        "low_accident_city = accident_by_city[accident_by_city <= 1000] "
      ],
      "execution_count": 61,
      "outputs": []
    },
    {
      "cell_type": "code",
      "metadata": {
        "colab": {
          "base_uri": "https://localhost:8080/"
        },
        "id": "HmiJOiCQ3y3L",
        "outputId": "84757d66-a714-4831-b04e-01f792080c4e"
      },
      "source": [
        "len(high_accident_city) / len(city)"
      ],
      "execution_count": 62,
      "outputs": [
        {
          "output_type": "execute_result",
          "data": {
            "text/plain": [
              "0.04351145038167939"
            ]
          },
          "metadata": {
            "tags": []
          },
          "execution_count": 62
        }
      ]
    },
    {
      "cell_type": "code",
      "metadata": {
        "colab": {
          "base_uri": "https://localhost:8080/",
          "height": 352
        },
        "id": "ie-rEfY74la2",
        "outputId": "3fb43d5e-190e-45cc-fdfc-1fbb90be70dc"
      },
      "source": [
        "sns.distplot(high_accident_city)"
      ],
      "execution_count": 63,
      "outputs": [
        {
          "output_type": "stream",
          "text": [
            "/usr/local/lib/python3.7/dist-packages/seaborn/distributions.py:2557: FutureWarning: `distplot` is a deprecated function and will be removed in a future version. Please adapt your code to use either `displot` (a figure-level function with similar flexibility) or `histplot` (an axes-level function for histograms).\n",
            "  warnings.warn(msg, FutureWarning)\n"
          ],
          "name": "stderr"
        },
        {
          "output_type": "execute_result",
          "data": {
            "text/plain": [
              "<matplotlib.axes._subplots.AxesSubplot at 0x7f38ee667310>"
            ]
          },
          "metadata": {
            "tags": []
          },
          "execution_count": 63
        },
        {
          "output_type": "display_data",
          "data": {
            "image/png": "[encoded data removed]",
            "text/plain": [
              "<Figure size 432x288 with 1 Axes>"
            ]
          },
          "metadata": {
            "tags": []
          }
        }
      ]
    },
    {
      "cell_type": "code",
      "metadata": {
        "colab": {
          "base_uri": "https://localhost:8080/",
          "height": 352
        },
        "id": "IbC9CuJN43vh",
        "outputId": "3ac0ccd2-b723-4306-ce48-daeb1960d808"
      },
      "source": [
        "sns.distplot(low_accident_city)"
      ],
      "execution_count": 64,
      "outputs": [
        {
          "output_type": "stream",
          "text": [
            "/usr/local/lib/python3.7/dist-packages/seaborn/distributions.py:2557: FutureWarning: `distplot` is a deprecated function and will be removed in a future version. Please adapt your code to use either `displot` (a figure-level function with similar flexibility) or `histplot` (an axes-level function for histograms).\n",
            "  warnings.warn(msg, FutureWarning)\n"
          ],
          "name": "stderr"
        },
        {
          "output_type": "execute_result",
          "data": {
            "text/plain": [
              "<matplotlib.axes._subplots.AxesSubplot at 0x7f38ee8dc450>"
            ]
          },
          "metadata": {
            "tags": []
          },
          "execution_count": 64
        },
        {
          "output_type": "display_data",
          "data": {
            "image/png": "[encoded data removed]",
            "text/plain": [
              "<Figure size 432x288 with 1 Axes>"
            ]
          },
          "metadata": {
            "tags": []
          }
        }
      ]
    },
    {
      "cell_type": "code",
      "metadata": {
        "colab": {
          "base_uri": "https://localhost:8080/",
          "height": 301
        },
        "id": "565FyyPs5UTh",
        "outputId": "cdaa2811-5c6c-482c-aec8-70a3dd4e8213"
      },
      "source": [
        "sns.histplot(accident_by_city, log_scale=True)"
      ],
      "execution_count": 65,
      "outputs": [
        {
          "output_type": "execute_result",
          "data": {
            "text/plain": [
              "<matplotlib.axes._subplots.AxesSubplot at 0x7f38ee85a850>"
            ]
          },
          "metadata": {
            "tags": []
          },
          "execution_count": 65
        },
        {
          "output_type": "display_data",
          "data": {
            "image/png": "[encoded data removed]",
            "text/plain": [
              "<Figure size 432x288 with 1 Axes>"
            ]
          },
          "metadata": {
            "tags": []
          }
        }
      ]
    },
    {
      "cell_type": "code",
      "metadata": {
        "colab": {
          "base_uri": "https://localhost:8080/"
        },
        "id": "IHYbxav_6raD",
        "outputId": "be84236b-a83f-40b7-b095-71005db5f6d6"
      },
      "source": [
        "len(accident_by_city[accident_by_city == 1]) / len(city) "
      ],
      "execution_count": 69,
      "outputs": [
        {
          "output_type": "execute_result",
          "data": {
            "text/plain": [
              "0.11077184054283291"
            ]
          },
          "metadata": {
            "tags": []
          },
          "execution_count": 69
        }
      ]
    },
    {
      "cell_type": "markdown",
      "metadata": {
        "id": "O4uUFEil8G-8"
      },
      "source": [
        "### Start_time"
      ]
    },
    {
      "cell_type": "code",
      "metadata": {
        "colab": {
          "base_uri": "https://localhost:8080/"
        },
        "id": "jmKWan7D8Qh9",
        "outputId": "b1bdb463-dc33-424c-86da-f12b71fcd04f"
      },
      "source": [
        "df.Start_Time"
      ],
      "execution_count": 70,
      "outputs": [
        {
          "output_type": "execute_result",
          "data": {
            "text/plain": [
              "0          2019-05-21 08:29:55\n",
              "1          2019-10-07 17:43:09\n",
              "2          2020-12-13 21:53:00\n",
              "3          2018-04-17 16:51:23\n",
              "4          2016-08-31 17:40:49\n",
              "                  ...         \n",
              "2906605    2018-06-28 08:49:01\n",
              "2906606    2019-01-10 02:01:01\n",
              "2906607    2020-11-23 12:52:00\n",
              "2906608    2019-12-29 22:38:00\n",
              "2906609    2018-03-26 13:35:03\n",
              "Name: Start_Time, Length: 2906610, dtype: object"
            ]
          },
          "metadata": {
            "tags": []
          },
          "execution_count": 70
        }
      ]
    },
    {
      "cell_type": "code",
      "metadata": {
        "colab": {
          "base_uri": "https://localhost:8080/"
        },
        "id": "gtYpgwVi86dN",
        "outputId": "6be4709c-3f75-4b09-d5c1-f0bc47a9288b"
      },
      "source": [
        "df.Start_Time = pd.to_datetime(df.Start_Time)\n",
        "df.Start_Time"
      ],
      "execution_count": 73,
      "outputs": [
        {
          "output_type": "execute_result",
          "data": {
            "text/plain": [
              "0         2019-05-21 08:29:55\n",
              "1         2019-10-07 17:43:09\n",
              "2         2020-12-13 21:53:00\n",
              "3         2018-04-17 16:51:23\n",
              "4         2016-08-31 17:40:49\n",
              "                  ...        \n",
              "2906605   2018-06-28 08:49:01\n",
              "2906606   2019-01-10 02:01:01\n",
              "2906607   2020-11-23 12:52:00\n",
              "2906608   2019-12-29 22:38:00\n",
              "2906609   2018-03-26 13:35:03\n",
              "Name: Start_Time, Length: 2906610, dtype: datetime64[ns]"
            ]
          },
          "metadata": {
            "tags": []
          },
          "execution_count": 73
        }
      ]
    },
    {
      "cell_type": "code",
      "metadata": {
        "colab": {
          "base_uri": "https://localhost:8080/"
        },
        "id": "-4MEKPb19rzl",
        "outputId": "8665bfc4-18d5-4ff3-ff9f-4667d5c30644"
      },
      "source": [
        "df.Start_Time[0]"
      ],
      "execution_count": 74,
      "outputs": [
        {
          "output_type": "execute_result",
          "data": {
            "text/plain": [
              "Timestamp('2019-05-21 08:29:55')"
            ]
          },
          "metadata": {
            "tags": []
          },
          "execution_count": 74
        }
      ]
    },
    {
      "cell_type": "code",
      "metadata": {
        "colab": {
          "base_uri": "https://localhost:8080/",
          "height": 353
        },
        "id": "d0zOkilS-kfC",
        "outputId": "f6a6f291-1436-4474-e198-71d267caf7bc"
      },
      "source": [
        "sns.distplot(df.Start_Time.dt.hour,bins = 24, kde = False, norm_hist = True)"
      ],
      "execution_count": 79,
      "outputs": [
        {
          "output_type": "stream",
          "text": [
            "/usr/local/lib/python3.7/dist-packages/seaborn/distributions.py:2557: FutureWarning: `distplot` is a deprecated function and will be removed in a future version. Please adapt your code to use either `displot` (a figure-level function with similar flexibility) or `histplot` (an axes-level function for histograms).\n",
            "  warnings.warn(msg, FutureWarning)\n"
          ],
          "name": "stderr"
        },
        {
          "output_type": "execute_result",
          "data": {
            "text/plain": [
              "<matplotlib.axes._subplots.AxesSubplot at 0x7f38d05df950>"
            ]
          },
          "metadata": {
            "tags": []
          },
          "execution_count": 79
        },
        {
          "output_type": "display_data",
          "data": {
            "image/png": "[encoded data removed]",
            "text/plain": [
              "<Figure size 432x288 with 1 Axes>"
            ]
          },
          "metadata": {
            "tags": []
          }
        }
      ]
    },
    {
      "cell_type": "markdown",
      "metadata": {
        "id": "TxKQVtyHBSiD"
      },
      "source": [
        "* A higher no of accidents occur between 7:00 am to 9:00 am.\n",
        "* Next higher no of accidents is between 3:00 pm to 6:00 pm"
      ]
    },
    {
      "cell_type": "code",
      "metadata": {
        "colab": {
          "base_uri": "https://localhost:8080/",
          "height": 353
        },
        "id": "zNDwYnBWCSUd",
        "outputId": "d7d928c7-d94b-43a1-80c0-bfb911fbf55c"
      },
      "source": [
        "sns.distplot(df.Start_Time.dt.dayofweek, bins = 7, kde = False, norm_hist = True)"
      ],
      "execution_count": 80,
      "outputs": [
        {
          "output_type": "stream",
          "text": [
            "/usr/local/lib/python3.7/dist-packages/seaborn/distributions.py:2557: FutureWarning: `distplot` is a deprecated function and will be removed in a future version. Please adapt your code to use either `displot` (a figure-level function with similar flexibility) or `histplot` (an axes-level function for histograms).\n",
            "  warnings.warn(msg, FutureWarning)\n"
          ],
          "name": "stderr"
        },
        {
          "output_type": "execute_result",
          "data": {
            "text/plain": [
              "<matplotlib.axes._subplots.AxesSubplot at 0x7f38d04f0390>"
            ]
          },
          "metadata": {
            "tags": []
          },
          "execution_count": 80
        },
        {
          "output_type": "display_data",
          "data": {
            "image/png": "[encoded data removed]",
            "text/plain": [
              "<Figure size 432x288 with 1 Axes>"
            ]
          },
          "metadata": {
            "tags": []
          }
        }
      ]
    },
    {
      "cell_type": "markdown",
      "metadata": {
        "id": "5wqWzWE9CqI7"
      },
      "source": [
        "Is the distribution of accidents by hour same on weekends as on weekdays?"
      ]
    },
    {
      "cell_type": "code",
      "metadata": {
        "colab": {
          "base_uri": "https://localhost:8080/",
          "height": 353
        },
        "id": "o5O8mtufEE4G",
        "outputId": "50808bde-7d72-405e-f12f-a94782c37a1b"
      },
      "source": [
        "sunday_start_time = df.Start_Time[df.Start_Time.dt.dayofweek == 6]\n",
        "sns.distplot(sunday_start_time.dt.hour,bins = 24, kde = False, norm_hist = True)"
      ],
      "execution_count": 83,
      "outputs": [
        {
          "output_type": "stream",
          "text": [
            "/usr/local/lib/python3.7/dist-packages/seaborn/distributions.py:2557: FutureWarning: `distplot` is a deprecated function and will be removed in a future version. Please adapt your code to use either `displot` (a figure-level function with similar flexibility) or `histplot` (an axes-level function for histograms).\n",
            "  warnings.warn(msg, FutureWarning)\n"
          ],
          "name": "stderr"
        },
        {
          "output_type": "execute_result",
          "data": {
            "text/plain": [
              "<matplotlib.axes._subplots.AxesSubplot at 0x7f38d047b0d0>"
            ]
          },
          "metadata": {
            "tags": []
          },
          "execution_count": 83
        },
        {
          "output_type": "display_data",
          "data": {
            "image/png": "[encoded data removed]",
            "text/plain": [
              "<Figure size 432x288 with 1 Axes>"
            ]
          },
          "metadata": {
            "tags": []
          }
        }
      ]
    },
    {
      "cell_type": "code",
      "metadata": {
        "colab": {
          "base_uri": "https://localhost:8080/",
          "height": 353
        },
        "id": "xAr4pbxZE_Ow",
        "outputId": "8774bfc3-9895-451e-abdb-922c7caf2278"
      },
      "source": [
        "monday_start_time = df.Start_Time[df.Start_Time.dt.dayofweek == 0]\n",
        "sns.distplot(monday_start_time.dt.hour,bins = 24, kde = False, norm_hist = True)"
      ],
      "execution_count": 84,
      "outputs": [
        {
          "output_type": "stream",
          "text": [
            "/usr/local/lib/python3.7/dist-packages/seaborn/distributions.py:2557: FutureWarning: `distplot` is a deprecated function and will be removed in a future version. Please adapt your code to use either `displot` (a figure-level function with similar flexibility) or `histplot` (an axes-level function for histograms).\n",
            "  warnings.warn(msg, FutureWarning)\n"
          ],
          "name": "stderr"
        },
        {
          "output_type": "execute_result",
          "data": {
            "text/plain": [
              "<matplotlib.axes._subplots.AxesSubplot at 0x7f38d03d7d50>"
            ]
          },
          "metadata": {
            "tags": []
          },
          "execution_count": 84
        },
        {
          "output_type": "display_data",
          "data": {
            "image/png": "[encoded data removed]",
            "text/plain": [
              "<Figure size 432x288 with 1 Axes>"
            ]
          },
          "metadata": {
            "tags": []
          }
        }
      ]
    },
    {
      "cell_type": "markdown",
      "metadata": {
        "id": "FyqpswMRGV-a"
      },
      "source": [
        "On Sundays, the peak occurs between 10 am to 3 pm, unlike weekdays."
      ]
    },
    {
      "cell_type": "code",
      "metadata": {
        "colab": {
          "base_uri": "https://localhost:8080/",
          "height": 353
        },
        "id": "Qj8IDhaROcu4",
        "outputId": "6dac7f5d-cf51-4979-b5ec-0ab9749ea681"
      },
      "source": [
        "df_2019 = df[df.Start_Time.dt.year == 2016]\n",
        "sns.distplot(df_2019.Start_Time.dt.month,bins = 12, kde = False, norm_hist = True)"
      ],
      "execution_count": 103,
      "outputs": [
        {
          "output_type": "stream",
          "text": [
            "/usr/local/lib/python3.7/dist-packages/seaborn/distributions.py:2557: FutureWarning: `distplot` is a deprecated function and will be removed in a future version. Please adapt your code to use either `displot` (a figure-level function with similar flexibility) or `histplot` (an axes-level function for histograms).\n",
            "  warnings.warn(msg, FutureWarning)\n"
          ],
          "name": "stderr"
        },
        {
          "output_type": "execute_result",
          "data": {
            "text/plain": [
              "<matplotlib.axes._subplots.AxesSubplot at 0x7f38cffedad0>"
            ]
          },
          "metadata": {
            "tags": []
          },
          "execution_count": 103
        },
        {
          "output_type": "display_data",
          "data": {
            "image/png": "[encoded data removed]",
            "text/plain": [
              "<Figure size 432x288 with 1 Axes>"
            ]
          },
          "metadata": {
            "tags": []
          }
        }
      ]
    },
    {
      "cell_type": "markdown",
      "metadata": {
        "id": "KhSwLddKRTCk"
      },
      "source": [
        "\n",
        "- Much 2016 data is missing. maybe even 2017.\n",
        "- There seems to be some issue with bing data.\n"
      ]
    },
    {
      "cell_type": "markdown",
      "metadata": {
        "id": "hRyDVPH_XFkd"
      },
      "source": [
        "### Start Latitude and Longitude"
      ]
    },
    {
      "cell_type": "code",
      "metadata": {
        "colab": {
          "base_uri": "https://localhost:8080/"
        },
        "id": "ktp0T2iDXSYW",
        "outputId": "8c444c42-d238-4c61-b1dd-4bcedfd0ba3b"
      },
      "source": [
        "df.Start_Lat"
      ],
      "execution_count": 104,
      "outputs": [
        {
          "output_type": "execute_result",
          "data": {
            "text/plain": [
              "0          34.808868\n",
              "1          35.090080\n",
              "2          37.145730\n",
              "3          39.110390\n",
              "4          26.102942\n",
              "             ...    \n",
              "2906605    29.813824\n",
              "2906606    34.068890\n",
              "2906607    25.702200\n",
              "2906608    40.660140\n",
              "2906609    38.831749\n",
              "Name: Start_Lat, Length: 2906610, dtype: float64"
            ]
          },
          "metadata": {
            "tags": []
          },
          "execution_count": 104
        }
      ]
    },
    {
      "cell_type": "code",
      "metadata": {
        "colab": {
          "base_uri": "https://localhost:8080/"
        },
        "id": "tE8SUzZKXTf1",
        "outputId": "110f05da-72e6-4d7b-a8f1-868847cea3c6"
      },
      "source": [
        "df.Start_Lng"
      ],
      "execution_count": 105,
      "outputs": [
        {
          "output_type": "execute_result",
          "data": {
            "text/plain": [
              "0          -82.269157\n",
              "1          -80.745560\n",
              "2         -121.985052\n",
              "3         -119.773781\n",
              "4          -80.265091\n",
              "              ...    \n",
              "2906605    -95.399437\n",
              "2906606   -117.342010\n",
              "2906607    -80.335556\n",
              "2906608   -111.952460\n",
              "2906609   -104.748161\n",
              "Name: Start_Lng, Length: 2906610, dtype: float64"
            ]
          },
          "metadata": {
            "tags": []
          },
          "execution_count": 105
        }
      ]
    },
    {
      "cell_type": "code",
      "metadata": {
        "id": "Jx1n45xcXTWP"
      },
      "source": [
        "sample_df = df.sample(int(0.1 * len(df)))"
      ],
      "execution_count": 107,
      "outputs": []
    },
    {
      "cell_type": "code",
      "metadata": {
        "colab": {
          "base_uri": "https://localhost:8080/",
          "height": 301
        },
        "id": "kk1WFzjaXTKl",
        "outputId": "677fbdc5-b06a-4536-c5a9-4c85e86aaefe"
      },
      "source": [
        "sns.scatterplot(x = sample_df.Start_Lng, y = sample_df.Start_Lat, size = 0.01)"
      ],
      "execution_count": 108,
      "outputs": [
        {
          "output_type": "execute_result",
          "data": {
            "text/plain": [
              "<matplotlib.axes._subplots.AxesSubplot at 0x7f38cff65110>"
            ]
          },
          "metadata": {
            "tags": []
          },
          "execution_count": 108
        },
        {
          "output_type": "display_data",
          "data": {
            "image/png": "[encoded data removed]",
            "text/plain": [
              "<Figure size 432x288 with 1 Axes>"
            ]
          },
          "metadata": {
            "tags": []
          }
        }
      ]
    },
    {
      "cell_type": "code",
      "metadata": {
        "id": "JdpwRuEdfiGq"
      },
      "source": [
        "import folium #for plotting on map"
      ],
      "execution_count": 110,
      "outputs": []
    },
    {
      "cell_type": "code",
      "metadata": {
        "colab": {
          "base_uri": "https://localhost:8080/"
        },
        "id": "j2T4X5tHiUCF",
        "outputId": "f7780d36-f77d-4cfd-f1e0-3b18012dee0c"
      },
      "source": [
        "lat , lon = df.Start_Lat[0], df.Start_Lng[0] \n",
        "lat , lon"
      ],
      "execution_count": 116,
      "outputs": [
        {
          "output_type": "execute_result",
          "data": {
            "text/plain": [
              "(34.808868, -82.26915699999998)"
            ]
          },
          "metadata": {
            "tags": []
          },
          "execution_count": 116
        }
      ]
    },
    {
      "cell_type": "code",
      "metadata": {
        "id": "7qTt_acNmpgS"
      },
      "source": [
        "from folium.plugins import HeatMap"
      ],
      "execution_count": 117,
      "outputs": []
    },
    {
      "cell_type": "code",
      "metadata": {
        "id": "H6PEdPVUngji"
      },
      "source": [
        "sample_df = df.sample(int(0.001 * len(df)))\n",
        "lat_lon_pairs = list(zip(list(sample_df.Start_Lat), list(sample_df.Start_Lng)))"
      ],
      "execution_count": 122,
      "outputs": []
    },
    {
      "cell_type": "code",
      "metadata": {
        "colab": {
          "base_uri": "https://localhost:8080/",
          "height": 866
        },
        "id": "GKZo7yeifqfk",
        "outputId": "02ec5b4d-999c-4467-ac53-367d8c821040"
      },
      "source": [
        "map = folium.Map()\n",
        "HeatMap(lat_lon_pairs).add_to(map)\n",
        "map"
      ],
      "execution_count": 123,
      "outputs": [
        {
          "output_type": "execute_result",
          "data": {
            "text/html": [
              "<div style=\"width:100%;\"><div style=\"position:relative;width:100%;height:0;padding-bottom:60%;\"><span style=\"color:#565656\">Make this Notebook Trusted to load map: File -> Trust Notebook</span><iframe src=\"about:blank\" style=\"position:absolute;width:100%;height:100%;left:0;top:0;border:none !important;\" data-html=%3C%21DOCTYPE%20html%3E%0A%3Chead%3E%20%20%20%20%0A%20%20%20%20%3Cmeta%20http-equiv%3D%22content-type%22%20content%3D%22text/html%3B%20charset%3DUTF-8%22%20/%3E%0A%20%20%20%20%3Cscript%3EL_PREFER_CANVAS%3Dfalse%3B%20L_NO_TOUCH%3Dfalse%3B%20L_DISABLE_3D%3Dfalse%3B%3C/script%3E%0A%20%20%20%20%3Cscript%20src%3D%22https%3A//cdn.jsdelivr.net/npm/leaflet%401.4.0/dist/leaflet.js%22%3E%3C/script%3E%0A%20%20%20%20%3Cscript%20src%3D%22https%3A//code.jquery.com/jquery-1.12.4.min.js%22%3E%3C/script%3E%0A%20%20%20%20%3Cscript%20src%3D%22https%3A//maxcdn.bootstrapcdn.com/bootstrap/3.2.0/js/bootstrap.min.js%22%3E%3C/script%3E%0A%20%20%20%20%3Cscript%20src%3D%22https%3A//cdnjs.cloudflare.com/ajax/libs/Leaflet.awesome-markers/2.0.2/leaflet.awesome-markers.js%22%3E%3C/script%3E%0A%20%20%20%20%3Clink%20rel%3D%22stylesheet%22%20href%3D%22https%3A//cdn.jsdelivr.net/npm/leaflet%401.4.0/dist/leaflet.css%22/%3E%0A%20%20%20%20%3Clink%20rel%3D%22stylesheet%22%20href%3D%22https%3A//maxcdn.bootstrapcdn.com/bootstrap/3.2.0/css/bootstrap.min.css%22/%3E%0A%20%20%20%20%3Clink%20rel%3D%22stylesheet%22%20href%3D%22https%3A//maxcdn.bootstrapcdn.com/bootstrap/3.2.0/css/bootstrap-theme.min.css%22/%3E%0A%20%20%20%20%3Clink%20rel%3D%22stylesheet%22%20href%3D%22https%3A//maxcdn.bootstrapcdn.com/font-awesome/4.6.3/css/font-awesome.min.css%22/%3E%0A%20%20%20%20%3Clink%20rel%3D%22stylesheet%22%20href%3D%22https%3A//cdnjs.cloudflare.com/ajax/libs/Leaflet.awesome-markers/2.0.2/leaflet.awesome-markers.css%22/%3E%0A%20%20%20%20%3Clink%20rel%3D%22stylesheet%22%20href%3D%22https%3A//rawcdn.githack.com/python-visualization/folium/master/folium/templates/leaflet.awesome.rotate.css%22/%3E%0A%20%20%20%20%3Cstyle%3Ehtml%2C%20body%20%7Bwidth%3A%20100%25%3Bheight%3A%20100%25%3Bmargin%3A%200%3Bpadding%3A%200%3B%7D%3C/style%3E%0A%20%20%20%20%3Cstyle%3E%23map%20%7Bposition%3Aabsolute%3Btop%3A0%3Bbottom%3A0%3Bright%3A0%3Bleft%3A0%3B%7D%3C/style%3E%0A%20%20%20%20%0A%20%20%20%20%3Cmeta%20name%3D%22viewport%22%20content%3D%22width%3Ddevice-width%2C%0A%20%20%20%20%20%20%20%20initial-scale%3D1.0%2C%20maximum-scale%3D1.0%2C%20user-scalable%3Dno%22%20/%3E%0A%20%20%20%20%3Cstyle%3E%23map_7fc906af23544fc9b047ef403a5d8421%20%7B%0A%20%20%20%20%20%20%20%20position%3A%20relative%3B%0A%20%20%20%20%20%20%20%20width%3A%20100.0%25%3B%0A%20%20%20%20%20%20%20%20height%3A%20100.0%25%3B%0A%20%20%20%20%20%20%20%20left%3A%200.0%25%3B%0A%20%20%20%20%20%20%20%20top%3A%200.0%25%3B%0A%20%20%20%20%20%20%20%20%7D%0A%20%20%20%20%3C/style%3E%0A%20%20%20%20%3Cscript%20src%3D%22https%3A//leaflet.github.io/Leaflet.heat/dist/leaflet-heat.js%22%3E%3C/script%3E%0A%3C/head%3E%0A%3Cbody%3E%20%20%20%20%0A%20%20%20%20%0A%20%20%20%20%3Cdiv%20class%3D%22folium-map%22%20id%3D%22map_7fc906af23544fc9b047ef403a5d8421%22%20%3E%3C/div%3E%0A%3C/body%3E%0A%3Cscript%3E%20%20%20%20%0A%20%20%20%20%0A%20%20%20%20%0A%20%20%20%20%20%20%20%20var%20bounds%20%3D%20null%3B%0A%20%20%20%20%0A%0A%20%20%20%20var%20map_7fc906af23544fc9b047ef403a5d8421%20%3D%20L.map%28%0A%20%20%20%20%20%20%20%20%27map_7fc906af23544fc9b047ef403a5d8421%27%2C%20%7B%0A%20%20%20%20%20%20%20%20center%3A%20%5B0%2C%200%5D%2C%0A%20%20%20%20%20%20%20%20zoom%3A%201%2C%0A%20%20%20%20%20%20%20%20maxBounds%3A%20bounds%2C%0A%20%20%20%20%20%20%20%20layers%3A%20%5B%5D%2C%0A%20%20%20%20%20%20%20%20worldCopyJump%3A%20false%2C%0A%20%20%20%20%20%20%20%20crs%3A%20L.CRS.EPSG3857%2C%0A%20%20%20%20%20%20%20%20zoomControl%3A%20true%2C%0A%20%20%20%20%20%20%20%20%7D%29%3B%0A%0A%0A%20%20%20%20%0A%20%20%20%20var%20tile_layer_c38c669cf8c743fa828048e269f78636%20%3D%20L.tileLayer%28%0A%20%20%20%20%20%20%20%20%27https%3A//%7Bs%7D.tile.openstreetmap.org/%7Bz%7D/%7Bx%7D/%7By%7D.png%27%2C%0A%20%20%20%20%20%20%20%20%7B%0A%20%20%20%20%20%20%20%20%22attribution%22%3A%20null%2C%0A%20%20%20%20%20%20%20%20%22detectRetina%22%3A%20false%2C%0A%20%20%20%20%20%20%20%20%22maxNativeZoom%22%3A%2018%2C%0A%20%20%20%20%20%20%20%20%22maxZoom%22%3A%2018%2C%0A%20%20%20%20%20%20%20%20%22minZoom%22%3A%200%2C%0A%20%20%20%20%20%20%20%20%22noWrap%22%3A%20false%2C%0A%20%20%20%20%20%20%20%20%22opacity%22%3A%201%2C%0A%20%20%20%20%20%20%20%20%22subdomains%22%3A%20%22abc%22%2C%0A%20%20%20%20%20%20%20%20%22tms%22%3A%20false%0A%7D%29.addTo%28map_7fc906af23544fc9b047ef403a5d8421%29%3B%0A%20%20%20%20%0A%20%20%20%20%20%20%20%20%20%20%20%20var%20heat_map_6f8e1e12590347028e832ffd8041dc1d%20%3D%20L.heatLayer%28%0A%20%20%20%20%20%20%20%20%20%20%20%20%20%20%20%20%5B%5B36.837571%2C%20-76.058278%5D%2C%20%5B47.63895%2C%20-122.32261%5D%2C%20%5B35.241512%2C%20-80.849838%5D%2C%20%5B35.031857%2C%20-85.18225100000002%5D%2C%20%5B43.207767%2C%20-83.681061%5D%2C%20%5B28.573702%2C%20-81.439064%5D%2C%20%5B38.364468%2C%20-122.822037%5D%2C%20%5B44.893323%2C%20-93.189543%5D%2C%20%5B38.525959%2C%20-121.521004%5D%2C%20%5B34.480061%2C%20-82.568291%5D%2C%20%5B35.753117%2C%20-78.648903%5D%2C%20%5B33.213024%2C%20-117.389061%5D%2C%20%5B34.05516%2C%20-118.21424%5D%2C%20%5B41.66267%2C%20-87.59124%5D%2C%20%5B33.149429999999995%2C%20-117.198702%5D%2C%20%5B34.393349%2C%20-118.574509%5D%2C%20%5B33.928496%2C%20-118.281002%5D%2C%20%5B29.481308%2C%20-98.525963%5D%2C%20%5B40.73321%2C%20-111.750939%5D%2C%20%5B38.761328000000006%2C%20-77.182941%5D%2C%20%5B35.39631%2C%20-79.53256%5D%2C%20%5B35.4933%2C%20-97.60085%5D%2C%20%5B41.150676%2C%20-73.827749%5D%2C%20%5B41.59458%2C%20-93.64971%5D%2C%20%5B32.221086%2C%20-110.831775%5D%2C%20%5B33.75066%2C%20-84.71537%5D%2C%20%5B35.793594%2C%20-78.68454%5D%2C%20%5B32.908962%2C%20-96.899734%5D%2C%20%5B37.421535%2C%20-121.93466200000002%5D%2C%20%5B42.987389%2C%20-83.743721%5D%2C%20%5B37.535507%2C%20-122.075211%5D%2C%20%5B37.686653%2C%20-122.132278%5D%2C%20%5B34.156448%2C%20-118.250366%5D%2C%20%5B35.46011400000001%2C%20-97.618561%5D%2C%20%5B35.24134%2C%20-80.84357%5D%2C%20%5B36.788868%2C%20-82.087857%5D%2C%20%5B28.177015%2C%20-82.740463%5D%2C%20%5B36.118923%2C%20-95.86866%5D%2C%20%5B40.884274%2C%20-73.23996%5D%2C%20%5B34.06752%2C%20-117.554314%5D%2C%20%5B26.009893%2C%20-80.213104%5D%2C%20%5B35.478474%2C%20-97.565781%5D%2C%20%5B37.595981%2C%20-77.524476%5D%2C%20%5B38.8694%2C%20-76.988411%5D%2C%20%5B40.72492%2C%20-111.51174%5D%2C%20%5B42.37904%2C%20-83.202883%5D%2C%20%5B40.69658%2C%20-112.00567%5D%2C%20%5B34.822292%2C%20-82.287346%5D%2C%20%5B33.436993%2C%20-112.082405%5D%2C%20%5B42.342149%2C%20-122.87397%5D%2C%20%5B37.886646%2C%20-122.308975%5D%2C%20%5B25.910063%2C%20-80.210076%5D%2C%20%5B38.89365%2C%20-104.720207%5D%2C%20%5B42.22016%2C%20-73.83273%5D%2C%20%5B32.794098%2C%20-96.699883%5D%2C%20%5B43.206818%2C%20-77.675682%5D%2C%20%5B42.2276%2C%20-87.97713%5D%2C%20%5B40.68951%2C%20-73.63593%5D%2C%20%5B38.70697%2C%20-90.33691%5D%2C%20%5B29.93445%2C%20-95.415482%5D%2C%20%5B37.569%2C%20-77.47877%5D%2C%20%5B42.96251%2C%20-87.99336%5D%2C%20%5B34.033356%2C%20-118.170227%5D%2C%20%5B28.450108%2C%20-81.438339%5D%2C%20%5B34.01879%2C%20-81.222865%5D%2C%20%5B38.809386%2C%20-77.491647%5D%2C%20%5B40.11178%2C%20-83.00801%5D%2C%20%5B28.309381%2C%20-81.56777199999998%5D%2C%20%5B25.696461%2C%20-80.299126%5D%2C%20%5B41.68309%2C%20-87.60172%5D%2C%20%5B38.297456%2C%20-122.302101%5D%2C%20%5B35.83540700000001%2C%20-78.669601%5D%2C%20%5B39.67841%2C%20-104.993%5D%2C%20%5B34.03709%2C%20-118.2944%5D%2C%20%5B37.889271%2C%20-121.622887%5D%2C%20%5B27.354864000000006%2C%20-81.388992%5D%2C%20%5B32.934272%2C%20-117.241238%5D%2C%20%5B33.628384000000004%2C%20-117.720421%5D%2C%20%5B26.499165%2C%20-81.794235%5D%2C%20%5B33.940812%2C%20-117.266124%5D%2C%20%5B36.139847%2C%20-86.72647099999998%5D%2C%20%5B33.469398%2C%20-82.066864%5D%2C%20%5B34.217690000000005%2C%20-82.10077700000002%5D%2C%20%5B30.475233000000006%2C%20-97.793976%5D%2C%20%5B39.88766%2C%20-86.26949%5D%2C%20%5B34.0221%2C%20-118.80871%5D%2C%20%5B40.129246%2C%20-74.96880300000002%5D%2C%20%5B34.0659%2C%20-118.156185%5D%2C%20%5B44.9435%2C%20-90.5421%5D%2C%20%5B33.50222%2C%20-111.91748%5D%2C%20%5B32.386772%2C%20-111.157043%5D%2C%20%5B39.04600900000001%2C%20-94.415016%5D%2C%20%5B33.011288%2C%20-117.079674%5D%2C%20%5B45.696891%2C%20-120.734091%5D%2C%20%5B27.935476%2C%20-82.293836%5D%2C%20%5B25.787006%2C%20-80.20058399999998%5D%2C%20%5B33.88596%2C%20-118.19%5D%2C%20%5B42.46492%2C%20-87.90339%5D%2C%20%5B38.231533%2C%20-122.584758%5D%2C%20%5B39.487148%2C%20-118.875748%5D%2C%20%5B34.067862%2C%20-118.029814%5D%2C%20%5B43.117027%2C%20-70.82467700000002%5D%2C%20%5B34.153197%2C%20-118.367553%5D%2C%20%5B38.239338%2C%20-85.622902%5D%2C%20%5B36.845852%2C%20-76.183029%5D%2C%20%5B37.71145%2C%20-122.39556%5D%2C%20%5B32.432796%2C%20-93.900032%5D%2C%20%5B34.934586%2C%20-82.07824699999998%5D%2C%20%5B34.072769%2C%20-118.466476%5D%2C%20%5B41.866161%2C%20-71.387299%5D%2C%20%5B48.1395%2C%20-122.18671%5D%2C%20%5B27.33792%2C%20-82.46370999999998%5D%2C%20%5B41.694263%2C%20-87.659653%5D%2C%20%5B38.971196%2C%20-94.71864%5D%2C%20%5B43.149979%2C%20-77.672089%5D%2C%20%5B40.289246%2C%20-75.304794%5D%2C%20%5B30.480041%2C%20-84.302587%5D%2C%20%5B44.93754600000001%2C%20-93.274811%5D%2C%20%5B39.22717700000001%2C%20-76.663666%5D%2C%20%5B38.64124%2C%20-121.45096%5D%2C%20%5B39.98222%2C%20-75.1008%5D%2C%20%5B37.509953%2C%20-122.251463%5D%2C%20%5B28.540541%2C%20-81.28569%5D%2C%20%5B40.83026%2C%20-73.93496%5D%2C%20%5B33.805836%2C%20-118.142509%5D%2C%20%5B25.99801%2C%20-80.22158%5D%2C%20%5B40.087666%2C%20-76.284599%5D%2C%20%5B32.298302%2C%20-80.93537099999998%5D%2C%20%5B37.72945%2C%20-122.186768%5D%2C%20%5B41.930771%2C%20-88.129349%5D%2C%20%5B34.0171%2C%20-118.48254%5D%2C%20%5B25.908344%2C%20-80.211662%5D%2C%20%5B33.488312%2C%20-82.243057%5D%2C%20%5B45.12052%2C%20-117.96124%5D%2C%20%5B34.005014%2C%20-117.388673%5D%2C%20%5B41.88382%2C%20-70.9247%5D%2C%20%5B27.960537%2C%20-82.762924%5D%2C%20%5B44.36541%2C%20-93.60598%5D%2C%20%5B37.800512%2C%20-122.279806%5D%2C%20%5B30.358168%2C%20-97.688049%5D%2C%20%5B37.33244000000001%2C%20-121.84479%5D%2C%20%5B39.524117%2C%20-76.360412%5D%2C%20%5B33.893181%2C%20-118.267021%5D%2C%20%5B25.883633%2C%20-80.32338%5D%2C%20%5B32.720238%2C%20-96.871056%5D%2C%20%5B41.140198%2C%20-95.937317%5D%2C%20%5B42.191689%2C%20-121.5959%5D%2C%20%5B35.49321%2C%20-97.494492%5D%2C%20%5B32.926132%2C%20-96.828682%5D%2C%20%5B37.488678%2C%20-122.21166200000002%5D%2C%20%5B34.152405%2C%20-118.094948%5D%2C%20%5B37.54481%2C%20-77.42825%5D%2C%20%5B40.579094%2C%20-111.900322%5D%2C%20%5B39.6116%2C%20-86.48567%5D%2C%20%5B34.077090000000005%2C%20-118.23035%5D%2C%20%5B34.398268%2C%20-119.356867%5D%2C%20%5B39.776512%2C%20-84.222588%5D%2C%20%5B41.320567%2C%20-73.992727%5D%2C%20%5B38.62914%2C%20-75.86028%5D%2C%20%5B36.0845%2C%20-86.727942%5D%2C%20%5B32.76533%2C%20-117.15451000000002%5D%2C%20%5B40.43052%2C%20-111.88899%5D%2C%20%5B37.76969%2C%20-122.416209%5D%2C%20%5B34.2215%2C%20-119.098068%5D%2C%20%5B34.072762%2C%20-118.057892%5D%2C%20%5B30.435499%2C%20-97.84008%5D%2C%20%5B46.327232%2C%20-114.113713%5D%2C%20%5B33.472569%2C%20-81.990189%5D%2C%20%5B33.668217%2C%20-117.75367%5D%2C%20%5B27.374142%2C%20-80.41024%5D%2C%20%5B40.16341%2C%20-75.473175%5D%2C%20%5B29.74526%2C%20-95.361778%5D%2C%20%5B33.01829%2C%20-84.9521%5D%2C%20%5B39.60266%2C%20-77.68425%5D%2C%20%5B42.69415%2C%20-84.50327%5D%2C%20%5B38.80901%2C%20-76.97017%5D%2C%20%5B25.740374%2C%20-80.33565300000002%5D%2C%20%5B39.63966%2C%20-104.88501%5D%2C%20%5B45.586766%2C%20-93.404493%5D%2C%20%5B33.437228999999995%2C%20-111.736382%5D%2C%20%5B43.230812%2C%20-77.626144%5D%2C%20%5B34.08717%2C%20-117.67452%5D%2C%20%5B44.861805%2C%20-93.308884%5D%2C%20%5B38.749302%2C%20-77.184998%5D%2C%20%5B29.685291%2C%20-95.333336%5D%2C%20%5B43.176235%2C%20-83.880135%5D%2C%20%5B33.83143%2C%20-117.8346%5D%2C%20%5B30.215111%2C%20-85.60481300000002%5D%2C%20%5B37.256386%2C%20-80.17562099999998%5D%2C%20%5B42.2725%2C%20-71.1441%5D%2C%20%5B40.907318%2C%20-73.138733%5D%2C%20%5B42.5804%2C%20-83.03009%5D%2C%20%5B33.458591%2C%20-112.030212%5D%2C%20%5B40.374401%2C%20-82.829247%5D%2C%20%5B32.241188%2C%20-80.820938%5D%2C%20%5B33.853817%2C%20-117.928726%5D%2C%20%5B35.83712%2C%20-78.61326600000002%5D%2C%20%5B37.868105%2C%20-122.195924%5D%2C%20%5B34.035812%2C%20-118.024979%5D%2C%20%5B30.629623%2C%20-88.11779%5D%2C%20%5B35.510681%2C%20-97.575623%5D%2C%20%5B35.289663%2C%20-80.85108100000002%5D%2C%20%5B29.731661%2C%20-95.501228%5D%2C%20%5B35.201679%2C%20-80.76056700000002%5D%2C%20%5B38.223011%2C%20-85.75102199999998%5D%2C%20%5B39.931786%2C%20-74.952225%5D%2C%20%5B41.10248%2C%20-112.00289%5D%2C%20%5B37.63028%2C%20-122.115051%5D%2C%20%5B39.768017%2C%20-104.994804%5D%2C%20%5B35.221016%2C%20-80.94433599999998%5D%2C%20%5B39.83489%2C%20-75.422554%5D%2C%20%5B38.95136%2C%20-77.19655999999998%5D%2C%20%5B34.293276%2C%20-118.84189%5D%2C%20%5B27.984942%2C%20-82.787772%5D%2C%20%5B34.072038%2C%20-117.907502%5D%2C%20%5B38.147506%2C%20-122.454223%5D%2C%20%5B38.67894%2C%20-121.38281299999998%5D%2C%20%5B33.654652%2C%20-112.134483%5D%2C%20%5B44.06522800000001%2C%20-122.812215%5D%2C%20%5B37.794292%2C%20-122.206039%5D%2C%20%5B42.04245%2C%20-124.25027%5D%2C%20%5B45.378579%2C%20-122.291981%5D%2C%20%5B47.24675%2C%20-93.576637%5D%2C%20%5B33.806666%2C%20-83.788387%5D%2C%20%5B33.4701%2C%20-112.03871%5D%2C%20%5B33.740455%2C%20-117.833594%5D%2C%20%5B43.046104%2C%20-83.74859599999998%5D%2C%20%5B33.606262%2C%20-81.843491%5D%2C%20%5B32.704727%2C%20-96.862106%5D%2C%20%5B33.928268%2C%20-118.255821%5D%2C%20%5B42.387642%2C%20-71.003799%5D%2C%20%5B33.737808%2C%20-84.40815699999997%5D%2C%20%5B37.808498%2C%20-122.366852%5D%2C%20%5B39.80135%2C%20-104.97806%5D%2C%20%5B43.190063%2C%20-77.504005%5D%2C%20%5B39.915329%2C%20-76.68403599999998%5D%2C%20%5B30.344163%2C%20-81.668082%5D%2C%20%5B36.269192%2C%20-77.72216800000002%5D%2C%20%5B37.402133%2C%20-122.0307%5D%2C%20%5B29.860886%2C%20-81.281593%5D%2C%20%5B35.2901%2C%20-80.76352%5D%2C%20%5B36.99062%2C%20-121.55786100000002%5D%2C%20%5B34.221385%2C%20-118.475572%5D%2C%20%5B34.07283%2C%20-118.2197%5D%2C%20%5B40.58853%2C%20-80.0993%5D%2C%20%5B29.808197%2C%20-95.50087%5D%2C%20%5B43.06695%2C%20-76.17053%5D%2C%20%5B26.12365%2C%20-80.35781%5D%2C%20%5B36.82927%2C%20-119.91358%5D%2C%20%5B35.262142%2C%20-80.87841800000002%5D%2C%20%5B37.863934%2C%20-122.302826%5D%2C%20%5B38.250011%2C%20-85.61949200000002%5D%2C%20%5B29.7856%2C%20-95.714678%5D%2C%20%5B33.88603%2C%20-118.354672%5D%2C%20%5B34.446548%2C%20-118.611005%5D%2C%20%5B34.064976%2C%20-79.761887%5D%2C%20%5B41.14481%2C%20-96.063477%5D%2C%20%5B28.613740000000004%2C%20-81.47619%5D%2C%20%5B42.289333%2C%20-73.694244%5D%2C%20%5B41.846664%2C%20-88.063622%5D%2C%20%5B46.39666500000001%2C%20-112.774324%5D%2C%20%5B33.983829%2C%20-118.437828%5D%2C%20%5B39.697041%2C%20-105.053085%5D%2C%20%5B33.385571%2C%20-111.93923999999998%5D%2C%20%5B39.925725%2C%20-75.084346%5D%2C%20%5B34.11257%2C%20-117.828827%5D%2C%20%5B40.84478%2C%20-73.90484000000002%5D%2C%20%5B39.745937%2C%20-84.177818%5D%2C%20%5B30.648411%2C%20-88.11106099999998%5D%2C%20%5B25.76973%2C%20-80.3283%5D%2C%20%5B47.388988%2C%20-122.670021%5D%2C%20%5B30.253740000000004%2C%20-97.736252%5D%2C%20%5B34.055358%2C%20-118.108063%5D%2C%20%5B43.1961%2C%20-77.60015%5D%2C%20%5B44.952526%2C%20-93.082787%5D%2C%20%5B30.963796%2C%20-87.763627%5D%2C%20%5B38.495461%2C%20-121.51667%5D%2C%20%5B38.818307%2C%20-76.932182%5D%2C%20%5B32.317562%2C%20-86.231575%5D%2C%20%5B38.50048%2C%20-121.431228%5D%2C%20%5B29.776663%2C%20-95.388847%5D%2C%20%5B34.108152000000004%2C%20-118.330519%5D%2C%20%5B41.420124%2C%20-81.828491%5D%2C%20%5B42.336502%2C%20-88.031761%5D%2C%20%5B45.51835%2C%20-122.56613%5D%2C%20%5B34.037967%2C%20-118.022192%5D%2C%20%5B37.553589%2C%20-77.44579300000002%5D%2C%20%5B43.637439%2C%20-95.491806%5D%2C%20%5B37.76384%2C%20-121.96803%5D%2C%20%5B33.553101%2C%20-112.168846%5D%2C%20%5B34.134373%2C%20-118.067497%5D%2C%20%5B43.310161%2C%20-73.833857%5D%2C%20%5B34.789993%2C%20-82.439011%5D%2C%20%5B37.980042%2C%20-121.746063%5D%2C%20%5B39.954827%2C%20-82.984476%5D%2C%20%5B44.78476%2C%20-117.81122%5D%2C%20%5B38.86012%2C%20-77.17886999999997%5D%2C%20%5B33.92853%2C%20-118.23042%5D%2C%20%5B42.989723%2C%20-83.738518%5D%2C%20%5B37.408367%2C%20-122.068737%5D%2C%20%5B39.86713%2C%20-86.259888%5D%2C%20%5B41.154469%2C%20-112.02603899999998%5D%2C%20%5B44.103069%2C%20-88.534061%5D%2C%20%5B28.451647%2C%20-81.16959399999998%5D%2C%20%5B40.411282%2C%20-75.93911700000002%5D%2C%20%5B40.910521%2C%20-74.506863%5D%2C%20%5B32.71241%2C%20-97.063004%5D%2C%20%5B41.373013%2C%20-122.37462%5D%2C%20%5B29.58108%2C%20-95.17894%5D%2C%20%5B37.99654%2C%20-122.1165%5D%2C%20%5B34.071659000000004%2C%20-118.108223%5D%2C%20%5B40.71204%2C%20-74.31452900000002%5D%2C%20%5B37.8524%2C%20-122.02907%5D%2C%20%5B33.939362%2C%20-81.208786%5D%2C%20%5B37.73313%2C%20-122.412227%5D%2C%20%5B39.782766%2C%20-86.159746%5D%2C%20%5B33.386672999999995%2C%20-111.894348%5D%2C%20%5B36.060692%2C%20-95.97348%5D%2C%20%5B33.815292%2C%20-117.511765%5D%2C%20%5B39.77133%2C%20-104.99073%5D%2C%20%5B40.064129%2C%20-75.322466%5D%2C%20%5B47.569287%2C%20-122.320415%5D%2C%20%5B40.684738%2C%20-73.642662%5D%2C%20%5B32.933048%2C%20-97.315681%5D%2C%20%5B39.783756%2C%20-86.142166%5D%2C%20%5B34.08166%2C%20-117.7038%5D%2C%20%5B42.44184%2C%20-84.95215%5D%2C%20%5B44.877561%2C%20-122.99943%5D%2C%20%5B38.792821%2C%20-121.295017%5D%2C%20%5B39.21064000000001%2C%20-84.57370999999998%5D%2C%20%5B29.424604%2C%20-82.422715%5D%2C%20%5B33.63989%2C%20-84.36145%5D%2C%20%5B35.285973%2C%20-81.062828%5D%2C%20%5B40.535454%2C%20-122.344757%5D%2C%20%5B36.918605%2C%20-76.26881999999998%5D%2C%20%5B38.6342%2C%20-90.02778%5D%2C%20%5B34.13621%2C%20-117.49595%5D%2C%20%5B46.745829%2C%20-92.224447%5D%2C%20%5B29.724895%2C%20-95.476501%5D%2C%20%5B32.779037%2C%20-117.062546%5D%2C%20%5B32.09861%2C%20-81.31985%5D%2C%20%5B38.628239%2C%20-77.292694%5D%2C%20%5B35.03957%2C%20-86.8867%5D%2C%20%5B35.80386%2C%20-78.694069%5D%2C%20%5B40.630319%2C%20-122.274223%5D%2C%20%5B35.850147%2C%20-78.798569%5D%2C%20%5B40.862866%2C%20-74.33609100000002%5D%2C%20%5B43.796235%2C%20-121.442452%5D%2C%20%5B38.107109%2C%20-122.248657%5D%2C%20%5B39.848122%2C%20-104.985306%5D%2C%20%5B33.02085%2C%20-96.98539%5D%2C%20%5B32.662212%2C%20-96.830872%5D%2C%20%5B34.43966%2C%20-119.831839%5D%2C%20%5B42.7646%2C%20-114.69647%5D%2C%20%5B37.808498%2C%20-122.366852%5D%2C%20%5B42.4877%2C%20-83.21249%5D%2C%20%5B32.81842%2C%20-96.832977%5D%2C%20%5B38.722372%2C%20-120.932989%5D%2C%20%5B47.63306%2C%20-122.14601%5D%2C%20%5B41.340221%2C%20-112.036261%5D%2C%20%5B38.892445%2C%20-77.166885%5D%2C%20%5B42.93616%2C%20-85.329667%5D%2C%20%5B39.29566%2C%20-77.838639%5D%2C%20%5B33.845974%2C%20-118.092567%5D%2C%20%5B34.173164%2C%20-118.535973%5D%2C%20%5B28.496393%2C%20-81.39693100000002%5D%2C%20%5B41.77301%2C%20-72.58385%5D%2C%20%5B34.216221000000004%2C%20-119.031554%5D%2C%20%5B40.411396%2C%20-111.478119%5D%2C%20%5B47.575584%2C%20-122.334198%5D%2C%20%5B36.168748%2C%20-86.56551%5D%2C%20%5B41.519636%2C%20-87.74237%5D%2C%20%5B44.956%2C%20-93.0746%5D%2C%20%5B25.9275%2C%20-80.21721%5D%2C%20%5B39.05926%2C%20-84.34795%5D%2C%20%5B33.829249%2C%20-117.46036200000002%5D%2C%20%5B33.978238%2C%20-118.064126%5D%2C%20%5B38.9454%2C%20-76.77024%5D%2C%20%5B34.239659%2C%20-117.429456%5D%2C%20%5B34.017475%2C%20-117.470975%5D%2C%20%5B35.20307000000001%2C%20-80.72393000000002%5D%2C%20%5B33.12896%2C%20-117.0989%5D%2C%20%5B45.167945%2C%20-93.143123%5D%2C%20%5B40.110546%2C%20-74.89119000000002%5D%2C%20%5B40.889099%2C%20-74.476311%5D%2C%20%5B35.581631%2C%20-97.567207%5D%2C%20%5B33.0448%2C%20-117.28601%5D%2C%20%5B38.259319%2C%20-85.73819%5D%2C%20%5B29.704597%2C%20-95.557411%5D%2C%20%5B34.134734%2C%20-117.624661%5D%2C%20%5B44.03347%2C%20-75.841801%5D%2C%20%5B35.482289%2C%20-81.877575%5D%2C%20%5B40.741397%2C%20-74.21521%5D%2C%20%5B46.725666%2C%20-92.073555%5D%2C%20%5B36.037991%2C%20-86.964493%5D%2C%20%5B40.308116%2C%20-111.65529%5D%2C%20%5B42.327805%2C%20-83.15909599999998%5D%2C%20%5B36.626814%2C%20-119.015844%5D%2C%20%5B34.03985%2C%20-118.051691%5D%2C%20%5B37.29905%2C%20-121.87467%5D%2C%20%5B33.441334000000005%2C%20-86.730988%5D%2C%20%5B30.137251000000006%2C%20-82.631417%5D%2C%20%5B35.66942%2C%20-82.99659100000002%5D%2C%20%5B39.98891%2C%20-82.93796%5D%2C%20%5B36.787407%2C%20-76.399849%5D%2C%20%5B32.297232%2C%20-110.97826%5D%2C%20%5B33.873173%2C%20-118.266052%5D%2C%20%5B35.523251%2C%20-97.512161%5D%2C%20%5B36.338254%2C%20-85.703057%5D%2C%20%5B32.361088%2C%20-86.171173%5D%2C%20%5B29.507267%2C%20-98.525948%5D%2C%20%5B34.892520000000005%2C%20-82.29491999999998%5D%2C%20%5B39.815372%2C%20-75.257576%5D%2C%20%5B45.503308%2C%20-118.423278%5D%2C%20%5B37.357392%2C%20-76.73637%5D%2C%20%5B35.387032%2C%20-97.534233%5D%2C%20%5B33.095291%2C%20-79.476196%5D%2C%20%5B34.521961%2C%20-82.831749%5D%2C%20%5B45.01046%2C%20-93.090034%5D%2C%20%5B42.327538%2C%20-71.058777%5D%2C%20%5B36.07188%2C%20-79.78154%5D%2C%20%5B40.222073%2C%20-75.54734499999998%5D%2C%20%5B37.651737%2C%20-111.841405%5D%2C%20%5B34.936729%2C%20-81.99044%5D%2C%20%5B26.396105%2C%20-81.78454599999998%5D%2C%20%5B30.399437%2C%20-97.673485%5D%2C%20%5B40.718971%2C%20-73.974968%5D%2C%20%5B41.101711%2C%20-73.992599%5D%2C%20%5B34.891494%2C%20-82.077229%5D%2C%20%5B44.710793%2C%20-93.032249%5D%2C%20%5B34.0187%2C%20-117.742676%5D%2C%20%5B39.135984%2C%20-84.533181%5D%2C%20%5B34.028209999999994%2C%20-81.101685%5D%2C%20%5B40.38976%2C%20-79.93337%5D%2C%20%5B46.969696%2C%20-123.795128%5D%2C%20%5B35.318661%2C%20-80.949921%5D%2C%20%5B38.099869%2C%20-85.82450899999998%5D%2C%20%5B25.94772%2C%20-80.35163%5D%2C%20%5B34.106664%2C%20-117.807105%5D%2C%20%5B25.51059%2C%20-80.413979%5D%2C%20%5B40.838482%2C%20-73.879936%5D%2C%20%5B34.065105%2C%20-117.806503%5D%2C%20%5B37.348118%2C%20-121.868851%5D%2C%20%5B26.094357%2C%20-80.16888900000002%5D%2C%20%5B40.77591%2C%20-74.04096%5D%2C%20%5B45.49754%2C%20-122.56556%5D%2C%20%5B34.044762%2C%20-81.12230699999998%5D%2C%20%5B39.69979%2C%20-86.10714%5D%2C%20%5B40.742937%2C%20-77.223984%5D%2C%20%5B44.9795%2C%20-122.99688%5D%2C%20%5B25.626145%2C%20-80.41645%5D%2C%20%5B43.564041%2C%20-116.191245%5D%2C%20%5B38.549704%2C%20-122.712933%5D%2C%20%5B39.971329%2C%20-76.731789%5D%2C%20%5B28.667099%2C%20-81.43226800000002%5D%2C%20%5B40.244572%2C%20-75.339607%5D%2C%20%5B43.203873%2C%20-83.714958%5D%2C%20%5B35.08345%2C%20-90.025681%5D%2C%20%5B42.665718%2C%20-123.377658%5D%2C%20%5B39.279385%2C%20-77.63803100000001%5D%2C%20%5B31.324493%2C%20-89.356575%5D%2C%20%5B40.78559%2C%20-74.04833%5D%2C%20%5B41.7394%2C%20-70.49511%5D%2C%20%5B33.925064%2C%20-118.209892%5D%2C%20%5B43.21758%2C%20-70.89348000000003%5D%2C%20%5B25.788635%2C%20-80.20586999999998%5D%2C%20%5B28.540574%2C%20-81.238968%5D%2C%20%5B42.92485%2C%20-85.647888%5D%2C%20%5B29.71528%2C%20-95.50101%5D%2C%20%5B30.47245%2C%20-91.058029%5D%2C%20%5B32.745705%2C%20-117.156418%5D%2C%20%5B30.168213%2C%20-97.737993%5D%2C%20%5B39.041885%2C%20-94.362396%5D%2C%20%5B36.843403%2C%20-76.2108%5D%2C%20%5B36.86315%2C%20-76.30691999999998%5D%2C%20%5B42.216913%2C%20-122.711136%5D%2C%20%5B40.65625%2C%20-73.605354%5D%2C%20%5B41.08355200000001%2C%20-77.479699%5D%2C%20%5B45.557236%2C%20-122.678406%5D%2C%20%5B40.71172%2C%20-111.9039%5D%2C%20%5B43.657738%2C%20-123.205314%5D%2C%20%5B37.053024%2C%20-122.073252%5D%2C%20%5B36.842907%2C%20-76.04199200000002%5D%2C%20%5B44.930123%2C%20-93.071225%5D%2C%20%5B46.106079%2C%20-122.880394%5D%2C%20%5B37.89289%2C%20-122.12501%5D%2C%20%5B39.757698%2C%20-104.99868%5D%2C%20%5B38.155185%2C%20-121.676428%5D%2C%20%5B40.849747%2C%20-73.943146%5D%2C%20%5B28.55253%2C%20-81.38238%5D%2C%20%5B25.941479%2C%20-80.316567%5D%2C%20%5B25.94236%2C%20-80.322243%5D%2C%20%5B41.45499%2C%20-81.69086%5D%2C%20%5B35.211418%2C%20-80.821281%5D%2C%20%5B45.447769%2C%20-93.902184%5D%2C%20%5B38.67367%2C%20-121.73326000000002%5D%2C%20%5B40.154625%2C%20-75.102722%5D%2C%20%5B33.247025%2C%20-117.22792%5D%2C%20%5B34.615990000000004%2C%20-82.378799%5D%2C%20%5B25.81246%2C%20-80.24359%5D%2C%20%5B41.83026%2C%20-88.079124%5D%2C%20%5B34.850770000000004%2C%20-117.14687%5D%2C%20%5B38.86684%2C%20-77.05909%5D%2C%20%5B42.973503%2C%20-83.7257%5D%2C%20%5B35.502949%2C%20-97.534309%5D%2C%20%5B35.19067000000001%2C%20-80.797134%5D%2C%20%5B33.654740000000004%2C%20-112.07418%5D%2C%20%5B33.77903%2C%20-118.279533%5D%2C%20%5B37.588387%2C%20-121.871193%5D%2C%20%5B33.854002%2C%20-117.941834%5D%2C%20%5B36.075378%2C%20-95.904312%5D%2C%20%5B34.390789%2C%20-117.576324%5D%2C%20%5B41.847694%2C%20-87.91923%5D%2C%20%5B33.9557%2C%20-84.12258%5D%2C%20%5B26.709696%2C%20-81.631447%5D%2C%20%5B42.351097%2C%20-83.04805%5D%2C%20%5B33.90511%2C%20-118.18425%5D%2C%20%5B33.42946%2C%20-112.09347%5D%2C%20%5B40.71944000000001%2C%20-74.23394%5D%2C%20%5B38.788208%2C%20-90.479078%5D%2C%20%5B40.04991%2C%20-74.17241%5D%2C%20%5B43.161282%2C%20-77.550797%5D%2C%20%5B44.044441%2C%20-123.05012%5D%2C%20%5B34.00977%2C%20-117.42705%5D%2C%20%5B34.07170900000001%2C%20-117.872429%5D%2C%20%5B33.386551000000004%2C%20-111.66756399999998%5D%2C%20%5B33.94593%2C%20-118.17052%5D%2C%20%5B33.915859999999995%2C%20-84.41301%5D%2C%20%5B38.004192%2C%20-122.08576200000002%5D%2C%20%5B45.54898%2C%20-122.67882%5D%2C%20%5B35.325819%2C%20-80.945634%5D%2C%20%5B37.80771%2C%20-122.36764%5D%2C%20%5B37.277416%2C%20-78.630043%5D%2C%20%5B25.89888%2C%20-80.31551%5D%2C%20%5B40.66757%2C%20-112.02469%5D%2C%20%5B35.337886%2C%20-80.962209%5D%2C%20%5B26.13642%2C%20-80.1695%5D%2C%20%5B36.687836%2C%20-120.660105%5D%2C%20%5B40.78128%2C%20-73.9441%5D%2C%20%5B45.523285%2C%20-122.698235%5D%2C%20%5B41.383224%2C%20-73.582382%5D%2C%20%5B44.712449%2C%20-123.022663%5D%2C%20%5B44.781963%2C%20-93.469521%5D%2C%20%5B35.111984%2C%20-80.971786%5D%2C%20%5B29.025209000000004%2C%20-81.259857%5D%2C%20%5B38.707998%2C%20-77.22301800000002%5D%2C%20%5B39.76207%2C%20-84.194374%5D%2C%20%5B37.578522%2C%20-77.513077%5D%2C%20%5B42.356842%2C%20-71.120232%5D%2C%20%5B39.27086%2C%20-76.557%5D%2C%20%5B42.97338900000001%2C%20-87.91544300000002%5D%2C%20%5B33.74981%2C%20-84.38198%5D%2C%20%5B39.631199%2C%20-84.198769%5D%2C%20%5B40.04583%2C%20-75.42333%5D%2C%20%5B33.461437%2C%20-112.077209%5D%2C%20%5B38.2202%2C%20-85.63058000000002%5D%2C%20%5B38.562686%2C%20-121.488944%5D%2C%20%5B29.741686%2C%20-95.418793%5D%2C%20%5B42.759143%2C%20-74.122856%5D%2C%20%5B35.08741%2C%20-80.81183%5D%2C%20%5B28.786835%2C%20-81.212738%5D%2C%20%5B34.24403%2C%20-88.3963%5D%2C%20%5B34.071940000000005%2C%20-118.08458%5D%2C%20%5B32.91373%2C%20-96.76937%5D%2C%20%5B34.066422%2C%20-117.990881%5D%2C%20%5B35.08206%2C%20-89.89756%5D%2C%20%5B29.258883%2C%20-81.116539%5D%2C%20%5B34.130386%2C%20-118.073189%5D%2C%20%5B29.769533000000006%2C%20-95.264893%5D%2C%20%5B43.980369%2C%20-121.584774%5D%2C%20%5B34.141606%2C%20-117.317406%5D%2C%20%5B25.733269%2C%20-80.331645%5D%2C%20%5B28.51173%2C%20-81.376279%5D%2C%20%5B28.061538%2C%20-82.56945400000002%5D%2C%20%5B39.35381%2C%20-76.75845%5D%2C%20%5B34.121188000000004%2C%20-117.887036%5D%2C%20%5B42.34223%2C%20-87.95382%5D%2C%20%5B41.279401%2C%20-92.645222%5D%2C%20%5B44.93575%2C%20-94.9622%5D%2C%20%5B34.068705%2C%20-117.313839%5D%2C%20%5B39.7408%2C%20-105.34293999999998%5D%2C%20%5B29.68298%2C%20-95.455429%5D%2C%20%5B29.998751%2C%20-95.370445%5D%2C%20%5B30.195103000000003%2C%20-97.624138%5D%2C%20%5B40.613979%2C%20-74.254936%5D%2C%20%5B31.891951%2C%20-106.413658%5D%2C%20%5B38.18883%2C%20-85.783277%5D%2C%20%5B44.96423%2C%20-93.24084%5D%2C%20%5B27.3047%2C%20-80.41403000000003%5D%2C%20%5B39.736103%2C%20-75.560165%5D%2C%20%5B34.956478000000004%2C%20-82.00993299999998%5D%2C%20%5B42.971313%2C%20-85.71709399999997%5D%2C%20%5B32.66807%2C%20-97.23158%5D%2C%20%5B42.43751%2C%20-123.27864%5D%2C%20%5B40.992641%2C%20-73.661316%5D%2C%20%5B47.601649%2C%20-122.324498%5D%2C%20%5B32.691231%2C%20-96.857071%5D%2C%20%5B27.752035%2C%20-82.739189%5D%2C%20%5B45.6128%2C%20-122.67823%5D%2C%20%5B47.669453%2C%20-122.376198%5D%2C%20%5B40.73746%2C%20-73.284571%5D%2C%20%5B39.545078%2C%20-104.944855%5D%2C%20%5B45.93105900000001%2C%20-123.160053%5D%2C%20%5B28.666977000000006%2C%20-81.33960400000002%5D%2C%20%5B42.520699%2C%20-71.508804%5D%2C%20%5B32.1102%2C%20-83.17618%5D%2C%20%5B34.26797%2C%20-118.63542%5D%2C%20%5B28.025431%2C%20-82.500755%5D%2C%20%5B32.337648%2C%20-95.280343%5D%2C%20%5B35.81973%2C%20-78.624%5D%2C%20%5B34.122634999999995%2C%20-118.478424%5D%2C%20%5B35.31252999999999%2C%20-80.76006%5D%2C%20%5B42.43799600000001%2C%20-83.02436800000002%5D%2C%20%5B29.962893%2C%20-95.55027%5D%2C%20%5B32.774282%2C%20-96.792547%5D%2C%20%5B37.97392%2C%20-122.52102%5D%2C%20%5B34.186695%2C%20-118.474022%5D%2C%20%5B32.732792%2C%20-97.398018%5D%2C%20%5B34.063602%2C%20-117.816734%5D%2C%20%5B28.809856%2C%20-81.736855%5D%2C%20%5B32.760265000000004%2C%20-117.197937%5D%2C%20%5B32.657986%2C%20-96.721123%5D%2C%20%5B39.965397%2C%20-76.771896%5D%2C%20%5B33.89275%2C%20-117.88081%5D%2C%20%5B34.244713%2C%20-118.422546%5D%2C%20%5B39.098419%2C%20-76.848389%5D%2C%20%5B42.987198%2C%20-83.693039%5D%2C%20%5B42.729292%2C%20-71.452411%5D%2C%20%5B33.97465%2C%20-118.28099%5D%2C%20%5B44.77362%2C%20-93.21721%5D%2C%20%5B38.589828%2C%20-90.337471%5D%2C%20%5B30.427068%2C%20-91.137055%5D%2C%20%5B32.435009%2C%20-93.743538%5D%2C%20%5B37.826488%2C%20-121.996315%5D%2C%20%5B34.358799%2C%20-79.414886%5D%2C%20%5B41.26791400000001%2C%20-95.956909%5D%2C%20%5B38.343269%2C%20-75.189972%5D%2C%20%5B35.89568%2C%20-78.78992%5D%2C%20%5B29.687416%2C%20-95.507515%5D%2C%20%5B43.05376500000001%2C%20-77.461334%5D%2C%20%5B39.107473%2C%20-77.184044%5D%2C%20%5B37.201798%2C%20-76.570677%5D%2C%20%5B34.984333%2C%20-81.972252%5D%2C%20%5B40.45022%2C%20-80.1401%5D%2C%20%5B39.785252%2C%20-84.230385%5D%2C%20%5B34.43441%2C%20-118.38278%5D%2C%20%5B35.23804000000001%2C%20-80.79961999999998%5D%2C%20%5B34.151693%2C%20-118.149684%5D%2C%20%5B29.509954%2C%20-98.371773%5D%2C%20%5B45.36888%2C%20-122.70003%5D%2C%20%5B34.06392%2C%20-118.00775%5D%2C%20%5B45.103802%2C%20-121.47601%5D%2C%20%5B28.55549%2C%20-82.18692800000002%5D%2C%20%5B34.933338%2C%20-86.773987%5D%2C%20%5B44.92902%2C%20-92.96545%5D%2C%20%5B38.00133%2C%20-122.037795%5D%2C%20%5B40.806404%2C%20-74.167824%5D%2C%20%5B34.028278%2C%20-118.189323%5D%2C%20%5B30.445475%2C%20-91.179199%5D%2C%20%5B39.47718%2C%20-111.89173999999998%5D%2C%20%5B28.635424%2C%20-81.448527%5D%2C%20%5B30.216043%2C%20-81.513786%5D%2C%20%5B26.06663%2C%20-80.165297%5D%2C%20%5B45.054026%2C%20-107.33682%5D%2C%20%5B36.982925%2C%20-121.959595%5D%2C%20%5B38.20838%2C%20-85.67605999999998%5D%2C%20%5B40.76666%2C%20-73.88899%5D%2C%20%5B34.175289%2C%20-81.317875%5D%2C%20%5B41.512581%2C%20-74.069565%5D%2C%20%5B38.74355%2C%20-77.18796%5D%2C%20%5B38.673623%2C%20-121.723033%5D%2C%20%5B34.26603%2C%20-118.46%5D%2C%20%5B29.862589%2C%20-82.55945600000003%5D%2C%20%5B37.64001500000001%2C%20-122.441521%5D%2C%20%5B45.50645%2C%20-122.71576%5D%2C%20%5B44.876776%2C%20-117.024002%5D%2C%20%5B35.036549%2C%20-81.972603%5D%2C%20%5B38.42956%2C%20-122.56416000000002%5D%2C%20%5B28.192607%2C%20-82.46838699999998%5D%2C%20%5B33.906216%2C%20-84.432053%5D%2C%20%5B28.340086%2C%20-81.596878%5D%2C%20%5B41.974949%2C%20-88.20697%5D%2C%20%5B43.000177%2C%20-76.72138000000002%5D%2C%20%5B42.496212%2C%20-83.358414%5D%2C%20%5B25.926882%2C%20-80.207441%5D%2C%20%5B39.763203%2C%20-84.18737%5D%2C%20%5B40.73525%2C%20-73.91933%5D%2C%20%5B34.201239%2C%20-118.403727%5D%2C%20%5B41.7196%2C%20-87.77994%5D%2C%20%5B34.71875%2C%20-86.6325%5D%2C%20%5B39.362495%2C%20-74.441048%5D%2C%20%5B34.025551%2C%20-118.20638999999998%5D%2C%20%5B34.058312%2C%20-118.178656%5D%2C%20%5B36.20636%2C%20-86.773705%5D%2C%20%5B33.728031%2C%20-117.807169%5D%2C%20%5B33.775349%2C%20-118.158958%5D%2C%20%5B45.07380300000001%2C%20-93.286387%5D%2C%20%5B40.987644%2C%20-73.66999100000002%5D%2C%20%5B45.52555%2C%20-122.6607%5D%2C%20%5B40.7505%2C%20-73.94053000000002%5D%2C%20%5B40.084019%2C%20-75.152908%5D%2C%20%5B42.102016%2C%20-71.258965%5D%2C%20%5B33.798725%2C%20-117.89698%5D%2C%20%5B47.97691%2C%20-122.19031%5D%2C%20%5B40.065422%2C%20-75.462761%5D%2C%20%5B38.721241%2C%20-120.833457%5D%2C%20%5B33.855903999999995%2C%20-118.007156%5D%2C%20%5B36.105839%2C%20-86.813889%5D%2C%20%5B37.584379%2C%20-122.328539%5D%2C%20%5B32.260174%2C%20-111.00238799999998%5D%2C%20%5B41.09026%2C%20-74.521889%5D%2C%20%5B35.383247%2C%20-119.065406%5D%2C%20%5B36.75388%2C%20-119.82755%5D%2C%20%5B43.006778%2C%20-123.308286%5D%2C%20%5B41.21734%2C%20-95.95369%5D%2C%20%5B41.75285%2C%20-72.64535%5D%2C%20%5B39.72569%2C%20-105.0002%5D%2C%20%5B35.17456%2C%20-90.01823%5D%2C%20%5B40.516108%2C%20-74.300912%5D%2C%20%5B34.120038%2C%20-117.819526%5D%2C%20%5B34.012219%2C%20-118.418573%5D%2C%20%5B39.019692%2C%20-76.98085%5D%2C%20%5B33.107819%2C%20-80.145332%5D%2C%20%5B36.96957%2C%20-76.41684000000002%5D%2C%20%5B34.028164000000004%2C%20-118.036362%5D%2C%20%5B41.87559%2C%20-87.66181999999998%5D%2C%20%5B39.94143%2C%20-83.39224%5D%2C%20%5B38.119022%2C%20-85.70163000000002%5D%2C%20%5B35.4352%2C%20-97.51617%5D%2C%20%5B34.079159000000004%2C%20-80.942238%5D%2C%20%5B36.754848%2C%20-119.75396%5D%2C%20%5B28.4936%2C%20-81.47524%5D%2C%20%5B38.042828%2C%20-84.454102%5D%2C%20%5B35.36311699999999%2C%20-97.565437%5D%2C%20%5B44.86225%2C%20-93.24403%5D%2C%20%5B35.75272800000001%2C%20-78.64795699999998%5D%2C%20%5B35.507767%2C%20-97.5121%5D%2C%20%5B29.71888%2C%20-95.550781%5D%2C%20%5B37.167522%2C%20-119.205678%5D%2C%20%5B34.362952%2C%20-118.50488500000002%5D%2C%20%5B32.83931%2C%20-97.26903%5D%2C%20%5B41.74998%2C%20-71.45118000000002%5D%2C%20%5B37.559685%2C%20-76.821377%5D%2C%20%5B34.071556%2C%20-118.13478899999998%5D%2C%20%5B33.646446000000005%2C%20-81.903191%5D%2C%20%5B40.740604%2C%20-73.841385%5D%2C%20%5B47.642612%2C%20-122.321114%5D%2C%20%5B42.919243%2C%20-78.848015%5D%2C%20%5B45.50782%2C%20-122.669281%5D%2C%20%5B28.649937%2C%20-82.008018%5D%2C%20%5B37.488808%2C%20-122.212196%5D%2C%20%5B45.663546%2C%20-121.893719%5D%2C%20%5B41.997112%2C%20-87.75005300000002%5D%2C%20%5B35.572028%2C%20-120.76311499999998%5D%2C%20%5B33.531189000000005%2C%20-112.151459%5D%2C%20%5B34.224000000000004%2C%20-119.15404%5D%2C%20%5B25.809919%2C%20-80.334158%5D%2C%20%5B37.959898%2C%20-122.509371%5D%2C%20%5B35.507394%2C%20-82.517656%5D%2C%20%5B32.72124%2C%20-117.07933%5D%2C%20%5B33.14212%2C%20-117.18801%5D%2C%20%5B34.79946%2C%20-82.36758%5D%2C%20%5B33.862038%2C%20-81.203354%5D%2C%20%5B40.252831%2C%20-75.253426%5D%2C%20%5B42.40631%2C%20-82.95625%5D%2C%20%5B33.967167%2C%20-118.083267%5D%2C%20%5B45.33056%2C%20-122.76955%5D%2C%20%5B42.33877%2C%20-88.09731%5D%2C%20%5B34.435485%2C%20-118.618049%5D%2C%20%5B41.83011%2C%20-88.06719%5D%2C%20%5B34.134961%2C%20-117.640281%5D%2C%20%5B37.72362%2C%20-122.40134%5D%2C%20%5B40.797424%2C%20-74.251678%5D%2C%20%5B40.065819%2C%20-76.290199%5D%2C%20%5B35.53667100000001%2C%20-97.589478%5D%2C%20%5B41.061054%2C%20-73.856865%5D%2C%20%5B39.95049%2C%20-82.84546999999998%5D%2C%20%5B32.821468%2C%20-96.665306%5D%2C%20%5B34.042488%2C%20-81.078011%5D%2C%20%5B34.877659%2C%20-82.293358%5D%2C%20%5B41.120533%2C%20-73.373878%5D%2C%20%5B40.24651%2C%20-75.342865%5D%2C%20%5B33.4608%2C%20-112.27247%5D%2C%20%5B39.73485%2C%20-105.16585%5D%2C%20%5B37.539044%2C%20-77.889777%5D%2C%20%5B25.608345%2C%20-80.34761800000003%5D%2C%20%5B32.84148%2C%20-117.0952%5D%2C%20%5B43.01907%2C%20-83.699738%5D%2C%20%5B42.219761%2C%20-121.789551%5D%2C%20%5B34.188516%2C%20-118.159463%5D%2C%20%5B34.74087100000001%2C%20-82.868462%5D%2C%20%5B44.96542%2C%20-93.28805%5D%2C%20%5B29.870031%2C%20-95.384872%5D%2C%20%5B38.993244%2C%20-77.43604300000001%5D%2C%20%5B32.902912%2C%20-97.099274%5D%2C%20%5B47.93443%2C%20-122.19597%5D%2C%20%5B39.998569%2C%20-76.71015899999998%5D%2C%20%5B34.933975%2C%20-90.013521%5D%2C%20%5B44.9631%2C%20-93.34404%5D%2C%20%5B44.212989%2C%20-123.06052%5D%2C%20%5B34.006927000000005%2C%20-117.964813%5D%2C%20%5B41.26766%2C%20-111.96949%5D%2C%20%5B34.0233%2C%20-118.17288%5D%2C%20%5B40.068489%2C%20-76.76722%5D%2C%20%5B28.558576%2C%20-81.484264%5D%2C%20%5B26.908501%2C%20-82.02471899999998%5D%2C%20%5B34.024048%2C%20-117.558258%5D%2C%20%5B34.068497%2C%20-117.861088%5D%2C%20%5B42.38018%2C%20-71.051811%5D%2C%20%5B34.0316%2C%20-118.22274%5D%2C%20%5B29.652903%2C%20-95.251632%5D%2C%20%5B45.5353%2C%20-94.94769%5D%2C%20%5B35.489037%2C%20-97.565636%5D%2C%20%5B35.260498%2C%20-118.932033%5D%2C%20%5B38.43573%2C%20-90.19088%5D%2C%20%5B26.37442%2C%20-80.17014300000002%5D%2C%20%5B39.70621%2C%20-78.57544%5D%2C%20%5B36.138226%2C%20-86.807129%5D%2C%20%5B35.23637%2C%20-80.97018%5D%2C%20%5B40.63439%2C%20-111.823881%5D%2C%20%5B32.667973%2C%20-97.223366%5D%2C%20%5B39.247124%2C%20-119.813568%5D%2C%20%5B31.78916%2C%20-106.44111%5D%2C%20%5B35.175934000000005%2C%20-80.79827900000002%5D%2C%20%5B35.125206%2C%20-80.917503%5D%2C%20%5B36.961472%2C%20-121.7313%5D%2C%20%5B32.771381%2C%20-117.131805%5D%2C%20%5B40.558933%2C%20-111.898117%5D%2C%20%5B42.46995%2C%20-123.00653%5D%2C%20%5B25.82872%2C%20-80.20608%5D%2C%20%5B40.777321%2C%20-73.02963299999998%5D%2C%20%5B41.212261%2C%20-95.947052%5D%2C%20%5B29.750225%2C%20-95.370255%5D%2C%20%5B25.728553%2C%20-80.43173399999998%5D%2C%20%5B40.181469%2C%20-76.404762%5D%2C%20%5B34.04365%2C%20-118.44373%5D%2C%20%5B44.843899%2C%20-93.111237%5D%2C%20%5B42.43102800000001%2C%20-123.254055%5D%2C%20%5B37.256379%2C%20-122.116335%5D%2C%20%5B44.497159%2C%20-124.0827%5D%2C%20%5B39.011152%2C%20-76.405888%5D%2C%20%5B39.179981%2C%20-121.39561%5D%2C%20%5B41.97229%2C%20-88.173828%5D%2C%20%5B40.208005%2C%20-75.35752099999998%5D%2C%20%5B35.015751%2C%20-81.93%5D%2C%20%5B38.54491%2C%20-121.474281%5D%2C%20%5B33.028584%2C%20-117.204918%5D%2C%20%5B37.92205%2C%20-122.061447%5D%2C%20%5B48.658791%2C%20-122.491333%5D%2C%20%5B35.594529%2C%20-84.520491%5D%2C%20%5B34.294998%2C%20-118.41471%5D%2C%20%5B37.341221%2C%20-79.99754300000002%5D%2C%20%5B25.833807%2C%20-80.20575%5D%2C%20%5B41.062424%2C%20-81.478226%5D%2C%20%5B41.66878%2C%20-72.83015%5D%2C%20%5B45.366207%2C%20-122.585159%5D%2C%20%5B30.4956%2C%20-91.146927%5D%2C%20%5B37.921983%2C%20-122.35524%5D%2C%20%5B30.40163%2C%20-91.105484%5D%2C%20%5B27.474088%2C%20-82.26204%5D%2C%20%5B29.81036%2C%20-95.37394%5D%2C%20%5B41.259773%2C%20-95.964134%5D%2C%20%5B32.510971000000005%2C%20-93.744476%5D%2C%20%5B33.34452%2C%20-111.97209%5D%2C%20%5B34.00223%2C%20-79.20832%5D%2C%20%5B45.659527%2C%20-122.57309%5D%2C%20%5B40.133278%2C%20-75.448059%5D%2C%20%5B41.726238%2C%20-70.840012%5D%2C%20%5B34.150669%2C%20-118.468231%5D%2C%20%5B37.874118%2C%20-79.31157900000002%5D%2C%20%5B32.92411%2C%20-96.768059%5D%2C%20%5B42.2998%2C%20-88.03254%5D%2C%20%5B39.06692%2C%20-77.15382%5D%2C%20%5B32.690670000000004%2C%20-117.118362%5D%2C%20%5B33.01398%2C%20-96.97993%5D%2C%20%5B39.362286%2C%20-106.062012%5D%2C%20%5B33.683865000000004%2C%20-84.310005%5D%2C%20%5B35.765396%2C%20-78.55903599999998%5D%2C%20%5B37.238602%2C%20-80.229916%5D%2C%20%5B33.764622%2C%20-84.492882%5D%2C%20%5B28.230314%2C%20-80.718338%5D%2C%20%5B36.875477%2C%20-121.553738%5D%2C%20%5B40.13881%2C%20-75.11276%5D%2C%20%5B41.95049%2C%20-71.4064%5D%2C%20%5B27.193762%2C%20-80.72981300000002%5D%2C%20%5B40.931183%2C%20-73.856674%5D%2C%20%5B32.780567%2C%20-96.772217%5D%2C%20%5B41.33741%2C%20-73.563477%5D%2C%20%5B38.008438%2C%20-122.275627%5D%2C%20%5B25.894581%2C%20-80.209389%5D%2C%20%5B34.172119%2C%20-118.467529%5D%2C%20%5B30.379206%2C%20-91.097893%5D%2C%20%5B39.232239%2C%20-76.649689%5D%2C%20%5B39.208103%2C%20-121.074135%5D%2C%20%5B37.748791%2C%20-122.404007%5D%2C%20%5B33.951462%2C%20-117.676804%5D%2C%20%5B44.97726%2C%20-122.99123%5D%2C%20%5B42.332643%2C%20-88.02905%5D%2C%20%5B39.803552%2C%20-86.031977%5D%2C%20%5B42.194141%2C%20-71.845505%5D%2C%20%5B34.153197%2C%20-118.367554%5D%2C%20%5B40.67850900000001%2C%20-73.897522%5D%2C%20%5B40.57156%2C%20-74.32871999999998%5D%2C%20%5B34.15297%2C%20-118.27965%5D%2C%20%5B40.69916%2C%20-74.23861%5D%2C%20%5B35.464329%2C%20-97.624474%5D%2C%20%5B37.74508%2C%20-122.40493%5D%2C%20%5B39.838799%2C%20-74.192048%5D%2C%20%5B37.25835%2C%20-121.858658%5D%2C%20%5B32.76421%2C%20-117.23265%5D%2C%20%5B41.78175%2C%20-71.419975%5D%2C%20%5B37.700802%2C%20-121.92276%5D%2C%20%5B40.63139%2C%20-111.84018%5D%2C%20%5B33.97375%2C%20-118.38159%5D%2C%20%5B34.087132000000004%2C%20-118.234016%5D%2C%20%5B39.948101%2C%20-78.129784%5D%2C%20%5B39.990121%2C%20-75.205331%5D%2C%20%5B47.64717%2C%20-122.0407%5D%2C%20%5B39.83065%2C%20-75.21755%5D%2C%20%5B30.407892%2C%20-97.745148%5D%2C%20%5B43.02997%2C%20-88.04961%5D%2C%20%5B40.730766%2C%20-74.04746999999998%5D%2C%20%5B38.909817%2C%20-77.04905699999998%5D%2C%20%5B42.283169%2C%20-71.019829%5D%2C%20%5B34.510328%2C%20-118.234729%5D%2C%20%5B37.841862%2C%20-122.485603%5D%2C%20%5B32.774628%2C%20-96.762215%5D%2C%20%5B41.545185%2C%20-71.476951%5D%2C%20%5B38.351572%2C%20-121.983297%5D%2C%20%5B39.205582%2C%20-121.263779%5D%2C%20%5B45.08655%2C%20-93.05255%5D%2C%20%5B32.181422999999995%2C%20-111.003036%5D%2C%20%5B30.280359000000004%2C%20-97.744453%5D%2C%20%5B40.236643%2C%20-104.98001%5D%2C%20%5B34.92155%2C%20-81.98979%5D%2C%20%5B37.990086%2C%20-122.52886200000002%5D%2C%20%5B43.117886%2C%20-83.824776%5D%2C%20%5B31.674517%2C%20-106.335715%5D%2C%20%5B32.773464000000004%2C%20-96.795212%5D%2C%20%5B42.560726%2C%20-71.269539%5D%2C%20%5B37.65863%2C%20-77.63271%5D%2C%20%5B34.323566%2C%20-118.460297%5D%2C%20%5B41.234959%2C%20-111.978561%5D%2C%20%5B36.235111%2C%20-86.75831600000002%5D%2C%20%5B34.182113%2C%20-118.168734%5D%2C%20%5B34.16372%2C%20-117.896176%5D%2C%20%5B34.964199%2C%20-82.02481800000002%5D%2C%20%5B40.88065%2C%20-73.86929%5D%2C%20%5B35.144206%2C%20-80.92853199999998%5D%2C%20%5B30.408121%2C%20-97.679298%5D%2C%20%5B40.606736%2C%20-74.421142%5D%2C%20%5B38.013625%2C%20-121.996839%5D%2C%20%5B39.941488%2C%20-76.679035%5D%2C%20%5B30.408071000000003%2C%20-91.025881%5D%2C%20%5B33.99771%2C%20-118.0683%5D%2C%20%5B33.92503%2C%20-118.326576%5D%2C%20%5B43.167278%2C%20-77.61688199999998%5D%2C%20%5B42.476368%2C%20-71.22060400000002%5D%2C%20%5B37.718285%2C%20-77.44836600000002%5D%2C%20%5B29.150378000000003%2C%20-82.18491999999998%5D%2C%20%5B42.384705%2C%20-83.242432%5D%2C%20%5B40.006489%2C%20-75.19381%5D%2C%20%5B34.055695%2C%20-118.451965%5D%2C%20%5B39.713121%2C%20-86.264013%5D%2C%20%5B32.895969%2C%20-96.898048%5D%2C%20%5B40.621315%2C%20-112.357445%5D%2C%20%5B29.42309%2C%20-98.50165%5D%2C%20%5B35.794411%2C%20-78.582787%5D%2C%20%5B27.95652%2C%20-82.460732%5D%2C%20%5B34.16924%2C%20-118.46793999999998%5D%2C%20%5B34.059258%2C%20-118.252587%5D%2C%20%5B33.870808000000004%2C%20-98.536659%5D%2C%20%5B45.5353%2C%20-122.68621%5D%2C%20%5B32.338669%2C%20-86.179291%5D%2C%20%5B35.922149%2C%20-86.866718%5D%2C%20%5B33.66766%2C%20-111.959854%5D%2C%20%5B28.20071%2C%20-82.24713100000002%5D%2C%20%5B33.818196%2C%20-117.917957%5D%2C%20%5B34.03006%2C%20-118.44154%5D%2C%20%5B35.390342%2C%20-84.722646%5D%2C%20%5B37.54932%2C%20-122.292496%5D%2C%20%5B39.980175%2C%20-75.269287%5D%2C%20%5B26.690718%2C%20-80.06658900000002%5D%2C%20%5B34.32983%2C%20-118.505791%5D%2C%20%5B37.257099%2C%20-93.233307%5D%2C%20%5B33.713676%2C%20-84.233559%5D%2C%20%5B25.940488%2C%20-80.293993%5D%2C%20%5B33.045643%2C%20-96.923004%5D%2C%20%5B36.1236%2C%20-86.74825%5D%2C%20%5B40.699667%2C%20-73.506608%5D%2C%20%5B39.8536%2C%20-86.21282%5D%2C%20%5B28.325527%2C%20-82.32049599999998%5D%2C%20%5B29.722092%2C%20-95.539055%5D%2C%20%5B35.91047000000001%2C%20-78.97985%5D%2C%20%5B39.70115300000001%2C%20-86.25990300000002%5D%2C%20%5B40.306293%2C%20-75.89990999999998%5D%2C%20%5B33.035049%2C%20-80.246742%5D%2C%20%5B42.35117%2C%20-71.05613000000002%5D%2C%20%5B37.809088%2C%20-120.665399%5D%2C%20%5B45.288795%2C%20-93.003105%5D%2C%20%5B33.56749%2C%20-84.32422%5D%2C%20%5B35.478863%2C%20-97.706772%5D%2C%20%5B41.27412%2C%20-96.00959%5D%2C%20%5B42.821007%2C%20-71.487953%5D%2C%20%5B33.4358%2C%20-112.25516%5D%2C%20%5B44.754765%2C%20-122.398596%5D%2C%20%5B33.925384%2C%20-118.369134%5D%2C%20%5B40.89449000000001%2C%20-74.24861%5D%2C%20%5B34.279095%2C%20-118.469826%5D%2C%20%5B38.113682%2C%20-122.564308%5D%2C%20%5B39.09311%2C%20-77.19658000000003%5D%2C%20%5B33.85607%2C%20-118.01493%5D%2C%20%5B34.213093%2C%20-80.421768%5D%2C%20%5B26.520051%2C%20-81.91956400000002%5D%2C%20%5B32.863831%2C%20-96.895119%5D%2C%20%5B34.155120000000004%2C%20-118.27029%5D%2C%20%5B34.784439%2C%20-82.406601%5D%2C%20%5B39.096411%2C%20-121.551558%5D%2C%20%5B45.539074%2C%20-122.57892%5D%2C%20%5B33.804323%2C%20-118.220713%5D%2C%20%5B25.92544%2C%20-80.27185%5D%2C%20%5B35.781361%2C%20-78.666878%5D%2C%20%5B41.51116%2C%20-87.5778%5D%2C%20%5B39.845173%2C%20-75.131683%5D%2C%20%5B40.885806%2C%20-73.257025%5D%2C%20%5B47.693832%2C%20-122.290627%5D%2C%20%5B42.5595%2C%20-73.679434%5D%2C%20%5B42.33619%2C%20-83.09037%5D%2C%20%5B39.0515%2C%20-76.84142%5D%2C%20%5B38.39148%2C%20-82.57037%5D%2C%20%5B37.41803%2C%20-77.50209%5D%2C%20%5B30.448139%2C%20-97.792625%5D%2C%20%5B37.925983%2C%20-122.514496%5D%2C%20%5B42.38248%2C%20-87.95203000000002%5D%2C%20%5B33.748151%2C%20-117.832373%5D%2C%20%5B42.40054%2C%20-83.07091%5D%2C%20%5B40.840549%2C%20-74.16109499999997%5D%2C%20%5B25.748028%2C%20-80.320137%5D%2C%20%5B25.843722%2C%20-80.322071%5D%2C%20%5B28.675299%2C%20-81.853447%5D%2C%20%5B32.815994%2C%20-96.76371%5D%2C%20%5B39.761055%2C%20-104.776965%5D%2C%20%5B38.636879%2C%20-121.328094%5D%2C%20%5B39.28843300000001%2C%20-77.534385%5D%2C%20%5B38.95326%2C%20-76.73756999999998%5D%2C%20%5B39.40172800000001%2C%20-77.428135%5D%2C%20%5B41.30761%2C%20-72.969269%5D%2C%20%5B34.156815%2C%20-118.410988%5D%2C%20%5B37.422189%2C%20-121.93042%5D%2C%20%5B26.136631%2C%20-80.16950200000002%5D%2C%20%5B28.535809000000004%2C%20-81.37853199999998%5D%2C%20%5B41.98086%2C%20-87.8955%5D%2C%20%5B42.20438%2C%20-87.8909%5D%2C%20%5B34.102898%2C%20-118.196304%5D%2C%20%5B40.628113%2C%20-111.799123%5D%2C%20%5B45.529804%2C%20-122.649643%5D%2C%20%5B42.93799%2C%20-114.976982%5D%2C%20%5B31.89291%2C%20-106.433022%5D%2C%20%5B37.547031%2C%20-77.448838%5D%2C%20%5B35.37621%2C%20-82.49771%5D%2C%20%5B38.91745%2C%20-76.97267%5D%2C%20%5B45.528397%2C%20-122.653571%5D%2C%20%5B33.85917%2C%20-118.20152%5D%2C%20%5B31.739649%2C%20-106.32489%5D%2C%20%5B47.322407%2C%20-122.244759%5D%2C%20%5B35.830528%2C%20-78.61879%5D%2C%20%5B25.49967%2C%20-80.446028%5D%2C%20%5B34.124352%2C%20-117.884087%5D%2C%20%5B34.011105%2C%20-118.281265%5D%2C%20%5B37.561272%2C%20-77.487099%5D%2C%20%5B28.47603%2C%20-81.44521%5D%2C%20%5B41.577691%2C%20-87.531401%5D%2C%20%5B35.44122700000001%2C%20-119.052419%5D%2C%20%5B43.027958%2C%20-88.02211%5D%2C%20%5B44.915462%2C%20-93.144196%5D%2C%20%5B44.076915%2C%20-123.047401%5D%2C%20%5B40.217388%2C%20-75.7174%5D%2C%20%5B35.466484%2C%20-97.530083%5D%2C%20%5B35.774193%2C%20-77.99324%5D%2C%20%5B42.667244%2C%20-73.73311600000002%5D%2C%20%5B35.54935800000001%2C%20-97.630867%5D%2C%20%5B37.837975%2C%20-122.296701%5D%2C%20%5B34.019627%2C%20-117.190781%5D%2C%20%5B26.607331%2C%20-81.945551%5D%2C%20%5B35.394051%2C%20-97.565514%5D%2C%20%5B28.53698%2C%20-81.52575999999998%5D%2C%20%5B39.017616%2C%20-104.78066%5D%2C%20%5B44.88369%2C%20-93.13871%5D%2C%20%5B40.8457%2C%20-73.928949%5D%2C%20%5B33.91662%2C%20-117.28733%5D%2C%20%5B37.17803%2C%20-76.55326%5D%2C%20%5B34.42171%2C%20-119.628923%5D%2C%20%5B30.453962%2C%20-90.960971%5D%2C%20%5B34.142731%2C%20-117.322128%5D%2C%20%5B40.188438%2C%20-75.226089%5D%2C%20%5B42.054867%2C%20-87.825577%5D%2C%20%5B42.27268%2C%20-84.42141%5D%2C%20%5B35.978633%2C%20-119.956958%5D%2C%20%5B34.222744%2C%20-118.473555%5D%2C%20%5B40.620792%2C%20-111.890549%5D%2C%20%5B40.608044%2C%20-74.136925%5D%2C%20%5B33.862378%2C%20-118.284902%5D%2C%20%5B38.692955%2C%20-121.351646%5D%2C%20%5B25.809752%2C%20-80.321396%5D%2C%20%5B35.086887%2C%20-80.956032%5D%2C%20%5B32.262972%2C%20-85.939596%5D%2C%20%5B39.18407%2C%20-84.77776999999998%5D%2C%20%5B39.189617%2C%20-74.820647%5D%2C%20%5B29.81285%2C%20-95.40279%5D%2C%20%5B38.700016%2C%20-120.990036%5D%2C%20%5B38.489391%2C%20-121.408852%5D%2C%20%5B33.393188%2C%20-86.784828%5D%2C%20%5B32.956429%2C%20-80.298576%5D%2C%20%5B27.960594%2C%20-82.738158%5D%2C%20%5B40.69092%2C%20-82.5134%5D%2C%20%5B39.79817%2C%20-104.93113999999998%5D%2C%20%5B33.921124%2C%20-82.115593%5D%2C%20%5B34.981171%2C%20-81.99781%5D%2C%20%5B44.858116%2C%20-93.143974%5D%2C%20%5B38.60404000000001%2C%20-121.506649%5D%2C%20%5B41.521833%2C%20-109.454368%5D%2C%20%5B37.626663%2C%20-122.486008%5D%2C%20%5B39.95763%2C%20-76.74852%5D%2C%20%5B41.2444%2C%20-111.989746%5D%2C%20%5B29.586990000000004%2C%20-98.631172%5D%2C%20%5B44.256301%2C%20-121.18143899999998%5D%2C%20%5B40.33886%2C%20-76.711479%5D%2C%20%5B47.6878%2C%20-122.3278%5D%2C%20%5B35.17093%2C%20-111.65663%5D%2C%20%5B41.875707%2C%20-87.64556999999998%5D%2C%20%5B35.43277%2C%20-97.57004%5D%2C%20%5B32.953827000000004%2C%20-117.189315%5D%2C%20%5B42.998842%2C%20-71.412003%5D%2C%20%5B33.500919%2C%20-117.151209%5D%2C%20%5B37.521141%2C%20-77.270531%5D%2C%20%5B36.439106%2C%20-120.396957%5D%2C%20%5B33.596539%2C%20-112.099899%5D%2C%20%5B41.97206%2C%20-88.11965%5D%2C%20%5B39.056704%2C%20-120.996286%5D%2C%20%5B44.75444%2C%20-122.292312%5D%2C%20%5B39.013363%2C%20-77.045027%5D%2C%20%5B38.01913%2C%20-121.93727%5D%2C%20%5B40.654049%2C%20-112.076103%5D%2C%20%5B39.27359000000001%2C%20-76.724419%5D%2C%20%5B32.27619%2C%20-111.014474%5D%2C%20%5B40.77167100000001%2C%20-73.246185%5D%2C%20%5B30.355173%2C%20-97.715355%5D%2C%20%5B42.189137%2C%20-87.82570600000003%5D%2C%20%5B38.898769%2C%20-77.196671%5D%2C%20%5B40.72994%2C%20-74.03969000000002%5D%2C%20%5B32.231998%2C%20-80.839241%5D%2C%20%5B36.11063%2C%20-96.012123%5D%2C%20%5B32.687319%2C%20-117.114118%5D%2C%20%5B32.82925%2C%20-96.619522%5D%2C%20%5B33.78727%2C%20-84.39081999999998%5D%2C%20%5B41.90408%2C%20-88.12057%5D%2C%20%5B40.82139%2C%20-111.9165%5D%2C%20%5B29.511078%2C%20-98.552689%5D%2C%20%5B35.24004%2C%20-80.77816%5D%2C%20%5B37.63511%2C%20-77.45916%5D%2C%20%5B34.173649%2C%20-118.553482%5D%2C%20%5B41.76963%2C%20-72.67305%5D%2C%20%5B40.422642%2C%20-74.191349%5D%2C%20%5B34.55793%2C%20-82.627388%5D%2C%20%5B30.343740000000004%2C%20-97.696838%5D%2C%20%5B30.602688%2C%20-88.149849%5D%2C%20%5B38.478897%2C%20-121.421066%5D%2C%20%5B33.522308%2C%20-111.926041%5D%2C%20%5B37.7954%2C%20-79.40425%5D%2C%20%5B38.23507%2C%20-122.46106%5D%2C%20%5B28.397587%2C%20-81.40459399999997%5D%2C%20%5B33.657664000000004%2C%20-117.7782%5D%2C%20%5B35.479988%2C%20-97.51757%5D%2C%20%5B34.16475%2C%20-119.0628%5D%2C%20%5B41.6006%2C%20-93.583034%5D%2C%20%5B44.32985%2C%20-124.09907%5D%2C%20%5B36.154682%2C%20-86.759506%5D%2C%20%5B41.128328%2C%20-74.621831%5D%2C%20%5B43.478725%2C%20-83.906418%5D%2C%20%5B39.9599%2C%20-75.17539000000002%5D%2C%20%5B33.91037%2C%20-81.49305%5D%2C%20%5B38.27626%2C%20-122.0474%5D%2C%20%5B34.84383%2C%20-82.161819%5D%2C%20%5B37.68307%2C%20-122.12673999999998%5D%2C%20%5B34.18897%2C%20-83.589702%5D%2C%20%5B26.70658%2C%20-80.090886%5D%2C%20%5B38.575691%2C%20-121.567741%5D%2C%20%5B39.74259%2C%20-84.20477%5D%2C%20%5B33.824123%2C%20-84.152283%5D%2C%20%5B30.404702%2C%20-91.059625%5D%2C%20%5B40.81656%2C%20-81.39679%5D%2C%20%5B35.2689%2C%20-80.97594000000002%5D%2C%20%5B33.846608%2C%20-118.20538700000002%5D%2C%20%5B39.665768%2C%20-121.743866%5D%2C%20%5B38.496105%2C%20-121.441513%5D%2C%20%5B41.857624%2C%20-88.14265400000002%5D%2C%20%5B35.27656%2C%20-80.79352%5D%2C%20%5B39.245644%2C%20-77.619484%5D%2C%20%5B41.81461%2C%20-71.370094%5D%2C%20%5B25.670803%2C%20-80.365776%5D%2C%20%5B25.785609%2C%20-80.192052%5D%2C%20%5B29.93876%2C%20-95.3771%5D%2C%20%5B38.874188%2C%20-76.977242%5D%2C%20%5B37.495655%2C%20-121.923157%5D%2C%20%5B29.80603%2C%20-95.29899%5D%2C%20%5B29.92142%2C%20-90.014162%5D%2C%20%5B32.837608%2C%20-97.049324%5D%2C%20%5B37.320587%2C%20-120.851183%5D%2C%20%5B34.096195%2C%20-117.302017%5D%2C%20%5B36.107971%2C%20-86.80950899999998%5D%2C%20%5B29.713788%2C%20-95.340988%5D%2C%20%5B47.651586%2C%20-122.932633%5D%2C%20%5B41.033672%2C%20-73.753555%5D%2C%20%5B44.70683%2C%20-93.4304%5D%2C%20%5B36.337165%2C%20-119.726845%5D%2C%20%5B34.03051%2C%20-117.65658%5D%2C%20%5B40.610008%2C%20-74.15065%5D%2C%20%5B40.492875%2C%20-75.380724%5D%2C%20%5B25.62888%2C%20-80.34369699999998%5D%2C%20%5B33.352364%2C%20-81.80460699999998%5D%2C%20%5B33.527106%2C%20-81.938389%5D%2C%20%5B39.627876%2C%20-75.67068499999998%5D%2C%20%5B37.9231%2C%20-122.51297%5D%2C%20%5B33.875668%2C%20-81.512924%5D%2C%20%5B39.808372%2C%20-86.083481%5D%2C%20%5B34.067284%2C%20-81.142235%5D%2C%20%5B40.070107%2C%20-74.960838%5D%2C%20%5B34.1063%2C%20-80.985222%5D%2C%20%5B28.54748%2C%20-81.47563000000002%5D%2C%20%5B38.906471%2C%20-84.54469300000002%5D%2C%20%5B42.166088%2C%20-123.497345%5D%2C%20%5B31.065485%2C%20-89.208115%5D%2C%20%5B34.274746%2C%20-118.596199%5D%2C%20%5B33.56333%2C%20-112.11622%5D%2C%20%5B37.956813%2C%20-120.304281%5D%2C%20%5B35.055426000000004%2C%20-81.095031%5D%2C%20%5B34.134501%2C%20-117.658368%5D%2C%20%5B40.262626%2C%20-75.31981800000001%5D%2C%20%5B45.312434%2C%20-122.923277%5D%2C%20%5B33.814922%2C%20-84.364494%5D%2C%20%5B25.686059%2C%20-80.39741500000002%5D%2C%20%5B33.562147%2C%20-81.611067%5D%2C%20%5B47.60701%2C%20-122.33002%5D%2C%20%5B44.86130900000001%2C%20-93.16095%5D%2C%20%5B46.028602%2C%20-123.243977%5D%2C%20%5B29.590599%2C%20-98.295731%5D%2C%20%5B40.91552%2C%20-77.7379%5D%2C%20%5B33.61198%2C%20-83.75497%5D%2C%20%5B40.711079%2C%20-73.728096%5D%2C%20%5B35.211788%2C%20-80.79875200000002%5D%2C%20%5B40.690609%2C%20-73.574348%5D%2C%20%5B30.589638%2C%20-88.157976%5D%2C%20%5B30.469535%2C%20-84.36116700000002%5D%2C%20%5B33.46257%2C%20-112.12931%5D%2C%20%5B38.012743%2C%20-121.868931%5D%2C%20%5B40.708%2C%20-74.248039%5D%2C%20%5B37.996773%2C%20-121.789698%5D%2C%20%5B38.021811%2C%20-121.960767%5D%2C%20%5B37.732823%2C%20-121.724116%5D%2C%20%5B30.44471%2C%20-84.27959%5D%2C%20%5B30.270292%2C%20-97.754593%5D%2C%20%5B32.74726500000001%2C%20-96.750076%5D%2C%20%5B30.214649%2C%20-97.637932%5D%2C%20%5B36.01685%2C%20-86.619881%5D%2C%20%5B38.646484%2C%20-121.377106%5D%2C%20%5B42.15386%2C%20-88.06286%5D%2C%20%5B33.892853%2C%20-118.278679%5D%2C%20%5B37.66231%2C%20-104.79714%5D%2C%20%5B34.010635%2C%20-117.429916%5D%2C%20%5B35.541817%2C%20-97.60141%5D%2C%20%5B39.022114%2C%20-76.94982900000002%5D%2C%20%5B29.999836%2C%20-82.59719799999998%5D%2C%20%5B34.08885%2C%20-117.99452%5D%2C%20%5B45.50682000000001%2C%20-122.67098%5D%2C%20%5B38.63095%2C%20-121.52001%5D%2C%20%5B35.17487%2C%20-82.189278%5D%2C%20%5B48.445942%2C%20-122.251015%5D%2C%20%5B32.20685%2C%20-110.92668%5D%2C%20%5B30.150159%2C%20-85.59106899999998%5D%2C%20%5B36.139847%2C%20-86.72647099999998%5D%2C%20%5B37.30356%2C%20-122.03547%5D%2C%20%5B36.14674%2C%20-86.743752%5D%2C%20%5B37.061959%2C%20-77.374209%5D%2C%20%5B39.083874%2C%20-123.182159%5D%2C%20%5B32.73555%2C%20-97.10585%5D%2C%20%5B32.178368%2C%20-81.027245%5D%2C%20%5B40.662945%2C%20-89.568085%5D%2C%20%5B44.94876%2C%20-92.9589%5D%2C%20%5B30.50181%2C%20-91.107788%5D%2C%20%5B34.054267%2C%20-118.004184%5D%2C%20%5B33.862549%2C%20-117.25978899999998%5D%2C%20%5B28.543907%2C%20-81.51606%5D%2C%20%5B33.168499%2C%20-117.344832%5D%2C%20%5B37.58131%2C%20-77.441467%5D%2C%20%5B26.617519%2C%20-80.173645%5D%2C%20%5B33.849478000000005%2C%20-118.275185%5D%2C%20%5B35.763865%2C%20-78.60696%5D%2C%20%5B41.846547%2C%20-87.639185%5D%2C%20%5B39.09694%2C%20-94.54812%5D%2C%20%5B33.82594%2C%20-118.23702%5D%2C%20%5B25.81088%2C%20-80.18234%5D%2C%20%5B40.451458%2C%20-76.516441%5D%2C%20%5B41.553047%2C%20-87.852425%5D%2C%20%5B41.71352%2C%20-87.933746%5D%2C%20%5B34.134440000000005%2C%20-117.95702%5D%2C%20%5B37.54668%2C%20-77.43388%5D%2C%20%5B42.354225%2C%20-71.110649%5D%2C%20%5B37.542801%2C%20-77.42920699999998%5D%2C%20%5B38.844489%2C%20-77.438194%5D%2C%20%5B41.77767%2C%20-87.78124%5D%2C%20%5B41.379307%2C%20-72.884102%5D%2C%20%5B34.49943%2C%20-118.62657%5D%2C%20%5B38.735241%2C%20-76.82556899999999%5D%2C%20%5B34.012234%2C%20-118.418549%5D%2C%20%5B34.324951%2C%20-119.097221%5D%2C%20%5B40.648697%2C%20-74.287415%5D%2C%20%5B32.772789%2C%20-96.856598%5D%2C%20%5B37.31749%2C%20-121.904381%5D%2C%20%5B37.701381%2C%20-122.021122%5D%2C%20%5B35.66966%2C%20-78.50632%5D%2C%20%5B45.42561%2C%20-94.0278%5D%2C%20%5B41.443859%2C%20-81.621658%5D%2C%20%5B33.28258%2C%20-111.81602%5D%2C%20%5B30.28257%2C%20-97.70398%5D%2C%20%5B37.635204%2C%20-77.54675300000002%5D%2C%20%5B41.875732%2C%20-87.667168%5D%2C%20%5B45.57275%2C%20-123.00451%5D%2C%20%5B33.5485%2C%20-84.28299999999999%5D%2C%20%5B33.492062%2C%20-84.219833%5D%2C%20%5B37.711109%2C%20-121.022179%5D%2C%20%5B29.749031%2C%20-95.357277%5D%2C%20%5B34.034149%2C%20-118.350067%5D%2C%20%5B26.394440000000003%2C%20-80.0836%5D%2C%20%5B26.512417%2C%20-80.172523%5D%2C%20%5B26.09367%2C%20-80.36367%5D%2C%20%5B36.803753%2C%20-76.43002299999998%5D%2C%20%5B34.15041%2C%20-118.280701%5D%2C%20%5B34.041981%2C%20-118.201373%5D%2C%20%5B40.59294000000001%2C%20-111.90219%5D%2C%20%5B25.760338%2C%20-80.365443%5D%2C%20%5B34.83075%2C%20-82.305702%5D%2C%20%5B39.91499%2C%20-75.42589%5D%2C%20%5B40.163353%2C%20-76.15158100000002%5D%2C%20%5B33.931026%2C%20-118.368252%5D%2C%20%5B34.773364%2C%20-82.229766%5D%2C%20%5B33.75412%2C%20-84.37841999999998%5D%2C%20%5B36.1548%2C%20-86.76045%5D%2C%20%5B33.688641%2C%20-117.902382%5D%2C%20%5B35.38418%2C%20-97.16113%5D%2C%20%5B30.43667%2C%20-85.185852%5D%2C%20%5B28.523066%2C%20-81.30892800000002%5D%2C%20%5B37.899653%2C%20-79.270005%5D%2C%20%5B30.317390000000003%2C%20-81.67761999999998%5D%2C%20%5B39.241135%2C%20-76.584625%5D%2C%20%5B40.43061%2C%20-80.02573000000002%5D%2C%20%5B34.687607%2C%20-79.765106%5D%2C%20%5B42.928207%2C%20-78.89872%5D%2C%20%5B35.23941%2C%20-80.826759%5D%2C%20%5B27.872473%2C%20-82.762245%5D%2C%20%5B43.075619%2C%20-78.99092900000002%5D%2C%20%5B40.67847800000001%2C%20-75.34236899999998%5D%2C%20%5B30.24398%2C%20-81.58858000000002%5D%2C%20%5B38.663975%2C%20-121.225628%5D%2C%20%5B41.82056%2C%20-88.20374%5D%2C%20%5B34.11965900000001%2C%20-117.806999%5D%2C%20%5B37.135902%2C%20-93.296471%5D%2C%20%5B39.981142%2C%20-76.694907%5D%2C%20%5B25.880138%2C%20-80.355719%5D%2C%20%5B34.354764%2C%20-117.437871%5D%2C%20%5B30.36018%2C%20-97.692139%5D%2C%20%5B40.63043%2C%20-111.87786%5D%2C%20%5B29.696329%2C%20-95.23851%5D%2C%20%5B40.10699%2C%20-82.95770999999998%5D%2C%20%5B40.6344%2C%20-111.89536%5D%2C%20%5B42.46627%2C%20-88.03757%5D%2C%20%5B34.04058%2C%20-118.21888%5D%2C%20%5B38.101711%2C%20-121.178261%5D%2C%20%5B35.623917%2C%20-97.789108%5D%2C%20%5B33.988941%2C%20-118.343979%5D%2C%20%5B34.173649%2C%20-118.553482%5D%2C%20%5B45.48654000000001%2C%20-122.79283%5D%2C%20%5B40.750778%2C%20-73.940765%5D%2C%20%5B30.806365000000003%2C%20-97.615067%5D%2C%20%5B35.968422%2C%20-78.498329%5D%2C%20%5B34.24646%2C%20-82.14810899999998%5D%2C%20%5B35.412471999999994%2C%20-119.05441299999998%5D%2C%20%5B44.778042%2C%20-93.505272%5D%2C%20%5B34.295958%2C%20-118.471981%5D%2C%20%5B25.978649%2C%20-80.350616%5D%2C%20%5B33.766254%2C%20-84.662715%5D%2C%20%5B43.024345%2C%20-88.10605600000002%5D%2C%20%5B40.77896%2C%20-73.82677%5D%2C%20%5B33.61908%2C%20-84.08041%5D%2C%20%5B42.269531%2C%20-87.9505%5D%2C%20%5B33.85412%2C%20-117.95422%5D%2C%20%5B38.660477%2C%20-121.36087%5D%2C%20%5B39.06266%2C%20-76.64008000000003%5D%2C%20%5B28.60049%2C%20-81.38637%5D%2C%20%5B38.829243%2C%20-77.21887199999998%5D%2C%20%5B39.027%2C%20-94.24386%5D%2C%20%5B33.568546000000005%2C%20-86.71659100000002%5D%2C%20%5B38.672535%2C%20-90.449135%5D%2C%20%5B29.804541%2C%20-95.516426%5D%2C%20%5B40.68383%2C%20-75.2541%5D%2C%20%5B26.965525%2C%20-82.083519%5D%2C%20%5B42.946449%2C%20-85.675751%5D%2C%20%5B35.75297%2C%20-78.63141999999998%5D%2C%20%5B37.512005%2C%20-122.349594%5D%2C%20%5B36.61281%2C%20-79.36219%5D%2C%20%5B35.241554%2C%20-80.93474499999998%5D%2C%20%5B33.908905%2C%20-117.452496%5D%2C%20%5B42.0726%2C%20-84.0665%5D%2C%20%5B41.859608%2C%20-87.640991%5D%2C%20%5B30.226557%2C%20-97.769524%5D%2C%20%5B28.350166%2C%20-81.490269%5D%2C%20%5B40.56715300000001%2C%20-124.211671%5D%2C%20%5B39.67727%2C%20-77.57231999999998%5D%2C%20%5B34.119826%2C%20-117.838639%5D%2C%20%5B32.849647999999995%2C%20-86.623016%5D%2C%20%5B38.617575%2C%20-121.364472%5D%2C%20%5B37.56315%2C%20-77.41631%5D%2C%20%5B34.441055%2C%20-119.815044%5D%2C%20%5B33.888148%2C%20-84.254517%5D%2C%20%5B33.89275%2C%20-84.259178%5D%2C%20%5B40.723278%2C%20-73.939255%5D%2C%20%5B37.03495%2C%20-122.02174%5D%2C%20%5B29.902794%2C%20-95.551804%5D%2C%20%5B39.01247%2C%20-77.531685%5D%2C%20%5B40.667114%2C%20-73.995918%5D%2C%20%5B33.93828%2C%20-118.36855%5D%2C%20%5B35.219486%2C%20-80.825005%5D%2C%20%5B33.071323%2C%20-117.069599%5D%2C%20%5B34.051525%2C%20-118.260458%5D%2C%20%5B37.907164%2C%20-122.314949%5D%2C%20%5B38.125385%2C%20-122.228943%5D%2C%20%5B38.571922%2C%20-77.318024%5D%2C%20%5B32.660038%2C%20-117.108177%5D%2C%20%5B41.859009%2C%20-87.640915%5D%2C%20%5B37.559791%2C%20-122.041689%5D%2C%20%5B25.897203%2C%20-80.245361%5D%2C%20%5B38.12986400000001%2C%20-77.512199%5D%2C%20%5B25.814051%2C%20-80.20602%5D%2C%20%5B36.98817%2C%20-119.528106%5D%2C%20%5B37.790237%2C%20-121.694864%5D%2C%20%5B30.144999%2C%20-91.946053%5D%2C%20%5B42.496002%2C%20-71.1782%5D%2C%20%5B33.725390999999995%2C%20-117.803279%5D%2C%20%5B47.25128%2C%20-122.33297%5D%2C%20%5B37.09515%2C%20-120.21443%5D%2C%20%5B43.16467%2C%20-77.69875%5D%2C%20%5B33.917334000000004%2C%20-117.437588%5D%2C%20%5B36.493896%2C%20-121.427483%5D%2C%20%5B38.642143%2C%20-90.510635%5D%2C%20%5B36.091362%2C%20-86.696503%5D%2C%20%5B33.927894%2C%20-118.271759%5D%2C%20%5B33.988609000000004%2C%20-118.354149%5D%2C%20%5B36.133381%2C%20-95.97892%5D%2C%20%5B33.787256%2C%20-84.246551%5D%2C%20%5B40.751831%2C%20-73.96504200000003%5D%2C%20%5B42.927109%2C%20-85.605553%5D%2C%20%5B30.366369%2C%20-84.981499%5D%2C%20%5B37.388702%2C%20-120.732437%5D%2C%20%5B40.05527100000001%2C%20-82.86367%5D%2C%20%5B42.370774%2C%20-87.897887%5D%2C%20%5B26.201279%2C%20-80.146579%5D%2C%20%5B29.898005%2C%20-95.412376%5D%2C%20%5B40.89483%2C%20-74.23679%5D%2C%20%5B33.743267%2C%20-84.368134%5D%2C%20%5B39.022324%2C%20-77.167694%5D%2C%20%5B43.050911%2C%20-76.144897%5D%2C%20%5B33.21798%2C%20-111.883768%5D%2C%20%5B38.59605%2C%20-121.415231%5D%2C%20%5B43.030117%2C%20-87.997421%5D%2C%20%5B41.093%2C%20-111.99448%5D%2C%20%5B33.941182%2C%20-118.096502%5D%2C%20%5B36.12785%2C%20-95.940331%5D%2C%20%5B41.440151%2C%20-81.564789%5D%2C%20%5B44.735229%2C%20-92.852638%5D%2C%20%5B38.496021%2C%20-121.445274%5D%2C%20%5B30.471956%2C%20-97.802078%5D%2C%20%5B33.36104%2C%20-117.537621%5D%2C%20%5B44.776398%2C%20-93.699303%5D%2C%20%5B25.785728%2C%20-80.213951%5D%2C%20%5B32.82885%2C%20-96.88812%5D%2C%20%5B32.934761%2C%20-96.752357%5D%2C%20%5B41.600389%2C%20-72.70705%5D%2C%20%5B37.013451%2C%20-121.650288%5D%2C%20%5B45.531761%2C%20-122.565521%5D%2C%20%5B33.854325%2C%20-117.919847%5D%2C%20%5B30.6598%2C%20-89.58131999999998%5D%2C%20%5B30.26337%2C%20-81.51898%5D%2C%20%5B33.802242%2C%20-84.490273%5D%2C%20%5B35.24134%2C%20-80.84357%5D%2C%20%5B34.139889000000004%2C%20-80.914017%5D%2C%20%5B40.64759%2C%20-111.90231%5D%2C%20%5B30.25315%2C%20-81.50435999999998%5D%2C%20%5B28.346954%2C%20-81.648613%5D%2C%20%5B40.727936%2C%20-111.905235%5D%2C%20%5B47.730019%2C%20-117.42205%5D%2C%20%5B34.299248%2C%20-118.419525%5D%2C%20%5B33.939175%2C%20-117.157242%5D%2C%20%5B33.899374%2C%20-118.326525%5D%2C%20%5B46.611288%2C%20-92.553387%5D%2C%20%5B34.098082%2C%20-118.312307%5D%2C%20%5B34.073815%2C%20-118.21926299999998%5D%2C%20%5B41.674911%2C%20-83.57396700000002%5D%2C%20%5B45.4067%2C%20-122.74421%5D%2C%20%5B38.377849%2C%20-77.459213%5D%2C%20%5B35.077347%2C%20-89.86749300000002%5D%2C%20%5B32.921525%2C%20-80.098185%5D%2C%20%5B30.365822%2C%20-97.695457%5D%2C%20%5B33.912491%2C%20-117.284607%5D%2C%20%5B36.923051%2C%20-119.876119%5D%2C%20%5B32.326283000000004%2C%20-90.161095%5D%2C%20%5B35.46419%2C%20-97.56554%5D%2C%20%5B39.91724%2C%20-75.08768%5D%2C%20%5B40.95587%2C%20-73.87099%5D%2C%20%5B40.00975%2C%20-75.187221%5D%2C%20%5B30.802248%2C%20-88.104332%5D%2C%20%5B41.059822%2C%20-81.55791500000002%5D%2C%20%5B28.5532%2C%20-81.36859100000002%5D%2C%20%5B39.947567%2C%20-75.187798%5D%2C%20%5B42.37563%2C%20-83.060728%5D%2C%20%5B28.898659%2C%20-82.373441%5D%2C%20%5B34.008814%2C%20-118.158777%5D%2C%20%5B38.65795%2C%20-121.36359%5D%2C%20%5B35.78158%2C%20-78.702524%5D%2C%20%5B40.707054%2C%20-74.150024%5D%2C%20%5B29.73122%2C%20-95.559776%5D%2C%20%5B41.62823%2C%20-72.69157%5D%2C%20%5B34.077476000000004%2C%20-117.200828%5D%2C%20%5B35.22187%2C%20-80.82166%5D%2C%20%5B39.76021%2C%20-105.00605%5D%2C%20%5B43.640408%2C%20-94.99527%5D%2C%20%5B40.62882000000001%2C%20-74.3025%5D%2C%20%5B45.115208%2C%20-93.189346%5D%2C%20%5B25.867041%2C%20-80.32265500000003%5D%2C%20%5B36.059723%2C%20-80.01162%5D%2C%20%5B35.60899000000001%2C%20-80.858345%5D%2C%20%5B32.75967%2C%20-117.202669%5D%2C%20%5B42.270871%2C%20-122.81213%5D%2C%20%5B36.13701500000001%2C%20-86.77562900000002%5D%2C%20%5B35.073719%2C%20-80.77314799999998%5D%2C%20%5B39.859379%2C%20-75.099602%5D%2C%20%5B32.79293%2C%20-96.79281%5D%2C%20%5B29.544417%2C%20-95.021763%5D%2C%20%5B35.40563%2C%20-119.020902%5D%2C%20%5B40.717488%2C%20-111.953355%5D%2C%20%5B42.936877%2C%20-78.766447%5D%2C%20%5B33.896977%2C%20-117.480578%5D%2C%20%5B27.06734%2C%20-82.420088%5D%2C%20%5B30.534079%2C%20-87.08717299999998%5D%2C%20%5B27.9606%2C%20-82.76277900000002%5D%2C%20%5B40.78574%2C%20-111.949135%5D%2C%20%5B34.219332%2C%20-117.398153%5D%2C%20%5B27.83297%2C%20-82.68015%5D%2C%20%5B30.198587%2C%20-97.764175%5D%2C%20%5B33.807731%2C%20-84.417132%5D%2C%20%5B37.321907%2C%20-121.899323%5D%2C%20%5B36.297871%2C%20-119.224892%5D%2C%20%5B35.21078%2C%20-80.82460999999998%5D%2C%20%5B39.194973%2C%20-85.969223%5D%2C%20%5B40.20583%2C%20-75.2656%5D%2C%20%5B34.066166%2C%20-117.991554%5D%2C%20%5B34.98684%2C%20-85.20185%5D%2C%20%5B45.57784%2C%20-92.992672%5D%2C%20%5B28.53548%2C%20-81.383%5D%2C%20%5B33.891715000000005%2C%20-117.646811%5D%2C%20%5B35.77141%2C%20-78.72095%5D%2C%20%5B33.153178999999994%2C%20-117.336548%5D%2C%20%5B44.08263%2C%20-117.016035%5D%2C%20%5B40.378525%2C%20-77.005188%5D%2C%20%5B27.215226%2C%20-80.400255%5D%2C%20%5B33.71419%2C%20-84.26857%5D%2C%20%5B35.88617%2C%20-78.8436%5D%2C%20%5B40.356491%2C%20-111.576714%5D%2C%20%5B43.784231%2C%20-122.538671%5D%2C%20%5B32.79096%2C%20-96.75879%5D%2C%20%5B36.877977%2C%20-121.412448%5D%2C%20%5B28.079992%2C%20-81.977051%5D%2C%20%5B42.3363%2C%20-83.06238%5D%2C%20%5B40.866238%2C%20-74.4394%5D%2C%20%5B26.330641%2C%20-81.727226%5D%2C%20%5B37.01468%2C%20-76.38841%5D%2C%20%5B34.18255%2C%20-117.27395%5D%2C%20%5B37.162125%2C%20-121.990906%5D%2C%20%5B39.533459%2C%20-119.738708%5D%2C%20%5B35.49321%2C%20-97.432831%5D%2C%20%5B43.19619%2C%20-123.36055%5D%2C%20%5B33.513335999999995%2C%20-86.79390699999998%5D%2C%20%5B29.766997%2C%20-95.567825%5D%2C%20%5B44.702664%2C%20-95.61349%5D%2C%20%5B26.164848000000006%2C%20-80.222488%5D%2C%20%5B36.060814%2C%20-95.873268%5D%2C%20%5B45.04687%2C%20-93.10984%5D%2C%20%5B34.335196999999994%2C%20-118.508362%5D%2C%20%5B34.133416%2C%20-117.230504%5D%2C%20%5B37.752056%2C%20-121.467842%5D%2C%20%5B33.97189%2C%20-117.84641%5D%2C%20%5B32.864179%2C%20-96.769856%5D%2C%20%5B35.056782%2C%20-85.134838%5D%2C%20%5B32.87062%2C%20-96.89757%5D%2C%20%5B32.96479%2C%20-80.151443%5D%2C%20%5B39.84497%2C%20-104.9846%5D%2C%20%5B36.133381%2C%20-95.975594%5D%2C%20%5B30.262497%2C%20-97.727959%5D%2C%20%5B34.606068%2C%20-82.49852800000002%5D%2C%20%5B33.46249%2C%20-112.24957%5D%2C%20%5B33.562803%2C%20-84.539202%5D%2C%20%5B36.11828%2C%20-86.72596%5D%2C%20%5B41.123192%2C%20-112.023575%5D%2C%20%5B28.578045%2C%20-81.449127%5D%2C%20%5B41.855717%2C%20-71.40615799999998%5D%2C%20%5B34.136297%2C%20-117.459343%5D%2C%20%5B43.288311%2C%20-77.74958000000002%5D%2C%20%5B43.071602%2C%20-76.168869%5D%2C%20%5B39.745486%2C%20-86.264437%5D%2C%20%5B35.48189199999999%2C%20-97.536636%5D%2C%20%5B33.46743%2C%20-112.004227%5D%2C%20%5B30.446149%2C%20-91.237901%5D%2C%20%5B28.537376%2C%20-81.36434200000002%5D%2C%20%5B41.80808%2C%20-71.44060999999998%5D%2C%20%5B34.359184%2C%20-118.553858%5D%2C%20%5B42.39215%2C%20-87.88383%5D%2C%20%5B47.55191%2C%20-122.336182%5D%2C%20%5B37.818348%2C%20-80.112564%5D%2C%20%5B42.43531%2C%20-122.130592%5D%2C%20%5B36.110069%2C%20-86.747398%5D%2C%20%5B39.2565%2C%20-84.600876%5D%2C%20%5B33.895229%2C%20-118.04936200000002%5D%2C%20%5B42.35656%2C%20-87.93559%5D%2C%20%5B35.009483%2C%20-82.028397%5D%2C%20%5B30.242134000000004%2C%20-97.759605%5D%2C%20%5B37.537842%2C%20-77.451729%5D%2C%20%5B35.174213%2C%20-106.583786%5D%2C%20%5B37.14674%2C%20-80.415031%5D%2C%20%5B35.816441%2C%20-78.690262%5D%2C%20%5B25.73291%2C%20-80.340767%5D%2C%20%5B38.538242%2C%20-121.473648%5D%2C%20%5B34.038994%2C%20-118.439912%5D%2C%20%5B37.637959%2C%20-122.404572%5D%2C%20%5B37.371501%2C%20-121.901978%5D%2C%20%5B34.27232%2C%20-118.35292%5D%2C%20%5B25.925596%2C%20-80.279039%5D%2C%20%5B38.938198%2C%20-104.601059%5D%2C%20%5B30.350836%2C%20-91.083382%5D%2C%20%5B41.082397%2C%20-95.928375%5D%2C%20%5B30.39361%2C%20-88.93845400000002%5D%2C%20%5B33.803604%2C%20-84.409615%5D%2C%20%5B32.877785%2C%20-85.15164200000002%5D%2C%20%5B32.771645%2C%20-117.161407%5D%2C%20%5B34.059383000000004%2C%20-84.383438%5D%2C%20%5B26.514540000000004%2C%20-80.072075%5D%2C%20%5B42.281231%2C%20-83.443977%5D%2C%20%5B38.13892%2C%20-122.220062%5D%2C%20%5B47.545399%2C%20-122.318169%5D%2C%20%5B38.004471%2C%20-122.038849%5D%2C%20%5B37.72871%2C%20-122.18581%5D%2C%20%5B37.950958%2C%20-121.28611%5D%2C%20%5B35.31405200000001%2C%20-119.035101%5D%2C%20%5B33.987499%2C%20-118.13755%5D%2C%20%5B35.201687%2C%20-80.78652199999998%5D%2C%20%5B33.789776%2C%20-118.207939%5D%2C%20%5B38.640286%2C%20-121.383286%5D%2C%20%5B34.068208%2C%20-117.84882%5D%2C%20%5B47.471822%2C%20-122.204239%5D%2C%20%5B39.51951%2C%20-76.164203%5D%2C%20%5B35.219524%2C%20-80.752884%5D%2C%20%5B38.700853%2C%20-77.407597%5D%2C%20%5B40.695074%2C%20-73.823676%5D%2C%20%5B37.373333%2C%20-121.925735%5D%2C%20%5B39.10877%2C%20-94.62091%5D%2C%20%5B38.81%2C%20-90.87123%5D%2C%20%5B40.126034%2C%20-75.343819%5D%2C%20%5B39.033504%2C%20-123.389522%5D%2C%20%5B32.20708%2C%20-110.90082%5D%2C%20%5B41.172964%2C%20-73.19341999999997%5D%2C%20%5B34.009724%2C%20-117.427299%5D%2C%20%5B34.4083%2C%20-118.57647%5D%2C%20%5B25.98512%2C%20-80.16268000000002%5D%2C%20%5B45.01172%2C%20-93.02167%5D%2C%20%5B40.66637%2C%20-73.79016999999997%5D%2C%20%5B35.67337%2C%20-80.85697900000002%5D%2C%20%5B37.329688%2C%20-121.842015%5D%2C%20%5B38.93951%2C%20-119.746857%5D%2C%20%5B34.119827%2C%20-117.838631%5D%2C%20%5B42.544029%2C%20-70.983742%5D%2C%20%5B39.932823%2C%20-76.689339%5D%2C%20%5B25.686028%2C%20-80.398934%5D%2C%20%5B32.192186%2C%20-110.860149%5D%2C%20%5B32.905365%2C%20-96.717751%5D%2C%20%5B25.882665%2C%20-80.361159%5D%2C%20%5B39.9057%2C%20-86.04549%5D%2C%20%5B38.902363%2C%20-76.943741%5D%2C%20%5B33.45805%2C%20-80.730049%5D%2C%20%5B40.766583%2C%20-73.888238%5D%2C%20%5B34.151993%2C%20-118.132256%5D%2C%20%5B34.160069%2C%20-118.469604%5D%2C%20%5B32.784077%2C%20-117.127869%5D%2C%20%5B28.527606%2C%20-81.31036999999998%5D%2C%20%5B43.033562%2C%20-87.96833000000002%5D%2C%20%5B33.148694%2C%20-117.334244%5D%2C%20%5B33.516888%2C%20-117.663986%5D%2C%20%5B34.135471%2C%20-117.965347%5D%2C%20%5B40.63525%2C%20-111.90483%5D%2C%20%5B36.856035%2C%20-76.19588%5D%2C%20%5B39.02608%2C%20-76.44008000000002%5D%2C%20%5B41.853405%2C%20-72.917335%5D%2C%20%5B34.155559999999994%2C%20-118.43462%5D%2C%20%5B40.12039%2C%20-75.77421%5D%2C%20%5B33.77452%2C%20-118.07493999999998%5D%2C%20%5B34.063702%2C%20-117.79438%5D%2C%20%5B38.846558%2C%20-77.43294499999998%5D%2C%20%5B39.030525%2C%20-76.613617%5D%2C%20%5B40.578148%2C%20-75.100319%5D%2C%20%5B38.93969%2C%20-94.567276%5D%2C%20%5B33.957561%2C%20-81.224876%5D%2C%20%5B34.03717%2C%20-118.03762%5D%2C%20%5B26.530001%2C%20-81.871246%5D%2C%20%5B30.21273%2C%20-97.830978%5D%2C%20%5B35.873049%2C%20-78.706742%5D%2C%20%5B32.705563%2C%20-96.827148%5D%2C%20%5B37.54162%2C%20-122.28509%5D%2C%20%5B34.377052%2C%20-118.590088%5D%2C%20%5B34.09662%2C%20-118.477173%5D%2C%20%5B34.007008%2C%20-117.964394%5D%2C%20%5B32.792656%2C%20-96.624413%5D%2C%20%5B35.90161099999999%2C%20-84.16304000000002%5D%2C%20%5B34.15646%2C%20-117.32634%5D%2C%20%5B41.963017%2C%20-88.20626800000002%5D%2C%20%5B34.266937%2C%20-81.659248%5D%2C%20%5B36.80449%2C%20-76.19686999999998%5D%2C%20%5B35.00856%2C%20-81.10192099999998%5D%2C%20%5B37.75015300000001%2C%20-121.138657%5D%2C%20%5B38.94357%2C%20-109.81005%5D%2C%20%5B41.75543%2C%20-87.94465%5D%2C%20%5B33.781532%2C%20-84.390869%5D%2C%20%5B36.894569%2C%20-77.801643%5D%2C%20%5B37.51753%2C%20-77.42603000000003%5D%2C%20%5B41.060706%2C%20-73.84951099999998%5D%2C%20%5B34.045349%2C%20-117.94397%5D%2C%20%5B42.97371%2C%20-78.91183000000002%5D%2C%20%5B35.962944%2C%20-83.94054399999997%5D%2C%20%5B41.290539%2C%20-95.942177%5D%2C%20%5B40.83921%2C%20-80.382204%5D%2C%20%5B39.92142%2C%20-75.0393%5D%2C%20%5B38.631244%2C%20-121.39956399999998%5D%2C%20%5B33.626018%2C%20-111.977309%5D%2C%20%5B40.84585%2C%20-74.42923%5D%2C%20%5B32.665859999999995%2C%20-97.24074%5D%2C%20%5B38.934291%2C%20-94.407051%5D%2C%20%5B36.153294%2C%20-86.855568%5D%2C%20%5B28.26153%2C%20-80.68808%5D%2C%20%5B27.112389%2C%20-82.329819%5D%2C%20%5B25.73417%2C%20-80.302918%5D%2C%20%5B25.673904%2C%20-80.320279%5D%2C%20%5B43.167218%2C%20-70.65329100000002%5D%2C%20%5B35.23139600000001%2C%20-80.845825%5D%2C%20%5B43.012154%2C%20-83.654434%5D%2C%20%5B42.17545%2C%20-87.99199%5D%2C%20%5B34.836562%2C%20-91.469775%5D%2C%20%5B33.846693%2C%20-118.206772%5D%2C%20%5B34.12207%2C%20-117.30236%5D%2C%20%5B42.94453%2C%20-76.4397%5D%2C%20%5B39.883339%2C%20-76.863388%5D%2C%20%5B39.072933%2C%20-76.956024%5D%2C%20%5B41.81461%2C%20-71.370094%5D%2C%20%5B40.79995%2C%20-73.33681%5D%2C%20%5B40.085651%2C%20-111.702019%5D%2C%20%5B34.004463%2C%20-118.063858%5D%2C%20%5B34.009190000000004%2C%20-117.958206%5D%2C%20%5B41.74752%2C%20-91.64214%5D%2C%20%5B33.864422%2C%20-84.288765%5D%2C%20%5B35.44986%2C%20-97.724663%5D%2C%20%5B34.205416%2C%20-117.10655%5D%2C%20%5B37.158653%2C%20-121.982506%5D%2C%20%5B29.757389%2C%20-95.361992%5D%2C%20%5B33.95704%2C%20-117.30685%5D%2C%20%5B47.643893%2C%20-122.186956%5D%2C%20%5B41.108609%2C%20-74.165061%5D%2C%20%5B30.549977%2C%20-81.639391%5D%2C%20%5B36.60523900000001%2C%20-119.785995%5D%2C%20%5B27.786549%2C%20-82.334851%5D%2C%20%5B40.984234%2C%20-75.190155%5D%2C%20%5B33.69761%2C%20-117.9401%5D%2C%20%5B47.920738%2C%20-122.205978%5D%2C%20%5B34.940029%2C%20-81.991348%5D%2C%20%5B42.30033%2C%20-71.04836999999998%5D%2C%20%5B37.70171%2C%20-121.76941%5D%2C%20%5B36.206554%2C%20-86.77624499999997%5D%2C%20%5B34.30069%2C%20-118.420502%5D%2C%20%5B33.426784999999995%2C%20-112.030304%5D%2C%20%5B37.821938%2C%20-122.259331%5D%2C%20%5B33.930653%2C%20-117.879951%5D%2C%20%5B34.909153%2C%20-120.489563%5D%2C%20%5B44.14563%2C%20-93.788887%5D%2C%20%5B28.289204%2C%20-81.346992%5D%2C%20%5B33.907398%2C%20-117.455452%5D%2C%20%5B33.980759%2C%20-81.10700200000002%5D%2C%20%5B40.762348%2C%20-111.913116%5D%2C%20%5B41.06187%2C%20-111.91045%5D%2C%20%5B40.00607%2C%20-78.43564%5D%2C%20%5B45.35302%2C%20-118.19499%5D%2C%20%5B34.897976%2C%20-85.083244%5D%2C%20%5B41.16088%2C%20-112.02603%5D%2C%20%5B41.845326%2C%20-87.63396800000002%5D%2C%20%5B39.15751%2C%20-94.58872%5D%2C%20%5B38.80406%2C%20-76.9068%5D%2C%20%5B39.948467%2C%20-77.10193199999998%5D%2C%20%5B34.067369%2C%20-117.983733%5D%2C%20%5B41.779551%2C%20-70.717555%5D%2C%20%5B47.51111%2C%20-122.28428%5D%2C%20%5B41.067799%2C%20-73.493172%5D%2C%20%5B29.995761%2C%20-90.11349%5D%2C%20%5B37.240082%2C%20-121.996971%5D%2C%20%5B34.106606%2C%20-118.25583600000002%5D%2C%20%5B33.74134%2C%20-84.41159%5D%2C%20%5B38.365219%2C%20-122.667038%5D%2C%20%5B43.029213%2C%20-83.51796%5D%2C%20%5B36.194271%2C%20-86.770927%5D%2C%20%5B42.321537%2C%20-71.053772%5D%2C%20%5B35.26521599999999%2C%20-80.925286%5D%2C%20%5B32.670513%2C%20-96.970558%5D%2C%20%5B45.03916%2C%20-123.20712%5D%2C%20%5B41.871178%2C%20-87.862305%5D%2C%20%5B37.67736%2C%20-113.06173%5D%2C%20%5B39.780792%2C%20-104.992666%5D%2C%20%5B34.049777%2C%20-112.145656%5D%2C%20%5B25.948568%2C%20-80.351692%5D%2C%20%5B25.850729%2C%20-80.143783%5D%2C%20%5B42.308716%2C%20-87.87693%5D%2C%20%5B34.383720000000004%2C%20-118.56814%5D%2C%20%5B36.154564%2C%20-86.758957%5D%2C%20%5B32.236191%2C%20-110.875496%5D%2C%20%5B42.11855%2C%20-122.6236%5D%2C%20%5B35.136433000000004%2C%20-80.977837%5D%2C%20%5B32.844936%2C%20-117.026573%5D%2C%20%5B32.723598%2C%20-117.158272%5D%2C%20%5B47.110997%2C%20-122.14495%5D%2C%20%5B38.575016%2C%20-121.568947%5D%2C%20%5B34.21586%2C%20-119.026649%5D%2C%20%5B40.845249%2C%20-73.914116%5D%2C%20%5B35.111207%2C%20-120.093985%5D%2C%20%5B34.699402%2C%20-82.171631%5D%2C%20%5B37.275849%2C%20-80.13855799999997%5D%2C%20%5B39.556435%2C%20-119.753052%5D%2C%20%5B42.385605%2C%20-83.15898100000003%5D%2C%20%5B36.752938%2C%20-119.827103%5D%2C%20%5B41.760757%2C%20-88.065216%5D%2C%20%5B41.78805%2C%20-107.20331000000002%5D%2C%20%5B40.032149%2C%20-75.239728%5D%2C%20%5B35.441422%2C%20-119.07273899999998%5D%2C%20%5B40.235378%2C%20-75.57431%5D%2C%20%5B34.062088%2C%20-117.296722%5D%2C%20%5B37.514347%2C%20-77.190437%5D%2C%20%5B39.11218%2C%20-77.24068299999998%5D%2C%20%5B34.151737%2C%20-118.46802%5D%2C%20%5B34.167874%2C%20-118.496999%5D%2C%20%5B42.972631%2C%20-71.474509%5D%2C%20%5B38.657713%2C%20-121.363862%5D%2C%20%5B40.06921%2C%20-75.14959%5D%2C%20%5B40.006424%2C%20-75.19365400000002%5D%2C%20%5B33.879143%2C%20-117.558746%5D%2C%20%5B33.963955%2C%20-117.324936%5D%2C%20%5B28.423768%2C%20-81.404781%5D%2C%20%5B35.720023%2C%20-86.96770699999998%5D%2C%20%5B33.566402000000004%2C%20-86.72584499999998%5D%2C%20%5B44.417821%2C%20-92.87036%5D%2C%20%5B29.784317%2C%20-95.522346%5D%2C%20%5B41.162079%2C%20-112.023224%5D%2C%20%5B34.032261%2C%20-81.123016%5D%2C%20%5B32.680648%2C%20-117.086261%5D%2C%20%5B28.605989%2C%20-81.386375%5D%2C%20%5B39.8851%2C%20-104.85016%5D%2C%20%5B37.14435%2C%20-121.98468%5D%2C%20%5B40.84715300000001%2C%20-73.933501%5D%2C%20%5B37.519184%2C%20-77.446838%5D%2C%20%5B40.610321%2C%20-74.119694%5D%2C%20%5B34.13455%2C%20-117.65113%5D%2C%20%5B38.93941%2C%20-94.60008%5D%2C%20%5B40.55011%2C%20-111.89631%5D%2C%20%5B40.782681%2C%20-73.943413%5D%2C%20%5B29.971792%2C%20-95.426674%5D%2C%20%5B34.07407%2C%20-80.9058%5D%2C%20%5B40.908298%2C%20-74.098838%5D%2C%20%5B36.080173%2C%20-86.726601%5D%2C%20%5B37.215511%2C%20-93.296303%5D%2C%20%5B29.418465%2C%20-98.467033%5D%2C%20%5B33.689401000000004%2C%20-110.570131%5D%2C%20%5B33.846982000000004%2C%20-118.205352%5D%2C%20%5B33.034572999999995%2C%20-117.174062%5D%2C%20%5B34.120756%2C%20-117.873505%5D%2C%20%5B30.430056%2C%20-91.05674%5D%2C%20%5B42.930119%2C%20-83.633186%5D%2C%20%5B40.725323%2C%20-74.157326%5D%2C%20%5B34.11957%2C%20-117.76607%5D%2C%20%5B28.551923%2C%20-81.490237%5D%2C%20%5B35.106205%2C%20-106.341698%5D%2C%20%5B32.856823%2C%20-83.640091%5D%2C%20%5B38.610641%2C%20-90.207687%5D%2C%20%5B41.14699%2C%20-96.1616%5D%2C%20%5B34.323734%2C%20-118.500802%5D%2C%20%5B32.839855%2C%20-116.779472%5D%2C%20%5B40.529133%2C%20-124.15121%5D%2C%20%5B25.762377%2C%20-80.320908%5D%2C%20%5B43.626462%2C%20-116.619712%5D%2C%20%5B44.85221%2C%20-122.86561%5D%2C%20%5B35.611938%2C%20-120.632202%5D%2C%20%5B32.983218%2C%20-80.07865%5D%2C%20%5B30.4048%2C%20-91.081482%5D%2C%20%5B30.442467%2C%20-91.007042%5D%2C%20%5B39.01892%2C%20-77.102962%5D%2C%20%5B34.083333%2C%20-118.228204%5D%2C%20%5B40.74019000000001%2C%20-111.93907%5D%2C%20%5B37.86948%2C%20-122.30474%5D%2C%20%5B35.234371%2C%20-80.733109%5D%2C%20%5B47.212322%2C%20-122.462257%5D%2C%20%5B40.238703%2C%20-75.578502%5D%2C%20%5B34.042435%2C%20-81.086686%5D%2C%20%5B30.469422%2C%20-91.139854%5D%2C%20%5B42.88583%2C%20-85.83433000000002%5D%2C%20%5B29.856529%2C%20-95.458763%5D%2C%20%5B32.849647999999995%2C%20-96.813454%5D%2C%20%5B35.33887%2C%20-80.82417%5D%2C%20%5B33.90583%2C%20-118.1057%5D%2C%20%5B34.024544%2C%20-118.23925%5D%2C%20%5B44.459449%2C%20-95.472897%5D%2C%20%5B37.98022%2C%20-122.06562%5D%2C%20%5B39.165877%2C%20-84.50672%5D%2C%20%5B46.33716%2C%20-94.43917%5D%2C%20%5B33.605509999999995%2C%20-84.48571%5D%2C%20%5B39.347031%2C%20-119.413399%5D%2C%20%5B34.87136%2C%20-81.95938000000002%5D%2C%20%5B40.932301%2C%20-73.856459%5D%2C%20%5B38.40242%2C%20-121.896667%5D%2C%20%5B42.394009%2C%20-88.155739%5D%2C%20%5B40.701126%2C%20-73.490288%5D%2C%20%5B26.43132%2C%20-81.808327%5D%2C%20%5B34.569092%2C%20-118.687622%5D%2C%20%5B27.893913%2C%20-82.700478%5D%2C%20%5B34.789993%2C%20-82.439011%5D%2C%20%5B40.722961%2C%20-111.986359%5D%2C%20%5B33.75862%2C%20-84.37915%5D%2C%20%5B30.32077%2C%20-81.691139%5D%2C%20%5B38.033813%2C%20-120.232208%5D%2C%20%5B38.55043%2C%20-121.47405%5D%2C%20%5B25.898326%2C%20-80.21014%5D%2C%20%5B33.648945%2C%20-93.675409%5D%2C%20%5B33.68779%2C%20-117.91186%5D%2C%20%5B32.771840000000005%2C%20-96.77836%5D%2C%20%5B41.513927%2C%20-93.681534%5D%2C%20%5B34.43807%2C%20-119.846041%5D%2C%20%5B40.3232%2C%20-75.92968%5D%2C%20%5B35.9478%2C%20-78.99611%5D%2C%20%5B28.208409000000003%2C%20-82.184771%5D%2C%20%5B34.301944%2C%20-119.135833%5D%2C%20%5B27.446363%2C%20-82.49730500000003%5D%2C%20%5B43.17465900000001%2C%20-77.621535%5D%2C%20%5B32.903465000000004%2C%20-117.116371%5D%2C%20%5B33.522533%2C%20-117.162781%5D%2C%20%5B42.209137%2C%20-70.996223%5D%2C%20%5B33.987854%2C%20-118.39904%5D%2C%20%5B45.55539%2C%20-122.56731%5D%2C%20%5B36.972075%2C%20-121.871484%5D%2C%20%5B40.968651%2C%20-73.817299%5D%2C%20%5B34.346405%2C%20-117.450119%5D%2C%20%5B41.570152%2C%20-72.72425799999998%5D%2C%20%5B35.48893%2C%20-97.570267%5D%2C%20%5B41.37771%2C%20-81.51382%5D%2C%20%5B33.91473%2C%20-117.441948%5D%2C%20%5B40.087177%2C%20-82.97530400000002%5D%2C%20%5B48.47045%2C%20-122.34211%5D%2C%20%5B27.16088%2C%20-80.30433000000002%5D%2C%20%5B39.31558%2C%20-76.62856%5D%2C%20%5B29.803373%2C%20-95.351692%5D%2C%20%5B45.90458%2C%20-119.30217%5D%2C%20%5B39.82062%2C%20-84.00049%5D%2C%20%5B33.934933%2C%20-81.275543%5D%2C%20%5B33.771286%2C%20-84.390045%5D%2C%20%5B35.98646%2C%20-79.88195999999998%5D%2C%20%5B41.207905%2C%20-96.100594%5D%2C%20%5B40.34513%2C%20-74.47585%5D%2C%20%5B39.252895%2C%20-76.679238%5D%2C%20%5B42.393894%2C%20-87.95321700000002%5D%2C%20%5B42.236938%2C%20-88.112549%5D%2C%20%5B34.79039%2C%20-82.17985%5D%2C%20%5B40.833935%2C%20-74.179367%5D%2C%20%5B39.419671%2C%20-104.872661%5D%2C%20%5B34.201092%2C%20-118.562256%5D%2C%20%5B35.18592%2C%20-80.72998%5D%2C%20%5B39.112662%2C%20-94.578018%5D%2C%20%5B33.91378%2C%20-118.1047%5D%2C%20%5B25.733243%2C%20-80.333047%5D%2C%20%5B34.096491%2C%20-81.160523%5D%2C%20%5B34.11034%2C%20-118.26266%5D%2C%20%5B29.903977%2C%20-90.066488%5D%2C%20%5B33.966454%2C%20-118.083575%5D%2C%20%5B47.59043%2C%20-122.29134%5D%2C%20%5B38.562511%2C%20-121.490257%5D%2C%20%5B25.906481%2C%20-80.211647%5D%2C%20%5B29.753702%2C%20-95.457741%5D%2C%20%5B33.95094%2C%20-84.52063000000003%5D%2C%20%5B38.258835%2C%20-85.765495%5D%2C%20%5B47.697586%2C%20-122.305466%5D%2C%20%5B39.651%2C%20-105.02526%5D%2C%20%5B41.490891%2C%20-87.48140500000002%5D%2C%20%5B44.194939%2C%20-88.487122%5D%2C%20%5B40.74265%2C%20-73.84643%5D%2C%20%5B39.802769%2C%20-75.767921%5D%2C%20%5B41.654755%2C%20-93.573814%5D%2C%20%5B34.023135%2C%20-117.749321%5D%2C%20%5B42.34175%2C%20-83.0675%5D%2C%20%5B33.853031%2C%20-117.875656%5D%2C%20%5B40.835972%2C%20-73.871184%5D%2C%20%5B38.64304%2C%20-121.12191%5D%2C%20%5B27.958367%2C%20-82.791726%5D%2C%20%5B33.494881%2C%20-112.112946%5D%2C%20%5B39.242962%2C%20-104.878609%5D%2C%20%5B34.086518%2C%20-117.640142%5D%2C%20%5B33.494717%2C%20-112.061012%5D%2C%20%5B38.549587%2C%20-77.34318499999998%5D%2C%20%5B47.54245%2C%20-122.30419%5D%2C%20%5B33.881459%2C%20-117.648505%5D%2C%20%5B25.731257%2C%20-80.318545%5D%2C%20%5B32.63948%2C%20-117.10009%5D%2C%20%5B33.559273%2C%20-117.673141%5D%2C%20%5B33.6065%2C%20-117.69405%5D%2C%20%5B39.996403%2C%20-122.20507%5D%2C%20%5B42.675133%2C%20-88.983788%5D%2C%20%5B42.01918%2C%20-88.270844%5D%2C%20%5B28.073151%2C%20-82.739037%5D%2C%20%5B34.93462%2C%20-82.001389%5D%2C%20%5B42.04214%2C%20-85.63604000000002%5D%2C%20%5B35.064007000000004%2C%20-80.815712%5D%2C%20%5B42.3169%2C%20-83.21521%5D%2C%20%5B35.70968%2C%20-78.64142%5D%2C%20%5B42.250099%2C%20-70.997803%5D%2C%20%5B37.628273%2C%20-122.120956%5D%2C%20%5B38.83826%2C%20-104.7014%5D%2C%20%5B35.19317%2C%20-80.725925%5D%2C%20%5B34.166969%2C%20-118.837184%5D%2C%20%5B33.167313%2C%20-96.368515%5D%2C%20%5B32.13391%2C%20-110.9777%5D%2C%20%5B25.771477%2C%20-80.197159%5D%2C%20%5B42.48458%2C%20-82.91753%5D%2C%20%5B42.043308%2C%20-71.242767%5D%2C%20%5B37.77129%2C%20-122.40853%5D%2C%20%5B35.22421%2C%20-80.89108%5D%2C%20%5B44.863303%2C%20-93.350003%5D%2C%20%5B27.429333000000003%2C%20-82.57547%5D%2C%20%5B36.08989%2C%20-95.922249%5D%2C%20%5B34.087132000000004%2C%20-117.683047%5D%2C%20%5B33.348171%2C%20-86.63183599999998%5D%2C%20%5B43.60047%2C%20-116.57298%5D%2C%20%5B35.163378%2C%20-80.87602199999998%5D%2C%20%5B30.425109000000006%2C%20-91.051708%5D%2C%20%5B34.87138%2C%20-82.34120899999998%5D%2C%20%5B37.826947%2C%20-122.286155%5D%2C%20%5B25.782301%2C%20-80.226773%5D%2C%20%5B43.28878%2C%20-78.649353%5D%2C%20%5B35.97148%2C%20-83.92187%5D%2C%20%5B40.730549%2C%20-73.874763%5D%2C%20%5B33.162025%2C%20-97.073471%5D%2C%20%5B33.661813%2C%20-84.426998%5D%2C%20%5B30.169106%2C%20-81.60247%5D%2C%20%5B37.607384%2C%20-77.561287%5D%2C%20%5B29.678420000000006%2C%20-95.33675%5D%2C%20%5B34.342274%2C%20-118.505506%5D%2C%20%5B42.912621%2C%20-85.608147%5D%2C%20%5B27.988983%2C%20-82.37428299999998%5D%2C%20%5B26.839109000000004%2C%20-80.130096%5D%2C%20%5B34.170174%2C%20-84.758308%5D%2C%20%5B35.91743%2C%20-78.78918%5D%2C%20%5B28.068533%2C%20-80.67083199999998%5D%2C%20%5B45.2318%2C%20-123.16116%5D%2C%20%5B43.129662%2C%20-77.525421%5D%2C%20%5B43.03404000000001%2C%20-88.1697%5D%2C%20%5B34.185493%2C%20-118.317795%5D%2C%20%5B35.063984000000005%2C%20-80.81554399999997%5D%2C%20%5B36.82817%2C%20-76.19528000000003%5D%2C%20%5B37.379936%2C%20-121.909111%5D%2C%20%5B40.02038%2C%20-75.30928399999998%5D%2C%20%5B39.100132%2C%20-84.503218%5D%2C%20%5B26.188438%2C%20-80.151825%5D%2C%20%5B28.068064%2C%20-82.763885%5D%2C%20%5B41.91291%2C%20-77.591171%5D%2C%20%5B29.705561%2C%20-95.482552%5D%2C%20%5B39.779369%2C%20-84.164307%5D%2C%20%5B40.960561%2C%20-73.850365%5D%2C%20%5B33.845211%2C%20-117.958557%5D%2C%20%5B38.818742%2C%20-77.222288%5D%2C%20%5B32.356784999999995%2C%20-111.092473%5D%2C%20%5B29.683493%2C%20-95.275513%5D%2C%20%5B41.74773%2C%20-72.65890999999998%5D%2C%20%5B42.18652700000001%2C%20-122.693954%5D%2C%20%5B34.033844%2C%20-117.324806%5D%2C%20%5B35.653091%2C%20-97.567162%5D%2C%20%5B37.976439%2C%20-120.357655%5D%2C%20%5B36.089912%2C%20-95.886543%5D%2C%20%5B34.067894%2C%20-80.92215%5D%2C%20%5B35.822182%2C%20-78.7024%5D%2C%20%5B33.887511%2C%20-118.105355%5D%2C%20%5B32.810612%2C%20-97.209412%5D%2C%20%5B29.785469%2C%20-95.776817%5D%2C%20%5B42.109982%2C%20-88.003937%5D%2C%20%5B38.496184%2C%20-121.437939%5D%2C%20%5B35.166386%2C%20-81.452087%5D%2C%20%5B30.473085%2C%20-91.162445%5D%2C%20%5B33.774277000000005%2C%20-118.078171%5D%2C%20%5B34.031116%2C%20-118.274601%5D%2C%20%5B33.94028%2C%20-118.024016%5D%2C%20%5B38.94425800000001%2C%20-91.928795%5D%2C%20%5B42.739643%2C%20-73.658165%5D%2C%20%5B32.791538%2C%20-96.767555%5D%2C%20%5B34.035641%2C%20-118.119324%5D%2C%20%5B41.140144%2C%20-95.985786%5D%2C%20%5B25.628303%2C%20-80.357941%5D%2C%20%5B31.686773%2C%20-106.298622%5D%2C%20%5B42.23956%2C%20-122.76412%5D%2C%20%5B38.901443%2C%20-104.767982%5D%2C%20%5B40.204197%2C%20-104.980339%5D%2C%20%5B32.3231%2C%20-111.0123%5D%2C%20%5B41.73481%2C%20-72.66427%5D%2C%20%5B35.499167%2C%20-119.689792%5D%2C%20%5B28.387218%2C%20-81.41390200000002%5D%2C%20%5B42.058346%2C%20-88.294464%5D%2C%20%5B39.014993%2C%20-84.62715899999998%5D%2C%20%5B37.689439%2C%20-122.07364%5D%2C%20%5B25.761064%2C%20-80.415162%5D%2C%20%5B33.361897%2C%20-111.96312%5D%2C%20%5B37.620705%2C%20-122.425933%5D%2C%20%5B37.081291%2C%20-119.477379%5D%2C%20%5B33.883799%2C%20-117.531534%5D%2C%20%5B30.218821%2C%20-97.691223%5D%2C%20%5B36.160637%2C%20-95.794456%5D%2C%20%5B34.746132%2C%20-82.355324%5D%2C%20%5B32.76063%2C%20-117.16915%5D%2C%20%5B34.124253%2C%20-117.201064%5D%2C%20%5B42.081562%2C%20-76.219605%5D%2C%20%5B33.918240000000004%2C%20-117.652639%5D%2C%20%5B38.300517%2C%20-77.503577%5D%2C%20%5B42.409386%2C%20-71.029999%5D%2C%20%5B37.89097%2C%20-122.06118%5D%2C%20%5B37.72521%2C%20-113.05%5D%2C%20%5B28.650916%2C%20-81.519681%5D%2C%20%5B39.63965%2C%20-104.91083%5D%2C%20%5B45.51031%2C%20-122.78316%5D%2C%20%5B33.478741%2C%20-86.78729200000002%5D%2C%20%5B35.79705%2C%20-78.487709%5D%2C%20%5B27.447063%2C%20-82.511871%5D%2C%20%5B33.971783%2C%20-118.378102%5D%2C%20%5B33.71752%2C%20-85.02075%5D%2C%20%5B47.51111%2C%20-122.28428%5D%2C%20%5B43.118031%2C%20-87.918053%5D%2C%20%5B39.86111%2C%20-104.9877%5D%2C%20%5B33.953664%2C%20-117.383802%5D%2C%20%5B28.212076%2C%20-82.451674%5D%2C%20%5B25.671236%2C%20-80.401164%5D%2C%20%5B34.35974%2C%20-117.43537%5D%2C%20%5B33.994785%2C%20-117.931503%5D%2C%20%5B33.826797%2C%20-84.360298%5D%2C%20%5B42.99213%2C%20-83.71045%5D%2C%20%5B29.736435%2C%20-95.348938%5D%2C%20%5B33.435719%2C%20-86.71936%5D%2C%20%5B30.46261%2C%20-91.043251%5D%2C%20%5B32.65176%2C%20-96.75071%5D%2C%20%5B39.510727%2C%20-119.964363%5D%2C%20%5B35.391674%2C%20-97.51123%5D%2C%20%5B33.421123%2C%20-112.255639%5D%2C%20%5B34.26618%2C%20-118.4811%5D%2C%20%5B37.54526%2C%20-122.28655%5D%2C%20%5B32.741126%2C%20-96.830599%5D%2C%20%5B42.76862%2C%20-74.155518%5D%2C%20%5B26.26943%2C%20-80.1258%5D%2C%20%5B47.506191%2C%20-122.255928%5D%2C%20%5B33.831309999999995%2C%20-84.182769%5D%2C%20%5B33.744976%2C%20-84.390343%5D%2C%20%5B45.38703%2C%20-122.23601%5D%2C%20%5B38.792436%2C%20-77.037391%5D%2C%20%5B38.212243%2C%20-120.755946%5D%2C%20%5B29.78093%2C%20-95.36628%5D%2C%20%5B37.507128%2C%20-122.341345%5D%2C%20%5B35.77302%2C%20-78.60045%5D%2C%20%5B30.142437%2C%20-85.754243%5D%2C%20%5B47.795017%2C%20-122.214378%5D%2C%20%5B28.589504%2C%20-81.377502%5D%2C%20%5B37.923497%2C%20-122.513162%5D%2C%20%5B35.08918%2C%20-81.09817%5D%2C%20%5B41.509816%2C%20-73.246767%5D%2C%20%5B37.554943%2C%20-121.916428%5D%2C%20%5B37.88211%2C%20-122.52492%5D%2C%20%5B39.089813%2C%20-84.87445100000002%5D%2C%20%5B41.530201%2C%20-73.81231700000002%5D%2C%20%5B41.50986500000001%2C%20-74.074226%5D%2C%20%5B40.811825%2C%20-73.931641%5D%2C%20%5B33.908504%2C%20-84.42977900000002%5D%2C%20%5B30.553148%2C%20-91.174843%5D%2C%20%5B40.87149%2C%20-73.97938%5D%2C%20%5B38.56611%2C%20-121.62313%5D%2C%20%5B30.387453000000004%2C%20-97.553407%5D%2C%20%5B25.76088%2C%20-80.418865%5D%2C%20%5B45.486147%2C%20-122.749054%5D%2C%20%5B40.389572%2C%20-120.588265%5D%2C%20%5B35.06675%2C%20-80.84491%5D%2C%20%5B31.78759%2C%20-89.0552%5D%2C%20%5B41.16699000000001%2C%20-73.20309%5D%2C%20%5B41.2082%2C%20-95.94937%5D%2C%20%5B44.96618%2C%20-93.25094%5D%2C%20%5B37.63216%2C%20-77.508072%5D%2C%20%5B33.926041%2C%20-118.324661%5D%2C%20%5B26.338671%2C%20-81.776733%5D%2C%20%5B33.733255%2C%20-117.833995%5D%2C%20%5B35.884134%2C%20-78.626819%5D%2C%20%5B39.96268%2C%20-86.00379000000002%5D%2C%20%5B30.407885%2C%20-97.674561%5D%2C%20%5B33.959273%2C%20-118.237411%5D%2C%20%5B32.698351%2C%20-96.628234%5D%2C%20%5B37.83843%2C%20-122.22202%5D%2C%20%5B36.658941%2C%20-77.55704899999998%5D%2C%20%5B40.140354%2C%20-75.166046%5D%2C%20%5B37.757645%2C%20-122.21121200000002%5D%2C%20%5B33.722965%2C%20-84.502815%5D%2C%20%5B33.314362%2C%20-117.482018%5D%2C%20%5B29.750437%2C%20-95.501122%5D%2C%20%5B33.810146%2C%20-118.290329%5D%2C%20%5B40.989391%2C%20-73.67456800000002%5D%2C%20%5B32.920105%2C%20-96.818367%5D%2C%20%5B34.128258%2C%20-117.920441%5D%2C%20%5B35.35666%2C%20-80.86918%5D%2C%20%5B43.155254%2C%20-77.62915%5D%2C%20%5B42.55891%2C%20-82.85945%5D%2C%20%5B33.300114%2C%20-116.88751200000002%5D%2C%20%5B34.981190000000005%2C%20-81.976341%5D%2C%20%5B38.69645300000001%2C%20-122.020798%5D%2C%20%5B42.86534%2C%20-82.55359%5D%2C%20%5B38.158371%2C%20-85.7313%5D%2C%20%5B33.141628000000004%2C%20-80.256561%5D%2C%20%5B26.08295%2C%20-80.16848%5D%2C%20%5B34.873670000000004%2C%20-82.22081%5D%2C%20%5B30.191182%2C%20-97.772698%5D%2C%20%5B34.119275%2C%20-80.144373%5D%2C%20%5B32.631557%2C%20-80.881538%5D%2C%20%5B41.808956%2C%20-88.11734%5D%2C%20%5B38.73999%2C%20-104.731552%5D%2C%20%5B40.661998%2C%20-74.28717900000002%5D%2C%20%5B34.871769%2C%20-82.315178%5D%2C%20%5B33.591068%2C%20-112.260612%5D%2C%20%5B33.814273%2C%20-118.3014%5D%2C%20%5B39.975682%2C%20-76.76709%5D%2C%20%5B32.206826%2C%20-110.965408%5D%2C%20%5B45.68154000000001%2C%20-122.55256%5D%2C%20%5B28.224319%2C%20-82.36412%5D%2C%20%5B32.928490000000004%2C%20-80.04394%5D%2C%20%5B34.026508%2C%20-117.332993%5D%2C%20%5B33.934611%2C%20-84.493886%5D%2C%20%5B39.788414%2C%20-84.183693%5D%2C%20%5B37.328312%2C%20-120.559036%5D%2C%20%5B41.140484%2C%20-95.926628%5D%2C%20%5B35.749313%2C%20-78.658524%5D%2C%20%5B45.455822%2C%20-122.57274%5D%2C%20%5B40.69057%2C%20-73.99886%5D%2C%20%5B43.984228%2C%20-124.046843%5D%2C%20%5B32.398418%2C%20-93.756607%5D%2C%20%5B40.03765900000001%2C%20-85.72221400000002%5D%2C%20%5B39.60627%2C%20-104.89134%5D%2C%20%5B39.636578%2C%20-86.074348%5D%2C%20%5B29.923714%2C%20-95.554962%5D%2C%20%5B41.306744%2C%20-96.070854%5D%2C%20%5B30.428328000000004%2C%20-91.170776%5D%2C%20%5B32.92459%2C%20-96.78684%5D%2C%20%5B42.894607%2C%20-87.936598%5D%2C%20%5B38.576942%2C%20-121.465832%5D%2C%20%5B36.09549000000001%2C%20-86.530085%5D%2C%20%5B40.638802%2C%20-122.240026%5D%2C%20%5B41.67214%2C%20-72.82058%5D%2C%20%5B38.801746%2C%20-77.162994%5D%2C%20%5B34.134655%2C%20-117.341336%5D%2C%20%5B37.703594%2C%20-121.075043%5D%2C%20%5B34.17667%2C%20-118.4683%5D%2C%20%5B26.679990000000004%2C%20-80.18424%5D%2C%20%5B35.11303%2C%20-89.8021%5D%2C%20%5B33.614849%2C%20-117.707581%5D%2C%20%5B35.020351%2C%20-89.866249%5D%2C%20%5B34.021190000000004%2C%20-118.19556%5D%2C%20%5B35.212989%2C%20-80.86258199999997%5D%2C%20%5B34.263729999999995%2C%20-118.994259%5D%2C%20%5B39.09908%2C%20-76.81048%5D%2C%20%5B30.187149%2C%20-97.616333%5D%2C%20%5B35.24792100000001%2C%20-80.78514100000002%5D%2C%20%5B42.66649%2C%20-85.9935%5D%2C%20%5B39.128139%2C%20-84.600891%5D%2C%20%5B41.90052%2C%20-88.094002%5D%2C%20%5B38.88792%2C%20-76.994949%5D%2C%20%5B40.094212%2C%20-75.286613%5D%2C%20%5B37.69442%2C%20-122.057616%5D%2C%20%5B30.417509000000006%2C%20-91.067642%5D%2C%20%5B38.73913%2C%20-90.36365%5D%2C%20%5B29.880749%2C%20-95.473839%5D%2C%20%5B40.276428%2C%20-79.890671%5D%2C%20%5B36.104485%2C%20-95.851059%5D%2C%20%5B33.38628%2C%20-111.75981000000002%5D%2C%20%5B43.228138%2C%20-77.635544%5D%2C%20%5B42.922684%2C%20-83.681007%5D%2C%20%5B37.62055%2C%20-77.62321%5D%2C%20%5B39.733601%2C%20-75.673859%5D%2C%20%5B44.64427%2C%20-93.29643%5D%2C%20%5B42.839821%2C%20-83.81732199999998%5D%2C%20%5B38.81979000000001%2C%20-76.89375%5D%2C%20%5B35.124878%2C%20-80.878548%5D%2C%20%5B40.08189%2C%20-82.85885%5D%2C%20%5B37.634539%2C%20-122.086396%5D%2C%20%5B45.306564%2C%20-121.813537%5D%2C%20%5B35.226158%2C%20-80.837753%5D%2C%20%5B41.830872%2C%20-87.699524%5D%2C%20%5B44.95149%2C%20-93.11907%5D%2C%20%5B41.828777%2C%20-88.105316%5D%2C%20%5B34.068028000000005%2C%20-117.60353%5D%2C%20%5B33.038288%2C%20-80.148521%5D%2C%20%5B36.093131%2C%20-80.240724%5D%2C%20%5B26.274883000000006%2C%20-80.125084%5D%2C%20%5B39.26209%2C%20-76.61456%5D%2C%20%5B37.573925%2C%20-77.460122%5D%2C%20%5B34.121442%2C%20-117.88933%5D%2C%20%5B33.928011%2C%20-118.237275%5D%2C%20%5B33.912631%2C%20-117.284418%5D%2C%20%5B29.803228000000004%2C%20-95.397818%5D%2C%20%5B42.190906%2C%20-121.78125%5D%2C%20%5B33.037334%2C%20-83.92650400000002%5D%2C%20%5B40.198899%2C%20-77.158731%5D%2C%20%5B42.47825%2C%20-123.352674%5D%2C%20%5B33.082062%2C%20-80.207176%5D%2C%20%5B32.004604%2C%20-81.2836%5D%2C%20%5B39.983646%2C%20-104.988235%5D%2C%20%5B40.733418%2C%20-74.008545%5D%2C%20%5B42.425533%2C%20-122.850471%5D%2C%20%5B35.396358%2C%20-97.557503%5D%2C%20%5B34.755871%2C%20-82.268311%5D%2C%20%5B29.75737%2C%20-95.358269%5D%2C%20%5B34.146858%2C%20-118.370379%5D%2C%20%5B36.202648%2C%20-86.78325699999998%5D%2C%20%5B30.435726000000006%2C%20-91.167427%5D%2C%20%5B32.984257%2C%20-80.63518%5D%2C%20%5B40.86334%2C%20-73.87205%5D%2C%20%5B36.33334%2C%20-82.389473%5D%2C%20%5B38.248138%2C%20-122.629997%5D%2C%20%5B39.015381%2C%20-77.11814100000002%5D%2C%20%5B42.54752%2C%20-121.8988%5D%2C%20%5B34.00708%2C%20-81.124031%5D%2C%20%5B34.321407%2C%20-119.103029%5D%2C%20%5B40.12515%2C%20-75.06293000000002%5D%2C%20%5B36.144165%2C%20-86.697563%5D%2C%20%5B33.924976%2C%20-118.280965%5D%2C%20%5B31.740276%2C%20-106.353958%5D%2C%20%5B35.181387%2C%20-80.888589%5D%2C%20%5B27.954508%2C%20-82.505455%5D%2C%20%5B35.201939%2C%20-111.47638700000002%5D%2C%20%5B41.551757%2C%20-73.050146%5D%2C%20%5B42.021824%2C%20-123.729098%5D%2C%20%5B29.785190000000004%2C%20-95.77402%5D%2C%20%5B37.995235%2C%20-84.538162%5D%2C%20%5B33.207172%2C%20-86.729866%5D%2C%20%5B41.8158%2C%20-87.6724%5D%2C%20%5B47.661289%2C%20-122.317558%5D%2C%20%5B41.05513%2C%20-73.810417%5D%2C%20%5B43.018723%2C%20-83.634895%5D%2C%20%5B34.12145%2C%20-117.30263%5D%2C%20%5B33.821548%2C%20-84.359383%5D%2C%20%5B28.567595%2C%20-81.20780400000002%5D%2C%20%5B33.577366%2C%20-84.277519%5D%2C%20%5B42.35337%2C%20-83.10391%5D%2C%20%5B25.767743%2C%20-80.3364%5D%2C%20%5B34.064017%2C%20-117.81199%5D%2C%20%5B33.480396%2C%20-111.908951%5D%2C%20%5B30.603942%2C%20-87.18227399999998%5D%2C%20%5B44.15600000000001%2C%20-93.94923%5D%2C%20%5B34.136377%2C%20-117.956331%5D%2C%20%5B30.140095%2C%20-97.796158%5D%2C%20%5B45.035851%2C%20-92.883461%5D%2C%20%5B30.411341%2C%20-97.686691%5D%2C%20%5B44.096137%2C%20-123.108254%5D%2C%20%5B32.724251%2C%20-96.700119%5D%2C%20%5B33.46793%2C%20-111.987083%5D%2C%20%5B43.15536%2C%20-77.61408%5D%2C%20%5B44.849978%2C%20-93.492525%5D%2C%20%5B39.77983%2C%20-104.99207%5D%2C%20%5B40.695923%2C%20-73.971073%5D%2C%20%5B39.981911%2C%20-76.744934%5D%2C%20%5B42.358688%2C%20-71.15837900000002%5D%2C%20%5B40.384956%2C%20-79.862701%5D%2C%20%5B34.791053999999995%2C%20-82.416634%5D%2C%20%5B34.037144%2C%20-118.300369%5D%2C%20%5B32.674549%2C%20-97.149895%5D%2C%20%5B33.520844%2C%20-86.552582%5D%2C%20%5B42.3205%2C%20-71.17514%5D%2C%20%5B32.268459%2C%20-110.84101499999998%5D%2C%20%5B40.72406%2C%20-73.47518000000002%5D%2C%20%5B33.93631%2C%20-118.09346%5D%2C%20%5B40.246548%2C%20-122.150958%5D%2C%20%5B40.67399%2C%20-73.80162%5D%2C%20%5B38.90486%2C%20-77.01618%5D%2C%20%5B36.11454000000001%2C%20-95.911865%5D%2C%20%5B35.75182%2C%20-78.70141600000002%5D%2C%20%5B37.878975%2C%20-122.514397%5D%2C%20%5B38.86076%2C%20-104.834007%5D%2C%20%5B42.045807%2C%20-88.26550300000002%5D%2C%20%5B45.59823%2C%20-122.68432%5D%2C%20%5B27.394012%2C%20-82.450541%5D%2C%20%5B38.672143%2C%20-77.245999%5D%2C%20%5B27.446196%2C%20-82.505524%5D%2C%20%5B33.998615%2C%20-96.634272%5D%2C%20%5B45.206835%2C%20-118.021032%5D%2C%20%5B39.911541%2C%20-76.59693100000001%5D%2C%20%5B40.06067%2C%20-76.30622%5D%2C%20%5B34.070251%2C%20-79.277977%5D%2C%20%5B34.040199%2C%20-117.154358%5D%2C%20%5B35.704346%2C%20-78.913841%5D%2C%20%5B41.94679%2C%20-87.684598%5D%2C%20%5B33.8237%2C%20-84.351959%5D%2C%20%5B39.64386%2C%20-84.157578%5D%2C%20%5B34.260414000000004%2C%20-119.258125%5D%2C%20%5B33.74566%2C%20-84.34561%5D%2C%20%5B34.185015%2C%20-118.47361200000002%5D%2C%20%5B43.186691%2C%20-77.854286%5D%2C%20%5B34.510769%2C%20-82.687691%5D%2C%20%5B44.965352%2C%20-93.288478%5D%2C%20%5B32.85113%2C%20-96.56788%5D%2C%20%5B33.641086%2C%20-117.644444%5D%2C%20%5B45.130367%2C%20-93.422585%5D%2C%20%5B28.54821%2C%20-81.62864%5D%2C%20%5B40.77127%2C%20-73.561912%5D%2C%20%5B43.09289%2C%20-74.7427%5D%2C%20%5B38.260597%2C%20-121.297424%5D%2C%20%5B34.79752%2C%20-81.502808%5D%2C%20%5B33.654671%2C%20-112.134499%5D%2C%20%5B29.634649%2C%20-95.339233%5D%2C%20%5B33.895199%2C%20-118.265312%5D%2C%20%5B30.443373%2C%20-91.088608%5D%2C%20%5B45.58462%2C%20-122.54392%5D%2C%20%5B42.367153%2C%20-83.081795%5D%2C%20%5B41.135288%2C%20-104.704681%5D%2C%20%5B37.33749%2C%20-122.059494%5D%2C%20%5B33.910796999999995%2C%20-117.883301%5D%2C%20%5B35.083191%2C%20-89.931252%5D%2C%20%5B41.308899%2C%20-72.897003%5D%2C%20%5B39.99178%2C%20-82.98522%5D%2C%20%5B27.770851%2C%20-82.728394%5D%2C%20%5B32.922791%2C%20-96.899994%5D%2C%20%5B47.567707%2C%20-122.179741%5D%2C%20%5B33.155026%2C%20-80.064409%5D%2C%20%5B37.278629%2C%20-122.0093%5D%2C%20%5B40.181526%2C%20-80.263481%5D%2C%20%5B35.369249%2C%20-119.447661%5D%2C%20%5B41.519514%2C%20-73.997139%5D%2C%20%5B33.003728%2C%20-80.815784%5D%2C%20%5B37.53426%2C%20-122.07832%5D%2C%20%5B44.95143%2C%20-93.02203%5D%2C%20%5B32.667390000000005%2C%20-96.73197%5D%2C%20%5B42.99997000000001%2C%20-78.85309000000002%5D%2C%20%5B32.967819%2C%20-80.201111%5D%2C%20%5B41.774075%2C%20-87.95513199999998%5D%2C%20%5B39.978127%2C%20-75.340324%5D%2C%20%5B39.559242%2C%20-76.24945799999998%5D%2C%20%5B30.280203000000004%2C%20-82.81959499999998%5D%2C%20%5B34.105201%2C%20-118.326667%5D%2C%20%5B41.4246%2C%20-81.56483%5D%2C%20%5B32.799389%2C%20-96.750702%5D%2C%20%5B38.90409%2C%20-121.548169%5D%2C%20%5B35.153641%2C%20-80.72994200000002%5D%2C%20%5B39.607159%2C%20-111.625031%5D%2C%20%5B42.410564%2C%20-83.42306500000002%5D%2C%20%5B31.986489%2C%20-110.573432%5D%2C%20%5B33.046959%2C%20-80.09728199999998%5D%2C%20%5B44.03981%2C%20-123.038559%5D%2C%20%5B40.55463%2C%20-75.43222%5D%2C%20%5B37.354351%2C%20-77.405128%5D%2C%20%5B43.59337%2C%20-116.371206%5D%2C%20%5B38.992608%2C%20-104.79792%5D%2C%20%5B41.845898%2C%20-87.983032%5D%2C%20%5B38.85413%2C%20-104.794228%5D%2C%20%5B39.81713%2C%20-75.91095%5D%2C%20%5B44.94765%2C%20-93.34784%5D%2C%20%5B39.64341%2C%20-84.34272800000002%5D%2C%20%5B41.30367%2C%20-73.03426999999998%5D%2C%20%5B38.472839%2C%20-122.908478%5D%2C%20%5B40.32100300000001%2C%20-74.48628199999997%5D%2C%20%5B35.72280900000001%2C%20-78.539307%5D%2C%20%5B34.070163%2C%20-118.000401%5D%2C%20%5B39.124546%2C%20-84.545441%5D%2C%20%5B45.332655%2C%20-123.123824%5D%2C%20%5B34.872710999999995%2C%20-82.329262%5D%2C%20%5B37.969276%2C%20-122.521523%5D%2C%20%5B35.18861%2C%20-80.822548%5D%2C%20%5B38.474401%2C%20-121.41895900000002%5D%2C%20%5B30.215352000000006%2C%20-81.760865%5D%2C%20%5B35.392632%2C%20-97.458794%5D%2C%20%5B35.058193%2C%20-80.812454%5D%2C%20%5B30.240667%2C%20-97.736488%5D%2C%20%5B33.863819%2C%20-118.284866%5D%2C%20%5B37.701479%2C%20-121.901521%5D%2C%20%5B41.969563%2C%20-75.179932%5D%2C%20%5B34.033276%2C%20-118.180183%5D%2C%20%5B40.22985%2C%20-76.4408%5D%2C%20%5B36.78608300000001%2C%20-119.700244%5D%2C%20%5B29.541901%2C%20-95.845863%5D%2C%20%5B42.944172%2C%20-83.681404%5D%2C%20%5B38.085969%2C%20-122.232797%5D%2C%20%5B44.46719%2C%20-87.95238%5D%2C%20%5B34.741929%2C%20-92.258202%5D%2C%20%5B40.81439%2C%20-73.47721999999997%5D%2C%20%5B36.547127%2C%20-119.628751%5D%2C%20%5B33.948158%2C%20-117.301476%5D%2C%20%5B37.803886%2C%20-122.301971%5D%2C%20%5B25.855577%2C%20-80.246162%5D%2C%20%5B43.164639%2C%20-77.626289%5D%2C%20%5B32.827434999999994%2C%20-96.885971%5D%2C%20%5B42.39574%2C%20-83.1078%5D%2C%20%5B34.082031%2C%20-80.940529%5D%2C%20%5B38.046994%2C%20-122.533107%5D%2C%20%5B34.061882000000004%2C%20-118.247917%5D%2C%20%5B32.148693%2C%20-110.977558%5D%2C%20%5B41.914528%2C%20-87.93985699999998%5D%2C%20%5B33.901070000000004%2C%20-84.244003%5D%2C%20%5B32.83688%2C%20-97.02355%5D%2C%20%5B40.282543%2C%20-75.39218100000002%5D%2C%20%5B38.55418%2C%20-121.689552%5D%2C%20%5B30.22175%2C%20-97.683075%5D%2C%20%5B33.83174%2C%20-118.25609%5D%2C%20%5B29.99572%2C%20-81.596542%5D%2C%20%5B34.278796%2C%20-118.397367%5D%2C%20%5B38.8946%2C%20-76.95302%5D%2C%20%5B28.651747%2C%20-81.80708299999998%5D%2C%20%5B35.2244%2C%20-80.865578%5D%2C%20%5B32.134109%2C%20-110.973396%5D%2C%20%5B34.183611%2C%20-118.891389%5D%2C%20%5B33.800682%2C%20-79.077263%5D%2C%20%5B41.17618%2C%20-112.00626%5D%2C%20%5B44.911884%2C%20-93.144203%5D%2C%20%5B35.893272%2C%20-84.733856%5D%2C%20%5B30.54314%2C%20-91.437301%5D%2C%20%5B35.06928%2C%20-118.971113%5D%2C%20%5B45.139591%2C%20-93.288345%5D%2C%20%5B33.744968%2C%20-84.426766%5D%2C%20%5B42.420777%2C%20-123.11956200000002%5D%2C%20%5B43.429695%2C%20-73.720413%5D%2C%20%5B34.174114%2C%20-118.159691%5D%2C%20%5B40.051731%2C%20-76.321381%5D%2C%20%5B33.506190999999994%2C%20-84.23101%5D%2C%20%5B39.820594%2C%20-85.791439%5D%2C%20%5B34.184399%2C%20-118.176224%5D%2C%20%5B41.04108400000001%2C%20-85.241661%5D%2C%20%5B34.067722%2C%20-117.435097%5D%2C%20%5B45.488473%2C%20-118.409668%5D%2C%20%5B29.80765%2C%20-95.443993%5D%2C%20%5B37.572158%2C%20-121.888664%5D%2C%20%5B33.931759%2C%20-79.487038%5D%2C%20%5B32.921262%2C%20-96.848712%5D%2C%20%5B29.997894%2C%20-90.152847%5D%2C%20%5B35.946732%2C%20-78.536978%5D%2C%20%5B39.62711%2C%20-84.21706999999998%5D%2C%20%5B37.38093%2C%20-77.4533%5D%2C%20%5B32.90913%2C%20-96.735435%5D%2C%20%5B34.433407%2C%20-117.646965%5D%2C%20%5B34.01741%2C%20-117.34129%5D%2C%20%5B35.183073%2C%20-120.701516%5D%2C%20%5B35.82312%2C%20-78.622383%5D%2C%20%5B35.14693%2C%20-80.92612%5D%2C%20%5B38.49123400000001%2C%20-122.65873%5D%2C%20%5B33.89561%2C%20-84.4516%5D%2C%20%5B25.985063%2C%20-80.16584399999998%5D%2C%20%5B44.20139%2C%20-92.11957%5D%2C%20%5B33.86322%2C%20-117.53919%5D%2C%20%5B32.856845%2C%20-83.638908%5D%2C%20%5B35.317653%2C%20-119.00293700000002%5D%2C%20%5B37.526558%2C%20-122.27095%5D%2C%20%5B33.619640000000004%2C%20-112.11651%5D%2C%20%5B32.291779%2C%20-95.326576%5D%2C%20%5B37.975972%2C%20-121.74242%5D%2C%20%5B36.885323%2C%20-121.559853%5D%2C%20%5B30.509745%2C%20-97.686188%5D%2C%20%5B39.686935%2C%20-105.187752%5D%2C%20%5B38.70891%2C%20-120.8442%5D%2C%20%5B27.969486%2C%20-82.399658%5D%2C%20%5B28.42485%2C%20-81.47442%5D%2C%20%5B40.00842%2C%20-76.68714%5D%2C%20%5B40.395679%2C%20-78.41317%5D%2C%20%5B47.241238%2C%20-122.386955%5D%2C%20%5B37.8111%2C%20-122.24948%5D%2C%20%5B34.869886%2C%20-89.825259%5D%2C%20%5B38.82248%2C%20-94.862469%5D%2C%20%5B26.940213%2C%20-80.151971%5D%2C%20%5B35.423302%2C%20-80.785614%5D%2C%20%5B28.539148%2C%20-81.285774%5D%2C%20%5B33.50212%2C%20-111.932537%5D%2C%20%5B43.051548%2C%20-83.693794%5D%2C%20%5B30.426006%2C%20-91.052467%5D%2C%20%5B34.858849%2C%20-82.26042199999998%5D%2C%20%5B33.468891%2C%20-82.029877%5D%2C%20%5B34.020924%2C%20-81.15439599999998%5D%2C%20%5B33.874872%2C%20-117.545202%5D%2C%20%5B39.908672%2C%20-75.149452%5D%2C%20%5B47.38262%2C%20-93.91775%5D%2C%20%5B33.930882000000004%2C%20-118.36824%5D%2C%20%5B29.66013%2C%20-95.583992%5D%2C%20%5B40.118095%2C%20-75.339546%5D%2C%20%5B32.866409000000004%2C%20-96.881737%5D%2C%20%5B35.651292%2C%20-78.84711899999998%5D%2C%20%5B39.453941%2C%20-118.735863%5D%2C%20%5B34.219533%2C%20-118.241355%5D%2C%20%5B35.094977%2C%20-78.777798%5D%2C%20%5B33.89185%2C%20-84.25936899999998%5D%2C%20%5B35.33886%2C%20-80.83421%5D%2C%20%5B29.770052000000003%2C%20-95.592667%5D%2C%20%5B30.42626%2C%20-97.671064%5D%2C%20%5B40.837418%2C%20-73.880608%5D%2C%20%5B32.9296%2C%20-117.24059%5D%2C%20%5B36.755038%2C%20-76.345117%5D%2C%20%5B37.576431%2C%20-77.463676%5D%2C%20%5B32.202671%2C%20-82.48853000000003%5D%2C%20%5B34.027911%2C%20-117.718232%5D%2C%20%5B37.994858%2C%20-122.069756%5D%2C%20%5B40.143356%2C%20-82.970894%5D%2C%20%5B29.733343%2C%20-95.633763%5D%2C%20%5B40.7201%2C%20-74.17957%5D%2C%20%5B37.094679%2C%20-113.567722%5D%2C%20%5B35.040161%2C%20-80.792603%5D%2C%20%5B40.047298%2C%20-86.489944%5D%2C%20%5B30.244469%2C%20-92.032753%5D%2C%20%5B44.07078900000001%2C%20-120.783241%5D%2C%20%5B47.758678%2C%20-122.184227%5D%2C%20%5B30.445313%2C%20-91.090012%5D%2C%20%5B33.76724%2C%20-84.38841%5D%2C%20%5B44.971348%2C%20-93.460548%5D%2C%20%5B44.96616%2C%20-93.25232%5D%2C%20%5B25.765471%2C%20-80.32067099999998%5D%2C%20%5B41.148159%2C%20-73.250608%5D%2C%20%5B25.911101%2C%20-80.199575%5D%2C%20%5B37.364532%2C%20-121.9189%5D%2C%20%5B34.155632000000004%2C%20-118.43145%5D%2C%20%5B28.036775%2C%20-82.73834000000002%5D%2C%20%5B35.171828999999995%2C%20-89.868271%5D%2C%20%5B42.6521%2C%20-88.74284%5D%2C%20%5B33.982372%2C%20-118.280556%5D%2C%20%5B34.031851%2C%20-118.414833%5D%2C%20%5B44.426256%2C%20-121.877935%5D%2C%20%5B40.95585%2C%20-75.28621%5D%2C%20%5B36.982909%2C%20-121.968916%5D%2C%20%5B25.847122%2C%20-80.207489%5D%2C%20%5B35.018008%2C%20-82.384045%5D%2C%20%5B29.598934000000003%2C%20-95.353333%5D%2C%20%5B33.465771000000004%2C%20-112.078247%5D%2C%20%5B37.848412%2C%20-122.300438%5D%2C%20%5B25.78583%2C%20-80.19068%5D%2C%20%5B37.51528%2C%20-77.18481%5D%2C%20%5B40.60820800000001%2C%20-74.131935%5D%2C%20%5B40.52962%2C%20-74.34385999999998%5D%2C%20%5B35.21561%2C%20-80.78075%5D%2C%20%5B38.598198%2C%20-121.406113%5D%2C%20%5B39.110931%2C%20-77.18782%5D%2C%20%5B35.597565%2C%20-120.337692%5D%2C%20%5B33.8844%2C%20-117.62946%5D%2C%20%5B35.82395%2C%20-78.61782%5D%2C%20%5B37.781074%2C%20-122.238702%5D%2C%20%5B45.54898%2C%20-122.67882%5D%2C%20%5B29.717464%2C%20-95.319397%5D%2C%20%5B28.205954%2C%20-81.440071%5D%2C%20%5B43.202846%2C%20-77.63869100000002%5D%2C%20%5B32.890446000000004%2C%20-117.20623799999998%5D%2C%20%5B33.74981%2C%20-84.38198%5D%2C%20%5B39.440893%2C%20-123.391117%5D%2C%20%5B38.649197%2C%20-121.38295%5D%2C%20%5B39.205433%2C%20-84.474236%5D%2C%20%5B25.847122%2C%20-80.207489%5D%2C%20%5B41.804891%2C%20-72.537266%5D%2C%20%5B27.937513%2C%20-82.40191300000002%5D%2C%20%5B30.42738%2C%20-91.146172%5D%2C%20%5B34.666072%2C%20-82.893067%5D%2C%20%5B29.784798%2C%20-95.562965%5D%2C%20%5B33.302710999999995%2C%20-117.215439%5D%2C%20%5B46.10074%2C%20-85.92714000000002%5D%2C%20%5B35.261253%2C%20-80.877037%5D%2C%20%5B47.806359%2C%20-122.30688%5D%2C%20%5B42.945004%2C%20-83.632729%5D%2C%20%5B38.873244%2C%20-77.044919%5D%2C%20%5B25.857782%2C%20-80.18094599999998%5D%2C%20%5B35.054241%2C%20-80.774017%5D%2C%20%5B32.753479%2C%20-96.874077%5D%2C%20%5B33.264123%2C%20-111.256495%5D%2C%20%5B41.569084%2C%20-87.30143699999998%5D%2C%20%5B37.82628%2C%20-122.277102%5D%2C%20%5B38.101914%2C%20-121.15089%5D%2C%20%5B34.134806%2C%20-117.67036%5D%2C%20%5B33.917%2C%20-118.046745%5D%2C%20%5B35.894104%2C%20-78.51173399999998%5D%2C%20%5B39.033039%2C%20-76.944133%5D%2C%20%5B37.48302%2C%20-77.47843%5D%2C%20%5B32.78805%2C%20-117.16024%5D%2C%20%5B47.73233%2C%20-122.345093%5D%2C%20%5B33.7369%2C%20-84.391853%5D%2C%20%5B37.614794%2C%20-77.537949%5D%2C%20%5B41.81625%2C%20-87.63049000000002%5D%2C%20%5B28.471542%2C%20-81.49166899999999%5D%2C%20%5B43.204616%2C%20-124.30707%5D%2C%20%5B34.078012%2C%20-118.2859%5D%2C%20%5B40.12991%2C%20-75.11215%5D%2C%20%5B30.459421000000006%2C%20-81.649345%5D%2C%20%5B39.277635%2C%20-122.058352%5D%2C%20%5B29.870453%2C%20-95.367371%5D%2C%20%5B34.017931%2C%20-117.535053%5D%2C%20%5B33.76837800000001%2C%20-84.494422%5D%2C%20%5B43.24004%2C%20-77.51499%5D%2C%20%5B34.14748%2C%20-118.7986%5D%2C%20%5B33.871727%2C%20-80.329697%5D%2C%20%5B33.82575%2C%20-118.24496%5D%2C%20%5B33.88633%2C%20-84.467438%5D%2C%20%5B41.97236%2C%20-87.7658%5D%2C%20%5B33.956005%2C%20-81.093307%5D%2C%20%5B47.230739%2C%20-122.453025%5D%2C%20%5B30.403214%2C%20-87.342478%5D%2C%20%5B42.166962%2C%20-121.798275%5D%2C%20%5B39.924679%2C%20-75.04715%5D%2C%20%5B42.548092%2C%20-83.789574%5D%2C%20%5B28.6768%2C%20-81.855339%5D%2C%20%5B43.02553%2C%20-76.14529%5D%2C%20%5B37.471886%2C%20-122.215591%5D%2C%20%5B41.911369%2C%20-78.635361%5D%2C%20%5B33.469242%2C%20-81.971603%5D%2C%20%5B32.221403%2C%20-110.968609%5D%2C%20%5B39.436577%2C%20-123.381111%5D%2C%20%5B42.918423%2C%20-83.678436%5D%2C%20%5B34.058170000000004%2C%20-80.956947%5D%2C%20%5B44.89258%2C%20-94.29276%5D%2C%20%5B41.223644%2C%20-96.004417%5D%2C%20%5B34.06646%2C%20-117.250977%5D%2C%20%5B39.226888%2C%20-78.13685699999998%5D%2C%20%5B37.6313%2C%20-77.56756%5D%2C%20%5B38.979179%2C%20-76.138191%5D%2C%20%5B42.98822%2C%20-85.66209599999998%5D%2C%20%5B26.19981%2C%20-80.1478%5D%2C%20%5B35.736279%2C%20-78.61676%5D%2C%20%5B39.996544%2C%20-75.082626%5D%2C%20%5B39.937247%2C%20-104.98793%5D%2C%20%5B37.246078%2C%20-121.012817%5D%2C%20%5B33.99556%2C%20-117.87454%5D%2C%20%5B39.32476%2C%20-123.303993%5D%2C%20%5B41.043247%2C%20-73.83584599999998%5D%2C%20%5B36.808452%2C%20-119.79032%5D%2C%20%5B34.201111%2C%20-118.473412%5D%2C%20%5B34.492081%2C%20-118.620854%5D%2C%20%5B42.78309%2C%20-83.53519%5D%2C%20%5B41.094135%2C%20-73.932571%5D%2C%20%5B33.163883%2C%20-117.211922%5D%2C%20%5B40.055107%2C%20-74.168175%5D%2C%20%5B40.737698%2C%20-73.76857%5D%2C%20%5B38.879122%2C%20-77.252452%5D%2C%20%5B44.0328%2C%20-73.42321%5D%2C%20%5B34.58593%2C%20-82.26593000000003%5D%2C%20%5B34.120521999999994%2C%20-117.872604%5D%2C%20%5B28.53732%2C%20-81.36594000000002%5D%2C%20%5B33.314303%2C%20-117.23054%5D%2C%20%5B32.58467%2C%20-83.3864%5D%2C%20%5B34.163219%2C%20-118.474884%5D%2C%20%5B39.563398%2C%20-76.665937%5D%2C%20%5B30.455944%2C%20-97.65992%5D%2C%20%5B37.52396%2C%20-77.60707%5D%2C%20%5B37.635142%2C%20-122.102394%5D%2C%20%5B33.057362%2C%20-96.693771%5D%2C%20%5B37.931311%2C%20-122.324943%5D%2C%20%5B38.588434%2C%20-121.261954%5D%2C%20%5B35.003903%2C%20-85.292664%5D%2C%20%5B44.94117%2C%20-123.041919%5D%2C%20%5B33.926132%2C%20-81.122055%5D%2C%20%5B34.466525%2C%20-118.329727%5D%2C%20%5B35.43524199999999%2C%20-97.521393%5D%2C%20%5B34.752487%2C%20-82.704132%5D%2C%20%5B39.044945%2C%20-94.387456%5D%2C%20%5B28.449932%2C%20-81.470863%5D%2C%20%5B33.422211%2C%20-112.100029%5D%2C%20%5B34.8636%2C%20-82.42636999999998%5D%2C%20%5B32.525509%2C%20-93.699165%5D%2C%20%5B33.530276%2C%20-86.707488%5D%2C%20%5B45.571619%2C%20-122.550689%5D%2C%20%5B34.694401%2C%20-80.761414%5D%2C%20%5B29.732861%2C%20-95.41143%5D%2C%20%5B34.131687%2C%20-79.774331%5D%2C%20%5B39.648956%2C%20-84.157135%5D%2C%20%5B39.782249%2C%20-76.089958%5D%2C%20%5B46.45527%2C%20-92.86217%5D%2C%20%5B40.011204%2C%20-75.29761500000002%5D%2C%20%5B33.916464000000005%2C%20-118.370321%5D%2C%20%5B33.426784999999995%2C%20-112.030304%5D%2C%20%5B33.924347%2C%20-117.288795%5D%2C%20%5B29.83991%2C%20-94.706497%5D%2C%20%5B32.794537%2C%20-96.723038%5D%2C%20%5B41.638024%2C%20-87.578546%5D%2C%20%5B38.815727%2C%20-77.13825200000002%5D%2C%20%5B37.762651%2C%20-121.439953%5D%2C%20%5B32.461758%2C%20-111.216675%5D%2C%20%5B42.560322%2C%20-71.297089%5D%2C%20%5B30.321990000000003%2C%20-97.73934%5D%2C%20%5B34.27226%2C%20-118.55627%5D%2C%20%5B34.1387%2C%20-118.71743%5D%2C%20%5B29.252395%2C%20-82.18997900000002%5D%2C%20%5B47.21399%2C%20-122.46274%5D%2C%20%5B34.146961%2C%20-118.370215%5D%2C%20%5B39.19537%2C%20-76.63217%5D%2C%20%5B35.924464%2C%20-78.860527%5D%2C%20%5B29.754791%2C%20-95.353935%5D%2C%20%5B32.969833%2C%20-117.249115%5D%2C%20%5B40.10265%2C%20-75.278633%5D%2C%20%5B41.050775%2C%20-121.637805%5D%2C%20%5B28.332813%2C%20-81.495603%5D%2C%20%5B37.772058%2C%20-122.224799%5D%2C%20%5B34.140118%2C%20-112.148918%5D%2C%20%5B33.87815%2C%20-117.88049%5D%2C%20%5B40.047552%2C%20-75.785154%5D%2C%20%5B38.571724%2C%20-111.841111%5D%2C%20%5B42.285404%2C%20-85.144806%5D%2C%20%5B38.113052%2C%20-122.229935%5D%2C%20%5B25.626204%2C%20-80.414586%5D%2C%20%5B39.742863%2C%20-86.282677%5D%2C%20%5B29.760817%2C%20-95.37429%5D%2C%20%5B42.332275%2C%20-122.870568%5D%2C%20%5B37.524488%2C%20-77.428127%5D%2C%20%5B30.282539%2C%20-97.703957%5D%2C%20%5B34.0886%2C%20-118.47525%5D%2C%20%5B37.05948%2C%20-113.09839%5D%2C%20%5B40.186211%2C%20-82.805939%5D%2C%20%5B44.42145%2C%20-121.87819%5D%2C%20%5B34.821621%2C%20-82.284828%5D%2C%20%5B32.75278%2C%20-97.32028%5D%2C%20%5B38.71011%2C%20-121.30688%5D%2C%20%5B33.566319%2C%20-117.11554%5D%2C%20%5B32.66045%2C%20-117.074966%5D%2C%20%5B41.565609%2C%20-81.582741%5D%2C%20%5B28.071694%2C%20-82.426159%5D%2C%20%5B34.917274%2C%20-81.938164%5D%2C%20%5B42.23677%2C%20-83.74691999999997%5D%2C%20%5B37.747155%2C%20-122.404287%5D%2C%20%5B44.10416%2C%20-121.29823%5D%2C%20%5B38.5378%2C%20-85.77684%5D%2C%20%5B25.675761%2C%20-80.451881%5D%2C%20%5B35.113792%2C%20-85.260109%5D%2C%20%5B30.35591%2C%20-81.67158%5D%2C%20%5B33.961338%2C%20-84.519402%5D%2C%20%5B43.05624%2C%20-76.15355%5D%2C%20%5B42.710644%2C%20-73.825058%5D%2C%20%5B42.85409%2C%20-78.79099000000002%5D%2C%20%5B40.600846%2C%20-74.29013%5D%2C%20%5B40.40187%2C%20-104.99355%5D%2C%20%5B43.142677%2C%20-77.616058%5D%2C%20%5B33.863422%2C%20-84.440086%5D%2C%20%5B33.83489%2C%20-118.28725%5D%2C%20%5B37.86623%2C%20-122.20657%5D%2C%20%5B45.58328%2C%20-92.9928%5D%2C%20%5B34.155743%2C%20-118.242271%5D%2C%20%5B29.78423%2C%20-95.53878%5D%2C%20%5B33.558701%2C%20-80.824287%5D%2C%20%5B38.87301%2C%20-77.24606%5D%2C%20%5B35.310051%2C%20-80.75308199999998%5D%2C%20%5B34.509369%2C%20-80.998032%5D%2C%20%5B30.37566%2C%20-86.296463%5D%2C%20%5B33.91048%2C%20-118.07056%5D%2C%20%5B33.778721000000004%2C%20-84.390709%5D%2C%20%5B38.677869%2C%20-121.839555%5D%2C%20%5B34.188919%2C%20-118.940224%5D%2C%20%5B36.327225%2C%20-82.369598%5D%2C%20%5B39.872765%2C%20-75.079544%5D%2C%20%5B33.74714%2C%20-117.1895%5D%2C%20%5B34.446869%2C%20-83.122452%5D%2C%20%5B41.96523300000001%2C%20-70.696159%5D%2C%20%5B39.545158%2C%20-112.360047%5D%2C%20%5B40.504372%2C%20-111.891251%5D%2C%20%5B33.814831%2C%20-84.39177099999998%5D%2C%20%5B25.764384%2C%20-80.33629300000003%5D%2C%20%5B35.508217%2C%20-78.346046%5D%2C%20%5B35.127373%2C%20-80.942696%5D%2C%20%5B41.67365%2C%20-71.09144%5D%2C%20%5B37.57371%2C%20-122.26222%5D%2C%20%5B32.867279%2C%20-97.065308%5D%2C%20%5B29.4387%2C%20-98.477654%5D%2C%20%5B37.99343%2C%20-122.10512%5D%2C%20%5B48.75645%2C%20-122.46178%5D%2C%20%5B38.06771%2C%20-84.47274%5D%2C%20%5B33.775738%2C%20-117.853043%5D%2C%20%5B34.092009000000004%2C%20-117.470649%5D%2C%20%5B39.03845%2C%20-94.67954%5D%2C%20%5B47.186032%2C%20-122.282842%5D%2C%20%5B33.497864%2C%20-117.149633%5D%2C%20%5B39.77108%2C%20-86.130638%5D%2C%20%5B38.395111%2C%20-121.933731%5D%2C%20%5B33.81588%2C%20-78.943812%5D%2C%20%5B38.474392%2C%20-121.418999%5D%2C%20%5B34.06762%2C%20-117.40948%5D%2C%20%5B29.772383%2C%20-95.365809%5D%2C%20%5B45.463287%2C%20-122.699455%5D%2C%20%5B30.637308%2C%20-87.674515%5D%2C%20%5B34.160057%2C%20-118.469612%5D%2C%20%5B47.47359%2C%20-121.899657%5D%2C%20%5B34.183413%2C%20-118.315516%5D%2C%20%5B40.216244%2C%20-76.074089%5D%2C%20%5B45.108295%2C%20-93.301262%5D%2C%20%5B39.883682%2C%20-76.31893199999998%5D%2C%20%5B39.847549%2C%20-75.021271%5D%2C%20%5B42.320576%2C%20-88.00457%5D%2C%20%5B34.853588%2C%20-82.38356%5D%2C%20%5B36.131795%2C%20-86.726772%5D%5D%2C%0A%20%20%20%20%20%20%20%20%20%20%20%20%20%20%20%20%7B%0A%20%20%20%20%20%20%20%20%20%20%20%20%20%20%20%20%20%20%20%20minOpacity%3A%200.5%2C%0A%20%20%20%20%20%20%20%20%20%20%20%20%20%20%20%20%20%20%20%20maxZoom%3A%2018%2C%0A%20%20%20%20%20%20%20%20%20%20%20%20%20%20%20%20%20%20%20%20max%3A%201.0%2C%0A%20%20%20%20%20%20%20%20%20%20%20%20%20%20%20%20%20%20%20%20radius%3A%2025%2C%0A%20%20%20%20%20%20%20%20%20%20%20%20%20%20%20%20%20%20%20%20blur%3A%2015%2C%0A%20%20%20%20%20%20%20%20%20%20%20%20%20%20%20%20%20%20%20%20gradient%3A%20null%0A%20%20%20%20%20%20%20%20%20%20%20%20%20%20%20%20%20%20%20%20%7D%29%0A%20%20%20%20%20%20%20%20%20%20%20%20%20%20%20%20.addTo%28map_7fc906af23544fc9b047ef403a5d8421%29%3B%0A%20%20%20%20%20%20%20%20%0A%3C/script%3E onload=\"this.contentDocument.open();this.contentDocument.write(    decodeURIComponent(this.getAttribute('data-html')));this.contentDocument.close();\" allowfullscreen webkitallowfullscreen mozallowfullscreen></iframe></div></div>"
            ],
            "text/plain": [
              "<folium.folium.Map at 0x7f38d00a59d0>"
            ]
          },
          "metadata": {
            "tags": []
          },
          "execution_count": 123
        }
      ]
    },
    {
      "cell_type": "markdown",
      "metadata": {
        "id": "m7ufMRWxWqNK"
      },
      "source": [
        "##Ask and Answer from above analysis\n",
        "\n",
        "1. Are there more accidents in warmer or colder areas?\n",
        "2. Which 10 states have the highest number of accidents? How about per capita?\n",
        "3. Does New York show up in the data? If yes why is the count lower besides it to be most populated city?\n",
        "4. Which state contains most cities wrt accidents? \n",
        "5. What time of the day are accidents most frequent in?\n",
        "6. Which days of the week have the most accidents?\n",
        "7. Which months have the most accidents?\n",
        "8. Can you explain the month wise trend for accidents?\n",
        "9. What is the trend of accidents year over year(decreasing or increasing)?\n",
        "\n"
      ]
    },
    {
      "cell_type": "markdown",
      "metadata": {
        "id": "2ddKqQcMW5i9"
      },
      "source": [
        "##Summary and Conclusion\n",
        "\n",
        "Insights :\n",
        "* No data from New York.\n",
        "* No of accident per city increases then decreases exponentially.\n",
        "* Less than 4.4% of cities have more than 1000 yearly accidents.\n",
        "* arround 1300 i.e. around 11% cities reported only one accident(need to investigate)\n",
        "* On weekends no of accidents are lesser compared to weekdays.\n"
      ]
    },
    {
      "cell_type": "code",
      "metadata": {
        "id": "pHwJkaIbszXV"
      },
      "source": [
        "import jovian"
      ],
      "execution_count": 126,
      "outputs": []
    },
    {
      "cell_type": "code",
      "metadata": {
        "id": "RV6cqCHStyQU",
        "outputId": "941e5bf6-81a6-48ee-e926-ef0bea43b7e1",
        "colab": {
          "base_uri": "https://localhost:8080/"
        }
      },
      "source": [
        "jovian.commit()"
      ],
      "execution_count": 128,
      "outputs": [
        {
          "output_type": "stream",
          "text": [
            "[jovian] Detected Colab notebook...\u001b[0m\n"
          ],
          "name": "stdout"
        },
        {
          "output_type": "stream",
          "text": [
            "\u001b[31m[jovian] Error: jovian.commit doesn't work on Colab unless the notebook was created and executed from Jovian.\n",
            "Make sure to run the first code cell at the top after executing from Jovian.\n",
            "Alternatively, you can download this notebook and upload it manually to Jovian.\n",
            "Learn more: https://jovian.ai/docs/user-guide/run.html#run-on-colab\u001b[0m\n"
          ],
          "name": "stderr"
        }
      ]
    }
  ]
}